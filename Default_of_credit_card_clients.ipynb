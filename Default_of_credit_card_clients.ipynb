{
  "nbformat": 4,
  "nbformat_minor": 0,
  "metadata": {
    "colab": {
      "provenance": [],
      "collapsed_sections": [
        "77xfG9Qtr37p",
        "4M-0tHfSt3YM",
        "c6JKeMGj2hpq",
        "gei8GQr43mWv",
        "Ps99_gFL3sn0",
        "drcq36uR9aaX",
        "62yKWEWk9hnJ",
        "eW3X1OL__IS4",
        "MnbZNYiQFQVK",
        "c0UOA9oPFdoj",
        "G2PqL2xsTXWm",
        "Rm0AMX02j2wl",
        "7ZnJPpodqk4w",
        "QEfsNk8ArS7Z",
        "hCsKjmhhtxwB",
        "aX5nDY6vuRhs",
        "xV_DWpTvuoij",
        "4WGN2o-3w2-K",
        "P06c__-Kw30J",
        "W6_wDhf4w3-3",
        "BHIODGCRw4Lx",
        "dhlhQzgVw4Vd",
        "2pDKXFXJyxbh",
        "B7wGbfKozAN-",
        "DTGTcMxJRUjz",
        "poEQjOl_f1sJ",
        "v3I5yggNj_6L",
        "r0H8jXAZlFsY",
        "W0cz2ntSn-eL",
        "UalCizjiqmPv",
        "_triAkJutYJa",
        "OTwthrGD0K11",
        "zbZ1pCPdUOLT",
        "yTTCaK0-VWhh",
        "rjsa6ZXvWUJS",
        "reK7STtuZvJm",
        "Y1Y-NiwqW3Oe",
        "Klra3KfcaarU",
        "OfyJylHPcATC",
        "pPF2NbxdclNp",
        "scqa43-JeFzb",
        "CFh9EiPFfZrt",
        "_IlIJGkOgZL8"
      ],
      "include_colab_link": true
    },
    "kernelspec": {
      "name": "python3",
      "display_name": "Python 3"
    },
    "language_info": {
      "name": "python"
    }
  },
  "cells": [
    {
      "cell_type": "markdown",
      "metadata": {
        "id": "view-in-github",
        "colab_type": "text"
      },
      "source": [
        "<a href=\"https://colab.research.google.com/github/Ritiksoni123/Banking-Credit-RIsk-Default-of-credit-card-clients/blob/main/Default_of_credit_card_clients.ipynb\" target=\"_parent\"><img src=\"https://colab.research.google.com/assets/colab-badge.svg\" alt=\"Open In Colab\"/></a>"
      ]
    },
    {
      "cell_type": "markdown",
      "source": [
        "# Problem Statement\n",
        "Data Link : \n",
        "https://www.kaggle.com/uciml/default-of-credit-card-clients-dataset\n",
        "\n",
        "# About Dataset\n",
        "\n",
        "# Dataset Information\n",
        "\n",
        "This dataset contains information on default payments, demographic factors, credit data, history of payment, and bill statements of credit card clients in Taiwan from April 2005 to September 2005.\n",
        "\n",
        "# Content\n",
        "There are 25 variables:\n",
        "\n",
        "\n",
        "*  ID: ID of each client\n",
        "*  LIMIT_BAL: Amount of given credit in NT dollars (includes individual and family/supplementary credit)\n",
        "*   SEX: Gender (1=male, 2=female)\n",
        "*   EDUCATION: (1=graduate school, 2=university, 3=high school, 4=others, 5=unknown, 6=unknown)\n",
        "*   MARRIAGE: Marital status (1=married, 2=single, 3=others)\n",
        "*   AGE: Age in years\n",
        "*   PAY_0: Repayment status in September, 2005 (-1=pay duly, 1=payment delay for one month, 2=payment delay for two months, … 8=payment delay for eight months, 9=payment delay for nine months and above)\n",
        "*   PAY_2: Repayment status in August, 2005 (scale same as above)\n",
        "*   PAY_3: Repayment status in July, 2005 (scale same as above)\n",
        "*   PAY_4: Repayment status in June, 2005 (scale same as above)\n",
        "*   PAY_5: Repayment status in May, 2005 (scale same as above)\n",
        "*   PAY_6: Repayment status in April, 2005 (scale same as above)\n",
        "*   BILL_AMT1: Amount of bill statement in September, 2005 (NT dollar)\n",
        "*   BILL_AMT2: Amount of bill statement in August, 2005 (NT dollar)\n",
        "*   BILL_AMT3: Amount of bill statement in July, 2005 (NT dollar)\n",
        "*   BILL_AMT4: Amount of bill statement in June, 2005 (NT dollar)\n",
        "*   BILL_AMT5: Amount of bill statement in May, 2005 (NT dollar)\n",
        "*   BILL_AMT6: Amount of bill statement in April, 2005 (NT dollar)\n",
        "*   PAY_AMT1: Amount of previous payment in September, 2005 (NT dollar)\n",
        "*   PAY_AMT2: Amount of previous payment in August, 2005 (NT dollar)\n",
        "*   PAY_AMT3: Amount of previous payment in July, 2005 (NT dollar)\n",
        "*   PAY_AMT4: Amount of previous payment in June, 2005 (NT dollar)\n",
        "*   PAY_AMT5: Amount of previous payment in May, 2005 (NT dollar)\n",
        "*   PAY_AMT6: Amount of previous payment in April, 2005 (NT dollar)\n",
        "*   default.payment.next.month: Default payment (1=yes, 0=no)\n",
        "\n",
        "# Inspiration\n",
        "\n",
        "Some ideas for exploration:\n",
        "\n",
        "How does the probability of default payment vary by categories of different demographic variables?\n",
        "Which variables are the strongest predictors of default payment?"
      ],
      "metadata": {
        "id": "U8MH55pyPizN"
      }
    },
    {
      "cell_type": "markdown",
      "source": [
        "# Project Objective\n",
        "\n",
        "Background Goal, Number of Resources, Business Impact, Time Taken"
      ],
      "metadata": {
        "id": "e2DVN2GZP9VM"
      }
    },
    {
      "cell_type": "markdown",
      "source": [
        "##Goal- To understand the problem faced by the banks when a credit card is being issued to the customers to avoid the problem of default.\n",
        "\n",
        "##To Understand wheather the credit card customer will make payment default in the next month or not based on number of features.\n",
        "\n",
        "No. of Resources - 1"
      ],
      "metadata": {
        "id": "EzAaJlFLwjyc"
      }
    },
    {
      "cell_type": "markdown",
      "source": [
        "# Download from Github"
      ],
      "metadata": {
        "id": "XJandKTNre_6"
      }
    },
    {
      "cell_type": "code",
      "source": [
        "import numpy as np\n",
        "import matplotlib.pyplot as plt \n",
        "import pandas as pd\n",
        "import seaborn as sns\n",
        "pd.options.display.max_columns = 26\n",
        "UCI_Credit_Card = pd.read_csv('https://raw.githubusercontent.com/Ritiksoni123/Banking-Credit-RIsk-Default-of-credit-card-clients/main/UCI_Credit_Card.csv')\n",
        "UCI_Credit_Card"
      ],
      "metadata": {
        "id": "D9aFOpP6QIrF",
        "collapsed": true,
        "colab": {
          "base_uri": "https://localhost:8080/",
          "height": 488
        },
        "outputId": "8d221847-8a15-44cd-c5bb-7c2164709e91"
      },
      "execution_count": null,
      "outputs": [
        {
          "output_type": "execute_result",
          "data": {
            "text/plain": [
              "          ID  LIMIT_BAL  SEX  EDUCATION  MARRIAGE  AGE  PAY_0  PAY_2  PAY_3  \\\n",
              "0          1    20000.0    2          2         1   24      2      2     -1   \n",
              "1          2   120000.0    2          2         2   26     -1      2      0   \n",
              "2          3    90000.0    2          2         2   34      0      0      0   \n",
              "3          4    50000.0    2          2         1   37      0      0      0   \n",
              "4          5    50000.0    1          2         1   57     -1      0     -1   \n",
              "...      ...        ...  ...        ...       ...  ...    ...    ...    ...   \n",
              "29995  29996   220000.0    1          3         1   39      0      0      0   \n",
              "29996  29997   150000.0    1          3         2   43     -1     -1     -1   \n",
              "29997  29998    30000.0    1          2         2   37      4      3      2   \n",
              "29998  29999    80000.0    1          3         1   41      1     -1      0   \n",
              "29999  30000    50000.0    1          2         1   46      0      0      0   \n",
              "\n",
              "       PAY_4  PAY_5  PAY_6  BILL_AMT1  BILL_AMT2  BILL_AMT3  BILL_AMT4  \\\n",
              "0         -1     -2     -2     3913.0     3102.0      689.0        0.0   \n",
              "1          0      0      2     2682.0     1725.0     2682.0     3272.0   \n",
              "2          0      0      0    29239.0    14027.0    13559.0    14331.0   \n",
              "3          0      0      0    46990.0    48233.0    49291.0    28314.0   \n",
              "4          0      0      0     8617.0     5670.0    35835.0    20940.0   \n",
              "...      ...    ...    ...        ...        ...        ...        ...   \n",
              "29995      0      0      0   188948.0   192815.0   208365.0    88004.0   \n",
              "29996     -1      0      0     1683.0     1828.0     3502.0     8979.0   \n",
              "29997     -1      0      0     3565.0     3356.0     2758.0    20878.0   \n",
              "29998      0      0     -1    -1645.0    78379.0    76304.0    52774.0   \n",
              "29999      0      0      0    47929.0    48905.0    49764.0    36535.0   \n",
              "\n",
              "       BILL_AMT5  BILL_AMT6  PAY_AMT1  PAY_AMT2  PAY_AMT3  PAY_AMT4  PAY_AMT5  \\\n",
              "0            0.0        0.0       0.0     689.0       0.0       0.0       0.0   \n",
              "1         3455.0     3261.0       0.0    1000.0    1000.0    1000.0       0.0   \n",
              "2        14948.0    15549.0    1518.0    1500.0    1000.0    1000.0    1000.0   \n",
              "3        28959.0    29547.0    2000.0    2019.0    1200.0    1100.0    1069.0   \n",
              "4        19146.0    19131.0    2000.0   36681.0   10000.0    9000.0     689.0   \n",
              "...          ...        ...       ...       ...       ...       ...       ...   \n",
              "29995    31237.0    15980.0    8500.0   20000.0    5003.0    3047.0    5000.0   \n",
              "29996     5190.0        0.0    1837.0    3526.0    8998.0     129.0       0.0   \n",
              "29997    20582.0    19357.0       0.0       0.0   22000.0    4200.0    2000.0   \n",
              "29998    11855.0    48944.0   85900.0    3409.0    1178.0    1926.0   52964.0   \n",
              "29999    32428.0    15313.0    2078.0    1800.0    1430.0    1000.0    1000.0   \n",
              "\n",
              "       PAY_AMT6  default.payment.next.month  \n",
              "0           0.0                           1  \n",
              "1        2000.0                           1  \n",
              "2        5000.0                           0  \n",
              "3        1000.0                           0  \n",
              "4         679.0                           0  \n",
              "...         ...                         ...  \n",
              "29995    1000.0                           0  \n",
              "29996       0.0                           0  \n",
              "29997    3100.0                           1  \n",
              "29998    1804.0                           1  \n",
              "29999    1000.0                           1  \n",
              "\n",
              "[30000 rows x 25 columns]"
            ],
            "text/html": [
              "\n",
              "  <div id=\"df-ea738572-423a-41d4-a2c0-bd8463f3ac5e\">\n",
              "    <div class=\"colab-df-container\">\n",
              "      <div>\n",
              "<style scoped>\n",
              "    .dataframe tbody tr th:only-of-type {\n",
              "        vertical-align: middle;\n",
              "    }\n",
              "\n",
              "    .dataframe tbody tr th {\n",
              "        vertical-align: top;\n",
              "    }\n",
              "\n",
              "    .dataframe thead th {\n",
              "        text-align: right;\n",
              "    }\n",
              "</style>\n",
              "<table border=\"1\" class=\"dataframe\">\n",
              "  <thead>\n",
              "    <tr style=\"text-align: right;\">\n",
              "      <th></th>\n",
              "      <th>ID</th>\n",
              "      <th>LIMIT_BAL</th>\n",
              "      <th>SEX</th>\n",
              "      <th>EDUCATION</th>\n",
              "      <th>MARRIAGE</th>\n",
              "      <th>AGE</th>\n",
              "      <th>PAY_0</th>\n",
              "      <th>PAY_2</th>\n",
              "      <th>PAY_3</th>\n",
              "      <th>PAY_4</th>\n",
              "      <th>PAY_5</th>\n",
              "      <th>PAY_6</th>\n",
              "      <th>BILL_AMT1</th>\n",
              "      <th>BILL_AMT2</th>\n",
              "      <th>BILL_AMT3</th>\n",
              "      <th>BILL_AMT4</th>\n",
              "      <th>BILL_AMT5</th>\n",
              "      <th>BILL_AMT6</th>\n",
              "      <th>PAY_AMT1</th>\n",
              "      <th>PAY_AMT2</th>\n",
              "      <th>PAY_AMT3</th>\n",
              "      <th>PAY_AMT4</th>\n",
              "      <th>PAY_AMT5</th>\n",
              "      <th>PAY_AMT6</th>\n",
              "      <th>default.payment.next.month</th>\n",
              "    </tr>\n",
              "  </thead>\n",
              "  <tbody>\n",
              "    <tr>\n",
              "      <th>0</th>\n",
              "      <td>1</td>\n",
              "      <td>20000.0</td>\n",
              "      <td>2</td>\n",
              "      <td>2</td>\n",
              "      <td>1</td>\n",
              "      <td>24</td>\n",
              "      <td>2</td>\n",
              "      <td>2</td>\n",
              "      <td>-1</td>\n",
              "      <td>-1</td>\n",
              "      <td>-2</td>\n",
              "      <td>-2</td>\n",
              "      <td>3913.0</td>\n",
              "      <td>3102.0</td>\n",
              "      <td>689.0</td>\n",
              "      <td>0.0</td>\n",
              "      <td>0.0</td>\n",
              "      <td>0.0</td>\n",
              "      <td>0.0</td>\n",
              "      <td>689.0</td>\n",
              "      <td>0.0</td>\n",
              "      <td>0.0</td>\n",
              "      <td>0.0</td>\n",
              "      <td>0.0</td>\n",
              "      <td>1</td>\n",
              "    </tr>\n",
              "    <tr>\n",
              "      <th>1</th>\n",
              "      <td>2</td>\n",
              "      <td>120000.0</td>\n",
              "      <td>2</td>\n",
              "      <td>2</td>\n",
              "      <td>2</td>\n",
              "      <td>26</td>\n",
              "      <td>-1</td>\n",
              "      <td>2</td>\n",
              "      <td>0</td>\n",
              "      <td>0</td>\n",
              "      <td>0</td>\n",
              "      <td>2</td>\n",
              "      <td>2682.0</td>\n",
              "      <td>1725.0</td>\n",
              "      <td>2682.0</td>\n",
              "      <td>3272.0</td>\n",
              "      <td>3455.0</td>\n",
              "      <td>3261.0</td>\n",
              "      <td>0.0</td>\n",
              "      <td>1000.0</td>\n",
              "      <td>1000.0</td>\n",
              "      <td>1000.0</td>\n",
              "      <td>0.0</td>\n",
              "      <td>2000.0</td>\n",
              "      <td>1</td>\n",
              "    </tr>\n",
              "    <tr>\n",
              "      <th>2</th>\n",
              "      <td>3</td>\n",
              "      <td>90000.0</td>\n",
              "      <td>2</td>\n",
              "      <td>2</td>\n",
              "      <td>2</td>\n",
              "      <td>34</td>\n",
              "      <td>0</td>\n",
              "      <td>0</td>\n",
              "      <td>0</td>\n",
              "      <td>0</td>\n",
              "      <td>0</td>\n",
              "      <td>0</td>\n",
              "      <td>29239.0</td>\n",
              "      <td>14027.0</td>\n",
              "      <td>13559.0</td>\n",
              "      <td>14331.0</td>\n",
              "      <td>14948.0</td>\n",
              "      <td>15549.0</td>\n",
              "      <td>1518.0</td>\n",
              "      <td>1500.0</td>\n",
              "      <td>1000.0</td>\n",
              "      <td>1000.0</td>\n",
              "      <td>1000.0</td>\n",
              "      <td>5000.0</td>\n",
              "      <td>0</td>\n",
              "    </tr>\n",
              "    <tr>\n",
              "      <th>3</th>\n",
              "      <td>4</td>\n",
              "      <td>50000.0</td>\n",
              "      <td>2</td>\n",
              "      <td>2</td>\n",
              "      <td>1</td>\n",
              "      <td>37</td>\n",
              "      <td>0</td>\n",
              "      <td>0</td>\n",
              "      <td>0</td>\n",
              "      <td>0</td>\n",
              "      <td>0</td>\n",
              "      <td>0</td>\n",
              "      <td>46990.0</td>\n",
              "      <td>48233.0</td>\n",
              "      <td>49291.0</td>\n",
              "      <td>28314.0</td>\n",
              "      <td>28959.0</td>\n",
              "      <td>29547.0</td>\n",
              "      <td>2000.0</td>\n",
              "      <td>2019.0</td>\n",
              "      <td>1200.0</td>\n",
              "      <td>1100.0</td>\n",
              "      <td>1069.0</td>\n",
              "      <td>1000.0</td>\n",
              "      <td>0</td>\n",
              "    </tr>\n",
              "    <tr>\n",
              "      <th>4</th>\n",
              "      <td>5</td>\n",
              "      <td>50000.0</td>\n",
              "      <td>1</td>\n",
              "      <td>2</td>\n",
              "      <td>1</td>\n",
              "      <td>57</td>\n",
              "      <td>-1</td>\n",
              "      <td>0</td>\n",
              "      <td>-1</td>\n",
              "      <td>0</td>\n",
              "      <td>0</td>\n",
              "      <td>0</td>\n",
              "      <td>8617.0</td>\n",
              "      <td>5670.0</td>\n",
              "      <td>35835.0</td>\n",
              "      <td>20940.0</td>\n",
              "      <td>19146.0</td>\n",
              "      <td>19131.0</td>\n",
              "      <td>2000.0</td>\n",
              "      <td>36681.0</td>\n",
              "      <td>10000.0</td>\n",
              "      <td>9000.0</td>\n",
              "      <td>689.0</td>\n",
              "      <td>679.0</td>\n",
              "      <td>0</td>\n",
              "    </tr>\n",
              "    <tr>\n",
              "      <th>...</th>\n",
              "      <td>...</td>\n",
              "      <td>...</td>\n",
              "      <td>...</td>\n",
              "      <td>...</td>\n",
              "      <td>...</td>\n",
              "      <td>...</td>\n",
              "      <td>...</td>\n",
              "      <td>...</td>\n",
              "      <td>...</td>\n",
              "      <td>...</td>\n",
              "      <td>...</td>\n",
              "      <td>...</td>\n",
              "      <td>...</td>\n",
              "      <td>...</td>\n",
              "      <td>...</td>\n",
              "      <td>...</td>\n",
              "      <td>...</td>\n",
              "      <td>...</td>\n",
              "      <td>...</td>\n",
              "      <td>...</td>\n",
              "      <td>...</td>\n",
              "      <td>...</td>\n",
              "      <td>...</td>\n",
              "      <td>...</td>\n",
              "      <td>...</td>\n",
              "    </tr>\n",
              "    <tr>\n",
              "      <th>29995</th>\n",
              "      <td>29996</td>\n",
              "      <td>220000.0</td>\n",
              "      <td>1</td>\n",
              "      <td>3</td>\n",
              "      <td>1</td>\n",
              "      <td>39</td>\n",
              "      <td>0</td>\n",
              "      <td>0</td>\n",
              "      <td>0</td>\n",
              "      <td>0</td>\n",
              "      <td>0</td>\n",
              "      <td>0</td>\n",
              "      <td>188948.0</td>\n",
              "      <td>192815.0</td>\n",
              "      <td>208365.0</td>\n",
              "      <td>88004.0</td>\n",
              "      <td>31237.0</td>\n",
              "      <td>15980.0</td>\n",
              "      <td>8500.0</td>\n",
              "      <td>20000.0</td>\n",
              "      <td>5003.0</td>\n",
              "      <td>3047.0</td>\n",
              "      <td>5000.0</td>\n",
              "      <td>1000.0</td>\n",
              "      <td>0</td>\n",
              "    </tr>\n",
              "    <tr>\n",
              "      <th>29996</th>\n",
              "      <td>29997</td>\n",
              "      <td>150000.0</td>\n",
              "      <td>1</td>\n",
              "      <td>3</td>\n",
              "      <td>2</td>\n",
              "      <td>43</td>\n",
              "      <td>-1</td>\n",
              "      <td>-1</td>\n",
              "      <td>-1</td>\n",
              "      <td>-1</td>\n",
              "      <td>0</td>\n",
              "      <td>0</td>\n",
              "      <td>1683.0</td>\n",
              "      <td>1828.0</td>\n",
              "      <td>3502.0</td>\n",
              "      <td>8979.0</td>\n",
              "      <td>5190.0</td>\n",
              "      <td>0.0</td>\n",
              "      <td>1837.0</td>\n",
              "      <td>3526.0</td>\n",
              "      <td>8998.0</td>\n",
              "      <td>129.0</td>\n",
              "      <td>0.0</td>\n",
              "      <td>0.0</td>\n",
              "      <td>0</td>\n",
              "    </tr>\n",
              "    <tr>\n",
              "      <th>29997</th>\n",
              "      <td>29998</td>\n",
              "      <td>30000.0</td>\n",
              "      <td>1</td>\n",
              "      <td>2</td>\n",
              "      <td>2</td>\n",
              "      <td>37</td>\n",
              "      <td>4</td>\n",
              "      <td>3</td>\n",
              "      <td>2</td>\n",
              "      <td>-1</td>\n",
              "      <td>0</td>\n",
              "      <td>0</td>\n",
              "      <td>3565.0</td>\n",
              "      <td>3356.0</td>\n",
              "      <td>2758.0</td>\n",
              "      <td>20878.0</td>\n",
              "      <td>20582.0</td>\n",
              "      <td>19357.0</td>\n",
              "      <td>0.0</td>\n",
              "      <td>0.0</td>\n",
              "      <td>22000.0</td>\n",
              "      <td>4200.0</td>\n",
              "      <td>2000.0</td>\n",
              "      <td>3100.0</td>\n",
              "      <td>1</td>\n",
              "    </tr>\n",
              "    <tr>\n",
              "      <th>29998</th>\n",
              "      <td>29999</td>\n",
              "      <td>80000.0</td>\n",
              "      <td>1</td>\n",
              "      <td>3</td>\n",
              "      <td>1</td>\n",
              "      <td>41</td>\n",
              "      <td>1</td>\n",
              "      <td>-1</td>\n",
              "      <td>0</td>\n",
              "      <td>0</td>\n",
              "      <td>0</td>\n",
              "      <td>-1</td>\n",
              "      <td>-1645.0</td>\n",
              "      <td>78379.0</td>\n",
              "      <td>76304.0</td>\n",
              "      <td>52774.0</td>\n",
              "      <td>11855.0</td>\n",
              "      <td>48944.0</td>\n",
              "      <td>85900.0</td>\n",
              "      <td>3409.0</td>\n",
              "      <td>1178.0</td>\n",
              "      <td>1926.0</td>\n",
              "      <td>52964.0</td>\n",
              "      <td>1804.0</td>\n",
              "      <td>1</td>\n",
              "    </tr>\n",
              "    <tr>\n",
              "      <th>29999</th>\n",
              "      <td>30000</td>\n",
              "      <td>50000.0</td>\n",
              "      <td>1</td>\n",
              "      <td>2</td>\n",
              "      <td>1</td>\n",
              "      <td>46</td>\n",
              "      <td>0</td>\n",
              "      <td>0</td>\n",
              "      <td>0</td>\n",
              "      <td>0</td>\n",
              "      <td>0</td>\n",
              "      <td>0</td>\n",
              "      <td>47929.0</td>\n",
              "      <td>48905.0</td>\n",
              "      <td>49764.0</td>\n",
              "      <td>36535.0</td>\n",
              "      <td>32428.0</td>\n",
              "      <td>15313.0</td>\n",
              "      <td>2078.0</td>\n",
              "      <td>1800.0</td>\n",
              "      <td>1430.0</td>\n",
              "      <td>1000.0</td>\n",
              "      <td>1000.0</td>\n",
              "      <td>1000.0</td>\n",
              "      <td>1</td>\n",
              "    </tr>\n",
              "  </tbody>\n",
              "</table>\n",
              "<p>30000 rows × 25 columns</p>\n",
              "</div>\n",
              "      <button class=\"colab-df-convert\" onclick=\"convertToInteractive('df-ea738572-423a-41d4-a2c0-bd8463f3ac5e')\"\n",
              "              title=\"Convert this dataframe to an interactive table.\"\n",
              "              style=\"display:none;\">\n",
              "        \n",
              "  <svg xmlns=\"http://www.w3.org/2000/svg\" height=\"24px\"viewBox=\"0 0 24 24\"\n",
              "       width=\"24px\">\n",
              "    <path d=\"M0 0h24v24H0V0z\" fill=\"none\"/>\n",
              "    <path d=\"M18.56 5.44l.94 2.06.94-2.06 2.06-.94-2.06-.94-.94-2.06-.94 2.06-2.06.94zm-11 1L8.5 8.5l.94-2.06 2.06-.94-2.06-.94L8.5 2.5l-.94 2.06-2.06.94zm10 10l.94 2.06.94-2.06 2.06-.94-2.06-.94-.94-2.06-.94 2.06-2.06.94z\"/><path d=\"M17.41 7.96l-1.37-1.37c-.4-.4-.92-.59-1.43-.59-.52 0-1.04.2-1.43.59L10.3 9.45l-7.72 7.72c-.78.78-.78 2.05 0 2.83L4 21.41c.39.39.9.59 1.41.59.51 0 1.02-.2 1.41-.59l7.78-7.78 2.81-2.81c.8-.78.8-2.07 0-2.86zM5.41 20L4 18.59l7.72-7.72 1.47 1.35L5.41 20z\"/>\n",
              "  </svg>\n",
              "      </button>\n",
              "      \n",
              "  <style>\n",
              "    .colab-df-container {\n",
              "      display:flex;\n",
              "      flex-wrap:wrap;\n",
              "      gap: 12px;\n",
              "    }\n",
              "\n",
              "    .colab-df-convert {\n",
              "      background-color: #E8F0FE;\n",
              "      border: none;\n",
              "      border-radius: 50%;\n",
              "      cursor: pointer;\n",
              "      display: none;\n",
              "      fill: #1967D2;\n",
              "      height: 32px;\n",
              "      padding: 0 0 0 0;\n",
              "      width: 32px;\n",
              "    }\n",
              "\n",
              "    .colab-df-convert:hover {\n",
              "      background-color: #E2EBFA;\n",
              "      box-shadow: 0px 1px 2px rgba(60, 64, 67, 0.3), 0px 1px 3px 1px rgba(60, 64, 67, 0.15);\n",
              "      fill: #174EA6;\n",
              "    }\n",
              "\n",
              "    [theme=dark] .colab-df-convert {\n",
              "      background-color: #3B4455;\n",
              "      fill: #D2E3FC;\n",
              "    }\n",
              "\n",
              "    [theme=dark] .colab-df-convert:hover {\n",
              "      background-color: #434B5C;\n",
              "      box-shadow: 0px 1px 3px 1px rgba(0, 0, 0, 0.15);\n",
              "      filter: drop-shadow(0px 1px 2px rgba(0, 0, 0, 0.3));\n",
              "      fill: #FFFFFF;\n",
              "    }\n",
              "  </style>\n",
              "\n",
              "      <script>\n",
              "        const buttonEl =\n",
              "          document.querySelector('#df-ea738572-423a-41d4-a2c0-bd8463f3ac5e button.colab-df-convert');\n",
              "        buttonEl.style.display =\n",
              "          google.colab.kernel.accessAllowed ? 'block' : 'none';\n",
              "\n",
              "        async function convertToInteractive(key) {\n",
              "          const element = document.querySelector('#df-ea738572-423a-41d4-a2c0-bd8463f3ac5e');\n",
              "          const dataTable =\n",
              "            await google.colab.kernel.invokeFunction('convertToInteractive',\n",
              "                                                     [key], {});\n",
              "          if (!dataTable) return;\n",
              "\n",
              "          const docLinkHtml = 'Like what you see? Visit the ' +\n",
              "            '<a target=\"_blank\" href=https://colab.research.google.com/notebooks/data_table.ipynb>data table notebook</a>'\n",
              "            + ' to learn more about interactive tables.';\n",
              "          element.innerHTML = '';\n",
              "          dataTable['output_type'] = 'display_data';\n",
              "          await google.colab.output.renderOutput(dataTable, element);\n",
              "          const docLink = document.createElement('div');\n",
              "          docLink.innerHTML = docLinkHtml;\n",
              "          element.appendChild(docLink);\n",
              "        }\n",
              "      </script>\n",
              "    </div>\n",
              "  </div>\n",
              "  "
            ]
          },
          "metadata": {},
          "execution_count": 1
        }
      ]
    },
    {
      "cell_type": "markdown",
      "source": [
        "#Data Exploration"
      ],
      "metadata": {
        "id": "77xfG9Qtr37p"
      }
    },
    {
      "cell_type": "code",
      "source": [
        "#basic info about data frame\n",
        "UCI_Credit_Card.info()"
      ],
      "metadata": {
        "id": "cSbbBFs1FufJ",
        "colab": {
          "base_uri": "https://localhost:8080/"
        },
        "outputId": "7695f422-a34c-4ec6-8b24-5d8b68bbaed8"
      },
      "execution_count": null,
      "outputs": [
        {
          "output_type": "stream",
          "name": "stdout",
          "text": [
            "<class 'pandas.core.frame.DataFrame'>\n",
            "RangeIndex: 30000 entries, 0 to 29999\n",
            "Data columns (total 25 columns):\n",
            " #   Column                      Non-Null Count  Dtype  \n",
            "---  ------                      --------------  -----  \n",
            " 0   ID                          30000 non-null  int64  \n",
            " 1   LIMIT_BAL                   30000 non-null  float64\n",
            " 2   SEX                         30000 non-null  int64  \n",
            " 3   EDUCATION                   30000 non-null  int64  \n",
            " 4   MARRIAGE                    30000 non-null  int64  \n",
            " 5   AGE                         30000 non-null  int64  \n",
            " 6   PAY_0                       30000 non-null  int64  \n",
            " 7   PAY_2                       30000 non-null  int64  \n",
            " 8   PAY_3                       30000 non-null  int64  \n",
            " 9   PAY_4                       30000 non-null  int64  \n",
            " 10  PAY_5                       30000 non-null  int64  \n",
            " 11  PAY_6                       30000 non-null  int64  \n",
            " 12  BILL_AMT1                   30000 non-null  float64\n",
            " 13  BILL_AMT2                   30000 non-null  float64\n",
            " 14  BILL_AMT3                   30000 non-null  float64\n",
            " 15  BILL_AMT4                   30000 non-null  float64\n",
            " 16  BILL_AMT5                   30000 non-null  float64\n",
            " 17  BILL_AMT6                   30000 non-null  float64\n",
            " 18  PAY_AMT1                    30000 non-null  float64\n",
            " 19  PAY_AMT2                    30000 non-null  float64\n",
            " 20  PAY_AMT3                    30000 non-null  float64\n",
            " 21  PAY_AMT4                    30000 non-null  float64\n",
            " 22  PAY_AMT5                    30000 non-null  float64\n",
            " 23  PAY_AMT6                    30000 non-null  float64\n",
            " 24  default.payment.next.month  30000 non-null  int64  \n",
            "dtypes: float64(13), int64(12)\n",
            "memory usage: 5.7 MB\n"
          ]
        }
      ]
    },
    {
      "cell_type": "code",
      "source": [
        "#Know the number of rows and columns\n",
        "UCI_Credit_Card.shape"
      ],
      "metadata": {
        "id": "xChbAYKGdqT6",
        "colab": {
          "base_uri": "https://localhost:8080/"
        },
        "outputId": "6eb7a1ea-e09e-4224-d1cf-aa79d227b281"
      },
      "execution_count": null,
      "outputs": [
        {
          "output_type": "execute_result",
          "data": {
            "text/plain": [
              "(30000, 25)"
            ]
          },
          "metadata": {},
          "execution_count": 3
        }
      ]
    },
    {
      "cell_type": "code",
      "source": [
        "#know unique identifier \"ID\"\n",
        "UCI_Credit_Card.columns.values"
      ],
      "metadata": {
        "id": "7BpQ0MCldp2m",
        "colab": {
          "base_uri": "https://localhost:8080/"
        },
        "outputId": "c156b6b4-34f1-4ad5-e91b-11433a25fbff"
      },
      "execution_count": null,
      "outputs": [
        {
          "output_type": "execute_result",
          "data": {
            "text/plain": [
              "array(['ID', 'LIMIT_BAL', 'SEX', 'EDUCATION', 'MARRIAGE', 'AGE', 'PAY_0',\n",
              "       'PAY_2', 'PAY_3', 'PAY_4', 'PAY_5', 'PAY_6', 'BILL_AMT1',\n",
              "       'BILL_AMT2', 'BILL_AMT3', 'BILL_AMT4', 'BILL_AMT5', 'BILL_AMT6',\n",
              "       'PAY_AMT1', 'PAY_AMT2', 'PAY_AMT3', 'PAY_AMT4', 'PAY_AMT5',\n",
              "       'PAY_AMT6', 'default.payment.next.month'], dtype=object)"
            ]
          },
          "metadata": {},
          "execution_count": 4
        }
      ]
    },
    {
      "cell_type": "code",
      "source": [
        "#to know Data type in variable \n",
        "UCI_Credit_Card.dtypes"
      ],
      "metadata": {
        "id": "j3CDvjYxdpoy",
        "colab": {
          "base_uri": "https://localhost:8080/"
        },
        "outputId": "1a332d5b-b82c-4bcc-dac6-112b7549e3c6"
      },
      "execution_count": null,
      "outputs": [
        {
          "output_type": "execute_result",
          "data": {
            "text/plain": [
              "ID                              int64\n",
              "LIMIT_BAL                     float64\n",
              "SEX                             int64\n",
              "EDUCATION                       int64\n",
              "MARRIAGE                        int64\n",
              "AGE                             int64\n",
              "PAY_0                           int64\n",
              "PAY_2                           int64\n",
              "PAY_3                           int64\n",
              "PAY_4                           int64\n",
              "PAY_5                           int64\n",
              "PAY_6                           int64\n",
              "BILL_AMT1                     float64\n",
              "BILL_AMT2                     float64\n",
              "BILL_AMT3                     float64\n",
              "BILL_AMT4                     float64\n",
              "BILL_AMT5                     float64\n",
              "BILL_AMT6                     float64\n",
              "PAY_AMT1                      float64\n",
              "PAY_AMT2                      float64\n",
              "PAY_AMT3                      float64\n",
              "PAY_AMT4                      float64\n",
              "PAY_AMT5                      float64\n",
              "PAY_AMT6                      float64\n",
              "default.payment.next.month      int64\n",
              "dtype: object"
            ]
          },
          "metadata": {},
          "execution_count": 5
        }
      ]
    },
    {
      "cell_type": "code",
      "source": [
        "#top 10 observation \n",
        "UCI_Credit_Card.head(10)"
      ],
      "metadata": {
        "id": "-mqjFG45dpJU",
        "colab": {
          "base_uri": "https://localhost:8080/",
          "height": 427
        },
        "outputId": "0b7d809a-3ea6-40d0-eaa7-dbca18b07657"
      },
      "execution_count": null,
      "outputs": [
        {
          "output_type": "execute_result",
          "data": {
            "text/plain": [
              "   ID  LIMIT_BAL  SEX  EDUCATION  MARRIAGE  AGE  PAY_0  PAY_2  PAY_3  PAY_4  \\\n",
              "0   1    20000.0    2          2         1   24      2      2     -1     -1   \n",
              "1   2   120000.0    2          2         2   26     -1      2      0      0   \n",
              "2   3    90000.0    2          2         2   34      0      0      0      0   \n",
              "3   4    50000.0    2          2         1   37      0      0      0      0   \n",
              "4   5    50000.0    1          2         1   57     -1      0     -1      0   \n",
              "5   6    50000.0    1          1         2   37      0      0      0      0   \n",
              "6   7   500000.0    1          1         2   29      0      0      0      0   \n",
              "7   8   100000.0    2          2         2   23      0     -1     -1      0   \n",
              "8   9   140000.0    2          3         1   28      0      0      2      0   \n",
              "9  10    20000.0    1          3         2   35     -2     -2     -2     -2   \n",
              "\n",
              "   PAY_5  PAY_6  BILL_AMT1  BILL_AMT2  BILL_AMT3  BILL_AMT4  BILL_AMT5  \\\n",
              "0     -2     -2     3913.0     3102.0      689.0        0.0        0.0   \n",
              "1      0      2     2682.0     1725.0     2682.0     3272.0     3455.0   \n",
              "2      0      0    29239.0    14027.0    13559.0    14331.0    14948.0   \n",
              "3      0      0    46990.0    48233.0    49291.0    28314.0    28959.0   \n",
              "4      0      0     8617.0     5670.0    35835.0    20940.0    19146.0   \n",
              "5      0      0    64400.0    57069.0    57608.0    19394.0    19619.0   \n",
              "6      0      0   367965.0   412023.0   445007.0   542653.0   483003.0   \n",
              "7      0     -1    11876.0      380.0      601.0      221.0     -159.0   \n",
              "8      0      0    11285.0    14096.0    12108.0    12211.0    11793.0   \n",
              "9     -1     -1        0.0        0.0        0.0        0.0    13007.0   \n",
              "\n",
              "   BILL_AMT6  PAY_AMT1  PAY_AMT2  PAY_AMT3  PAY_AMT4  PAY_AMT5  PAY_AMT6  \\\n",
              "0        0.0       0.0     689.0       0.0       0.0       0.0       0.0   \n",
              "1     3261.0       0.0    1000.0    1000.0    1000.0       0.0    2000.0   \n",
              "2    15549.0    1518.0    1500.0    1000.0    1000.0    1000.0    5000.0   \n",
              "3    29547.0    2000.0    2019.0    1200.0    1100.0    1069.0    1000.0   \n",
              "4    19131.0    2000.0   36681.0   10000.0    9000.0     689.0     679.0   \n",
              "5    20024.0    2500.0    1815.0     657.0    1000.0    1000.0     800.0   \n",
              "6   473944.0   55000.0   40000.0   38000.0   20239.0   13750.0   13770.0   \n",
              "7      567.0     380.0     601.0       0.0     581.0    1687.0    1542.0   \n",
              "8     3719.0    3329.0       0.0     432.0    1000.0    1000.0    1000.0   \n",
              "9    13912.0       0.0       0.0       0.0   13007.0    1122.0       0.0   \n",
              "\n",
              "   default.payment.next.month  \n",
              "0                           1  \n",
              "1                           1  \n",
              "2                           0  \n",
              "3                           0  \n",
              "4                           0  \n",
              "5                           0  \n",
              "6                           0  \n",
              "7                           0  \n",
              "8                           0  \n",
              "9                           0  "
            ],
            "text/html": [
              "\n",
              "  <div id=\"df-63b7e280-9bf1-439c-abf1-36829d3603cf\">\n",
              "    <div class=\"colab-df-container\">\n",
              "      <div>\n",
              "<style scoped>\n",
              "    .dataframe tbody tr th:only-of-type {\n",
              "        vertical-align: middle;\n",
              "    }\n",
              "\n",
              "    .dataframe tbody tr th {\n",
              "        vertical-align: top;\n",
              "    }\n",
              "\n",
              "    .dataframe thead th {\n",
              "        text-align: right;\n",
              "    }\n",
              "</style>\n",
              "<table border=\"1\" class=\"dataframe\">\n",
              "  <thead>\n",
              "    <tr style=\"text-align: right;\">\n",
              "      <th></th>\n",
              "      <th>ID</th>\n",
              "      <th>LIMIT_BAL</th>\n",
              "      <th>SEX</th>\n",
              "      <th>EDUCATION</th>\n",
              "      <th>MARRIAGE</th>\n",
              "      <th>AGE</th>\n",
              "      <th>PAY_0</th>\n",
              "      <th>PAY_2</th>\n",
              "      <th>PAY_3</th>\n",
              "      <th>PAY_4</th>\n",
              "      <th>PAY_5</th>\n",
              "      <th>PAY_6</th>\n",
              "      <th>BILL_AMT1</th>\n",
              "      <th>BILL_AMT2</th>\n",
              "      <th>BILL_AMT3</th>\n",
              "      <th>BILL_AMT4</th>\n",
              "      <th>BILL_AMT5</th>\n",
              "      <th>BILL_AMT6</th>\n",
              "      <th>PAY_AMT1</th>\n",
              "      <th>PAY_AMT2</th>\n",
              "      <th>PAY_AMT3</th>\n",
              "      <th>PAY_AMT4</th>\n",
              "      <th>PAY_AMT5</th>\n",
              "      <th>PAY_AMT6</th>\n",
              "      <th>default.payment.next.month</th>\n",
              "    </tr>\n",
              "  </thead>\n",
              "  <tbody>\n",
              "    <tr>\n",
              "      <th>0</th>\n",
              "      <td>1</td>\n",
              "      <td>20000.0</td>\n",
              "      <td>2</td>\n",
              "      <td>2</td>\n",
              "      <td>1</td>\n",
              "      <td>24</td>\n",
              "      <td>2</td>\n",
              "      <td>2</td>\n",
              "      <td>-1</td>\n",
              "      <td>-1</td>\n",
              "      <td>-2</td>\n",
              "      <td>-2</td>\n",
              "      <td>3913.0</td>\n",
              "      <td>3102.0</td>\n",
              "      <td>689.0</td>\n",
              "      <td>0.0</td>\n",
              "      <td>0.0</td>\n",
              "      <td>0.0</td>\n",
              "      <td>0.0</td>\n",
              "      <td>689.0</td>\n",
              "      <td>0.0</td>\n",
              "      <td>0.0</td>\n",
              "      <td>0.0</td>\n",
              "      <td>0.0</td>\n",
              "      <td>1</td>\n",
              "    </tr>\n",
              "    <tr>\n",
              "      <th>1</th>\n",
              "      <td>2</td>\n",
              "      <td>120000.0</td>\n",
              "      <td>2</td>\n",
              "      <td>2</td>\n",
              "      <td>2</td>\n",
              "      <td>26</td>\n",
              "      <td>-1</td>\n",
              "      <td>2</td>\n",
              "      <td>0</td>\n",
              "      <td>0</td>\n",
              "      <td>0</td>\n",
              "      <td>2</td>\n",
              "      <td>2682.0</td>\n",
              "      <td>1725.0</td>\n",
              "      <td>2682.0</td>\n",
              "      <td>3272.0</td>\n",
              "      <td>3455.0</td>\n",
              "      <td>3261.0</td>\n",
              "      <td>0.0</td>\n",
              "      <td>1000.0</td>\n",
              "      <td>1000.0</td>\n",
              "      <td>1000.0</td>\n",
              "      <td>0.0</td>\n",
              "      <td>2000.0</td>\n",
              "      <td>1</td>\n",
              "    </tr>\n",
              "    <tr>\n",
              "      <th>2</th>\n",
              "      <td>3</td>\n",
              "      <td>90000.0</td>\n",
              "      <td>2</td>\n",
              "      <td>2</td>\n",
              "      <td>2</td>\n",
              "      <td>34</td>\n",
              "      <td>0</td>\n",
              "      <td>0</td>\n",
              "      <td>0</td>\n",
              "      <td>0</td>\n",
              "      <td>0</td>\n",
              "      <td>0</td>\n",
              "      <td>29239.0</td>\n",
              "      <td>14027.0</td>\n",
              "      <td>13559.0</td>\n",
              "      <td>14331.0</td>\n",
              "      <td>14948.0</td>\n",
              "      <td>15549.0</td>\n",
              "      <td>1518.0</td>\n",
              "      <td>1500.0</td>\n",
              "      <td>1000.0</td>\n",
              "      <td>1000.0</td>\n",
              "      <td>1000.0</td>\n",
              "      <td>5000.0</td>\n",
              "      <td>0</td>\n",
              "    </tr>\n",
              "    <tr>\n",
              "      <th>3</th>\n",
              "      <td>4</td>\n",
              "      <td>50000.0</td>\n",
              "      <td>2</td>\n",
              "      <td>2</td>\n",
              "      <td>1</td>\n",
              "      <td>37</td>\n",
              "      <td>0</td>\n",
              "      <td>0</td>\n",
              "      <td>0</td>\n",
              "      <td>0</td>\n",
              "      <td>0</td>\n",
              "      <td>0</td>\n",
              "      <td>46990.0</td>\n",
              "      <td>48233.0</td>\n",
              "      <td>49291.0</td>\n",
              "      <td>28314.0</td>\n",
              "      <td>28959.0</td>\n",
              "      <td>29547.0</td>\n",
              "      <td>2000.0</td>\n",
              "      <td>2019.0</td>\n",
              "      <td>1200.0</td>\n",
              "      <td>1100.0</td>\n",
              "      <td>1069.0</td>\n",
              "      <td>1000.0</td>\n",
              "      <td>0</td>\n",
              "    </tr>\n",
              "    <tr>\n",
              "      <th>4</th>\n",
              "      <td>5</td>\n",
              "      <td>50000.0</td>\n",
              "      <td>1</td>\n",
              "      <td>2</td>\n",
              "      <td>1</td>\n",
              "      <td>57</td>\n",
              "      <td>-1</td>\n",
              "      <td>0</td>\n",
              "      <td>-1</td>\n",
              "      <td>0</td>\n",
              "      <td>0</td>\n",
              "      <td>0</td>\n",
              "      <td>8617.0</td>\n",
              "      <td>5670.0</td>\n",
              "      <td>35835.0</td>\n",
              "      <td>20940.0</td>\n",
              "      <td>19146.0</td>\n",
              "      <td>19131.0</td>\n",
              "      <td>2000.0</td>\n",
              "      <td>36681.0</td>\n",
              "      <td>10000.0</td>\n",
              "      <td>9000.0</td>\n",
              "      <td>689.0</td>\n",
              "      <td>679.0</td>\n",
              "      <td>0</td>\n",
              "    </tr>\n",
              "    <tr>\n",
              "      <th>5</th>\n",
              "      <td>6</td>\n",
              "      <td>50000.0</td>\n",
              "      <td>1</td>\n",
              "      <td>1</td>\n",
              "      <td>2</td>\n",
              "      <td>37</td>\n",
              "      <td>0</td>\n",
              "      <td>0</td>\n",
              "      <td>0</td>\n",
              "      <td>0</td>\n",
              "      <td>0</td>\n",
              "      <td>0</td>\n",
              "      <td>64400.0</td>\n",
              "      <td>57069.0</td>\n",
              "      <td>57608.0</td>\n",
              "      <td>19394.0</td>\n",
              "      <td>19619.0</td>\n",
              "      <td>20024.0</td>\n",
              "      <td>2500.0</td>\n",
              "      <td>1815.0</td>\n",
              "      <td>657.0</td>\n",
              "      <td>1000.0</td>\n",
              "      <td>1000.0</td>\n",
              "      <td>800.0</td>\n",
              "      <td>0</td>\n",
              "    </tr>\n",
              "    <tr>\n",
              "      <th>6</th>\n",
              "      <td>7</td>\n",
              "      <td>500000.0</td>\n",
              "      <td>1</td>\n",
              "      <td>1</td>\n",
              "      <td>2</td>\n",
              "      <td>29</td>\n",
              "      <td>0</td>\n",
              "      <td>0</td>\n",
              "      <td>0</td>\n",
              "      <td>0</td>\n",
              "      <td>0</td>\n",
              "      <td>0</td>\n",
              "      <td>367965.0</td>\n",
              "      <td>412023.0</td>\n",
              "      <td>445007.0</td>\n",
              "      <td>542653.0</td>\n",
              "      <td>483003.0</td>\n",
              "      <td>473944.0</td>\n",
              "      <td>55000.0</td>\n",
              "      <td>40000.0</td>\n",
              "      <td>38000.0</td>\n",
              "      <td>20239.0</td>\n",
              "      <td>13750.0</td>\n",
              "      <td>13770.0</td>\n",
              "      <td>0</td>\n",
              "    </tr>\n",
              "    <tr>\n",
              "      <th>7</th>\n",
              "      <td>8</td>\n",
              "      <td>100000.0</td>\n",
              "      <td>2</td>\n",
              "      <td>2</td>\n",
              "      <td>2</td>\n",
              "      <td>23</td>\n",
              "      <td>0</td>\n",
              "      <td>-1</td>\n",
              "      <td>-1</td>\n",
              "      <td>0</td>\n",
              "      <td>0</td>\n",
              "      <td>-1</td>\n",
              "      <td>11876.0</td>\n",
              "      <td>380.0</td>\n",
              "      <td>601.0</td>\n",
              "      <td>221.0</td>\n",
              "      <td>-159.0</td>\n",
              "      <td>567.0</td>\n",
              "      <td>380.0</td>\n",
              "      <td>601.0</td>\n",
              "      <td>0.0</td>\n",
              "      <td>581.0</td>\n",
              "      <td>1687.0</td>\n",
              "      <td>1542.0</td>\n",
              "      <td>0</td>\n",
              "    </tr>\n",
              "    <tr>\n",
              "      <th>8</th>\n",
              "      <td>9</td>\n",
              "      <td>140000.0</td>\n",
              "      <td>2</td>\n",
              "      <td>3</td>\n",
              "      <td>1</td>\n",
              "      <td>28</td>\n",
              "      <td>0</td>\n",
              "      <td>0</td>\n",
              "      <td>2</td>\n",
              "      <td>0</td>\n",
              "      <td>0</td>\n",
              "      <td>0</td>\n",
              "      <td>11285.0</td>\n",
              "      <td>14096.0</td>\n",
              "      <td>12108.0</td>\n",
              "      <td>12211.0</td>\n",
              "      <td>11793.0</td>\n",
              "      <td>3719.0</td>\n",
              "      <td>3329.0</td>\n",
              "      <td>0.0</td>\n",
              "      <td>432.0</td>\n",
              "      <td>1000.0</td>\n",
              "      <td>1000.0</td>\n",
              "      <td>1000.0</td>\n",
              "      <td>0</td>\n",
              "    </tr>\n",
              "    <tr>\n",
              "      <th>9</th>\n",
              "      <td>10</td>\n",
              "      <td>20000.0</td>\n",
              "      <td>1</td>\n",
              "      <td>3</td>\n",
              "      <td>2</td>\n",
              "      <td>35</td>\n",
              "      <td>-2</td>\n",
              "      <td>-2</td>\n",
              "      <td>-2</td>\n",
              "      <td>-2</td>\n",
              "      <td>-1</td>\n",
              "      <td>-1</td>\n",
              "      <td>0.0</td>\n",
              "      <td>0.0</td>\n",
              "      <td>0.0</td>\n",
              "      <td>0.0</td>\n",
              "      <td>13007.0</td>\n",
              "      <td>13912.0</td>\n",
              "      <td>0.0</td>\n",
              "      <td>0.0</td>\n",
              "      <td>0.0</td>\n",
              "      <td>13007.0</td>\n",
              "      <td>1122.0</td>\n",
              "      <td>0.0</td>\n",
              "      <td>0</td>\n",
              "    </tr>\n",
              "  </tbody>\n",
              "</table>\n",
              "</div>\n",
              "      <button class=\"colab-df-convert\" onclick=\"convertToInteractive('df-63b7e280-9bf1-439c-abf1-36829d3603cf')\"\n",
              "              title=\"Convert this dataframe to an interactive table.\"\n",
              "              style=\"display:none;\">\n",
              "        \n",
              "  <svg xmlns=\"http://www.w3.org/2000/svg\" height=\"24px\"viewBox=\"0 0 24 24\"\n",
              "       width=\"24px\">\n",
              "    <path d=\"M0 0h24v24H0V0z\" fill=\"none\"/>\n",
              "    <path d=\"M18.56 5.44l.94 2.06.94-2.06 2.06-.94-2.06-.94-.94-2.06-.94 2.06-2.06.94zm-11 1L8.5 8.5l.94-2.06 2.06-.94-2.06-.94L8.5 2.5l-.94 2.06-2.06.94zm10 10l.94 2.06.94-2.06 2.06-.94-2.06-.94-.94-2.06-.94 2.06-2.06.94z\"/><path d=\"M17.41 7.96l-1.37-1.37c-.4-.4-.92-.59-1.43-.59-.52 0-1.04.2-1.43.59L10.3 9.45l-7.72 7.72c-.78.78-.78 2.05 0 2.83L4 21.41c.39.39.9.59 1.41.59.51 0 1.02-.2 1.41-.59l7.78-7.78 2.81-2.81c.8-.78.8-2.07 0-2.86zM5.41 20L4 18.59l7.72-7.72 1.47 1.35L5.41 20z\"/>\n",
              "  </svg>\n",
              "      </button>\n",
              "      \n",
              "  <style>\n",
              "    .colab-df-container {\n",
              "      display:flex;\n",
              "      flex-wrap:wrap;\n",
              "      gap: 12px;\n",
              "    }\n",
              "\n",
              "    .colab-df-convert {\n",
              "      background-color: #E8F0FE;\n",
              "      border: none;\n",
              "      border-radius: 50%;\n",
              "      cursor: pointer;\n",
              "      display: none;\n",
              "      fill: #1967D2;\n",
              "      height: 32px;\n",
              "      padding: 0 0 0 0;\n",
              "      width: 32px;\n",
              "    }\n",
              "\n",
              "    .colab-df-convert:hover {\n",
              "      background-color: #E2EBFA;\n",
              "      box-shadow: 0px 1px 2px rgba(60, 64, 67, 0.3), 0px 1px 3px 1px rgba(60, 64, 67, 0.15);\n",
              "      fill: #174EA6;\n",
              "    }\n",
              "\n",
              "    [theme=dark] .colab-df-convert {\n",
              "      background-color: #3B4455;\n",
              "      fill: #D2E3FC;\n",
              "    }\n",
              "\n",
              "    [theme=dark] .colab-df-convert:hover {\n",
              "      background-color: #434B5C;\n",
              "      box-shadow: 0px 1px 3px 1px rgba(0, 0, 0, 0.15);\n",
              "      filter: drop-shadow(0px 1px 2px rgba(0, 0, 0, 0.3));\n",
              "      fill: #FFFFFF;\n",
              "    }\n",
              "  </style>\n",
              "\n",
              "      <script>\n",
              "        const buttonEl =\n",
              "          document.querySelector('#df-63b7e280-9bf1-439c-abf1-36829d3603cf button.colab-df-convert');\n",
              "        buttonEl.style.display =\n",
              "          google.colab.kernel.accessAllowed ? 'block' : 'none';\n",
              "\n",
              "        async function convertToInteractive(key) {\n",
              "          const element = document.querySelector('#df-63b7e280-9bf1-439c-abf1-36829d3603cf');\n",
              "          const dataTable =\n",
              "            await google.colab.kernel.invokeFunction('convertToInteractive',\n",
              "                                                     [key], {});\n",
              "          if (!dataTable) return;\n",
              "\n",
              "          const docLinkHtml = 'Like what you see? Visit the ' +\n",
              "            '<a target=\"_blank\" href=https://colab.research.google.com/notebooks/data_table.ipynb>data table notebook</a>'\n",
              "            + ' to learn more about interactive tables.';\n",
              "          element.innerHTML = '';\n",
              "          dataTable['output_type'] = 'display_data';\n",
              "          await google.colab.output.renderOutput(dataTable, element);\n",
              "          const docLink = document.createElement('div');\n",
              "          docLink.innerHTML = docLinkHtml;\n",
              "          element.appendChild(docLink);\n",
              "        }\n",
              "      </script>\n",
              "    </div>\n",
              "  </div>\n",
              "  "
            ]
          },
          "metadata": {},
          "execution_count": 6
        }
      ]
    },
    {
      "cell_type": "code",
      "source": [
        "#bottom 10 observation \n",
        "UCI_Credit_Card.tail(10)"
      ],
      "metadata": {
        "id": "N-6eSXumdpGH",
        "colab": {
          "base_uri": "https://localhost:8080/",
          "height": 427
        },
        "outputId": "b0eec87e-5b01-4e06-a588-0c6025fed0ab"
      },
      "execution_count": null,
      "outputs": [
        {
          "output_type": "execute_result",
          "data": {
            "text/plain": [
              "          ID  LIMIT_BAL  SEX  EDUCATION  MARRIAGE  AGE  PAY_0  PAY_2  PAY_3  \\\n",
              "29990  29991   140000.0    1          2         1   41      0      0      0   \n",
              "29991  29992   210000.0    1          2         1   34      3      2      2   \n",
              "29992  29993    10000.0    1          3         1   43      0      0      0   \n",
              "29993  29994   100000.0    1          1         2   38      0     -1     -1   \n",
              "29994  29995    80000.0    1          2         2   34      2      2      2   \n",
              "29995  29996   220000.0    1          3         1   39      0      0      0   \n",
              "29996  29997   150000.0    1          3         2   43     -1     -1     -1   \n",
              "29997  29998    30000.0    1          2         2   37      4      3      2   \n",
              "29998  29999    80000.0    1          3         1   41      1     -1      0   \n",
              "29999  30000    50000.0    1          2         1   46      0      0      0   \n",
              "\n",
              "       PAY_4  PAY_5  PAY_6  BILL_AMT1  BILL_AMT2  BILL_AMT3  BILL_AMT4  \\\n",
              "29990      0      0      0   138325.0   137142.0   139110.0   138262.0   \n",
              "29991      2      2      2     2500.0     2500.0     2500.0     2500.0   \n",
              "29992     -2     -2     -2     8802.0    10400.0        0.0        0.0   \n",
              "29993      0      0      0     3042.0     1427.0   102996.0    70626.0   \n",
              "29994      2      2      2    72557.0    77708.0    79384.0    77519.0   \n",
              "29995      0      0      0   188948.0   192815.0   208365.0    88004.0   \n",
              "29996     -1      0      0     1683.0     1828.0     3502.0     8979.0   \n",
              "29997     -1      0      0     3565.0     3356.0     2758.0    20878.0   \n",
              "29998      0      0     -1    -1645.0    78379.0    76304.0    52774.0   \n",
              "29999      0      0      0    47929.0    48905.0    49764.0    36535.0   \n",
              "\n",
              "       BILL_AMT5  BILL_AMT6  PAY_AMT1  PAY_AMT2  PAY_AMT3  PAY_AMT4  PAY_AMT5  \\\n",
              "29990    49675.0    46121.0    6000.0    7000.0    4228.0    1505.0    2000.0   \n",
              "29991     2500.0     2500.0       0.0       0.0       0.0       0.0       0.0   \n",
              "29992        0.0        0.0    2000.0       0.0       0.0       0.0       0.0   \n",
              "29993    69473.0    55004.0    2000.0  111784.0    4000.0    3000.0    2000.0   \n",
              "29994    82607.0    81158.0    7000.0    3500.0       0.0    7000.0       0.0   \n",
              "29995    31237.0    15980.0    8500.0   20000.0    5003.0    3047.0    5000.0   \n",
              "29996     5190.0        0.0    1837.0    3526.0    8998.0     129.0       0.0   \n",
              "29997    20582.0    19357.0       0.0       0.0   22000.0    4200.0    2000.0   \n",
              "29998    11855.0    48944.0   85900.0    3409.0    1178.0    1926.0   52964.0   \n",
              "29999    32428.0    15313.0    2078.0    1800.0    1430.0    1000.0    1000.0   \n",
              "\n",
              "       PAY_AMT6  default.payment.next.month  \n",
              "29990    2000.0                           0  \n",
              "29991       0.0                           1  \n",
              "29992       0.0                           0  \n",
              "29993    2000.0                           0  \n",
              "29994    4000.0                           1  \n",
              "29995    1000.0                           0  \n",
              "29996       0.0                           0  \n",
              "29997    3100.0                           1  \n",
              "29998    1804.0                           1  \n",
              "29999    1000.0                           1  "
            ],
            "text/html": [
              "\n",
              "  <div id=\"df-0af99c82-1923-4fbb-a9b3-69885fbd3113\">\n",
              "    <div class=\"colab-df-container\">\n",
              "      <div>\n",
              "<style scoped>\n",
              "    .dataframe tbody tr th:only-of-type {\n",
              "        vertical-align: middle;\n",
              "    }\n",
              "\n",
              "    .dataframe tbody tr th {\n",
              "        vertical-align: top;\n",
              "    }\n",
              "\n",
              "    .dataframe thead th {\n",
              "        text-align: right;\n",
              "    }\n",
              "</style>\n",
              "<table border=\"1\" class=\"dataframe\">\n",
              "  <thead>\n",
              "    <tr style=\"text-align: right;\">\n",
              "      <th></th>\n",
              "      <th>ID</th>\n",
              "      <th>LIMIT_BAL</th>\n",
              "      <th>SEX</th>\n",
              "      <th>EDUCATION</th>\n",
              "      <th>MARRIAGE</th>\n",
              "      <th>AGE</th>\n",
              "      <th>PAY_0</th>\n",
              "      <th>PAY_2</th>\n",
              "      <th>PAY_3</th>\n",
              "      <th>PAY_4</th>\n",
              "      <th>PAY_5</th>\n",
              "      <th>PAY_6</th>\n",
              "      <th>BILL_AMT1</th>\n",
              "      <th>BILL_AMT2</th>\n",
              "      <th>BILL_AMT3</th>\n",
              "      <th>BILL_AMT4</th>\n",
              "      <th>BILL_AMT5</th>\n",
              "      <th>BILL_AMT6</th>\n",
              "      <th>PAY_AMT1</th>\n",
              "      <th>PAY_AMT2</th>\n",
              "      <th>PAY_AMT3</th>\n",
              "      <th>PAY_AMT4</th>\n",
              "      <th>PAY_AMT5</th>\n",
              "      <th>PAY_AMT6</th>\n",
              "      <th>default.payment.next.month</th>\n",
              "    </tr>\n",
              "  </thead>\n",
              "  <tbody>\n",
              "    <tr>\n",
              "      <th>29990</th>\n",
              "      <td>29991</td>\n",
              "      <td>140000.0</td>\n",
              "      <td>1</td>\n",
              "      <td>2</td>\n",
              "      <td>1</td>\n",
              "      <td>41</td>\n",
              "      <td>0</td>\n",
              "      <td>0</td>\n",
              "      <td>0</td>\n",
              "      <td>0</td>\n",
              "      <td>0</td>\n",
              "      <td>0</td>\n",
              "      <td>138325.0</td>\n",
              "      <td>137142.0</td>\n",
              "      <td>139110.0</td>\n",
              "      <td>138262.0</td>\n",
              "      <td>49675.0</td>\n",
              "      <td>46121.0</td>\n",
              "      <td>6000.0</td>\n",
              "      <td>7000.0</td>\n",
              "      <td>4228.0</td>\n",
              "      <td>1505.0</td>\n",
              "      <td>2000.0</td>\n",
              "      <td>2000.0</td>\n",
              "      <td>0</td>\n",
              "    </tr>\n",
              "    <tr>\n",
              "      <th>29991</th>\n",
              "      <td>29992</td>\n",
              "      <td>210000.0</td>\n",
              "      <td>1</td>\n",
              "      <td>2</td>\n",
              "      <td>1</td>\n",
              "      <td>34</td>\n",
              "      <td>3</td>\n",
              "      <td>2</td>\n",
              "      <td>2</td>\n",
              "      <td>2</td>\n",
              "      <td>2</td>\n",
              "      <td>2</td>\n",
              "      <td>2500.0</td>\n",
              "      <td>2500.0</td>\n",
              "      <td>2500.0</td>\n",
              "      <td>2500.0</td>\n",
              "      <td>2500.0</td>\n",
              "      <td>2500.0</td>\n",
              "      <td>0.0</td>\n",
              "      <td>0.0</td>\n",
              "      <td>0.0</td>\n",
              "      <td>0.0</td>\n",
              "      <td>0.0</td>\n",
              "      <td>0.0</td>\n",
              "      <td>1</td>\n",
              "    </tr>\n",
              "    <tr>\n",
              "      <th>29992</th>\n",
              "      <td>29993</td>\n",
              "      <td>10000.0</td>\n",
              "      <td>1</td>\n",
              "      <td>3</td>\n",
              "      <td>1</td>\n",
              "      <td>43</td>\n",
              "      <td>0</td>\n",
              "      <td>0</td>\n",
              "      <td>0</td>\n",
              "      <td>-2</td>\n",
              "      <td>-2</td>\n",
              "      <td>-2</td>\n",
              "      <td>8802.0</td>\n",
              "      <td>10400.0</td>\n",
              "      <td>0.0</td>\n",
              "      <td>0.0</td>\n",
              "      <td>0.0</td>\n",
              "      <td>0.0</td>\n",
              "      <td>2000.0</td>\n",
              "      <td>0.0</td>\n",
              "      <td>0.0</td>\n",
              "      <td>0.0</td>\n",
              "      <td>0.0</td>\n",
              "      <td>0.0</td>\n",
              "      <td>0</td>\n",
              "    </tr>\n",
              "    <tr>\n",
              "      <th>29993</th>\n",
              "      <td>29994</td>\n",
              "      <td>100000.0</td>\n",
              "      <td>1</td>\n",
              "      <td>1</td>\n",
              "      <td>2</td>\n",
              "      <td>38</td>\n",
              "      <td>0</td>\n",
              "      <td>-1</td>\n",
              "      <td>-1</td>\n",
              "      <td>0</td>\n",
              "      <td>0</td>\n",
              "      <td>0</td>\n",
              "      <td>3042.0</td>\n",
              "      <td>1427.0</td>\n",
              "      <td>102996.0</td>\n",
              "      <td>70626.0</td>\n",
              "      <td>69473.0</td>\n",
              "      <td>55004.0</td>\n",
              "      <td>2000.0</td>\n",
              "      <td>111784.0</td>\n",
              "      <td>4000.0</td>\n",
              "      <td>3000.0</td>\n",
              "      <td>2000.0</td>\n",
              "      <td>2000.0</td>\n",
              "      <td>0</td>\n",
              "    </tr>\n",
              "    <tr>\n",
              "      <th>29994</th>\n",
              "      <td>29995</td>\n",
              "      <td>80000.0</td>\n",
              "      <td>1</td>\n",
              "      <td>2</td>\n",
              "      <td>2</td>\n",
              "      <td>34</td>\n",
              "      <td>2</td>\n",
              "      <td>2</td>\n",
              "      <td>2</td>\n",
              "      <td>2</td>\n",
              "      <td>2</td>\n",
              "      <td>2</td>\n",
              "      <td>72557.0</td>\n",
              "      <td>77708.0</td>\n",
              "      <td>79384.0</td>\n",
              "      <td>77519.0</td>\n",
              "      <td>82607.0</td>\n",
              "      <td>81158.0</td>\n",
              "      <td>7000.0</td>\n",
              "      <td>3500.0</td>\n",
              "      <td>0.0</td>\n",
              "      <td>7000.0</td>\n",
              "      <td>0.0</td>\n",
              "      <td>4000.0</td>\n",
              "      <td>1</td>\n",
              "    </tr>\n",
              "    <tr>\n",
              "      <th>29995</th>\n",
              "      <td>29996</td>\n",
              "      <td>220000.0</td>\n",
              "      <td>1</td>\n",
              "      <td>3</td>\n",
              "      <td>1</td>\n",
              "      <td>39</td>\n",
              "      <td>0</td>\n",
              "      <td>0</td>\n",
              "      <td>0</td>\n",
              "      <td>0</td>\n",
              "      <td>0</td>\n",
              "      <td>0</td>\n",
              "      <td>188948.0</td>\n",
              "      <td>192815.0</td>\n",
              "      <td>208365.0</td>\n",
              "      <td>88004.0</td>\n",
              "      <td>31237.0</td>\n",
              "      <td>15980.0</td>\n",
              "      <td>8500.0</td>\n",
              "      <td>20000.0</td>\n",
              "      <td>5003.0</td>\n",
              "      <td>3047.0</td>\n",
              "      <td>5000.0</td>\n",
              "      <td>1000.0</td>\n",
              "      <td>0</td>\n",
              "    </tr>\n",
              "    <tr>\n",
              "      <th>29996</th>\n",
              "      <td>29997</td>\n",
              "      <td>150000.0</td>\n",
              "      <td>1</td>\n",
              "      <td>3</td>\n",
              "      <td>2</td>\n",
              "      <td>43</td>\n",
              "      <td>-1</td>\n",
              "      <td>-1</td>\n",
              "      <td>-1</td>\n",
              "      <td>-1</td>\n",
              "      <td>0</td>\n",
              "      <td>0</td>\n",
              "      <td>1683.0</td>\n",
              "      <td>1828.0</td>\n",
              "      <td>3502.0</td>\n",
              "      <td>8979.0</td>\n",
              "      <td>5190.0</td>\n",
              "      <td>0.0</td>\n",
              "      <td>1837.0</td>\n",
              "      <td>3526.0</td>\n",
              "      <td>8998.0</td>\n",
              "      <td>129.0</td>\n",
              "      <td>0.0</td>\n",
              "      <td>0.0</td>\n",
              "      <td>0</td>\n",
              "    </tr>\n",
              "    <tr>\n",
              "      <th>29997</th>\n",
              "      <td>29998</td>\n",
              "      <td>30000.0</td>\n",
              "      <td>1</td>\n",
              "      <td>2</td>\n",
              "      <td>2</td>\n",
              "      <td>37</td>\n",
              "      <td>4</td>\n",
              "      <td>3</td>\n",
              "      <td>2</td>\n",
              "      <td>-1</td>\n",
              "      <td>0</td>\n",
              "      <td>0</td>\n",
              "      <td>3565.0</td>\n",
              "      <td>3356.0</td>\n",
              "      <td>2758.0</td>\n",
              "      <td>20878.0</td>\n",
              "      <td>20582.0</td>\n",
              "      <td>19357.0</td>\n",
              "      <td>0.0</td>\n",
              "      <td>0.0</td>\n",
              "      <td>22000.0</td>\n",
              "      <td>4200.0</td>\n",
              "      <td>2000.0</td>\n",
              "      <td>3100.0</td>\n",
              "      <td>1</td>\n",
              "    </tr>\n",
              "    <tr>\n",
              "      <th>29998</th>\n",
              "      <td>29999</td>\n",
              "      <td>80000.0</td>\n",
              "      <td>1</td>\n",
              "      <td>3</td>\n",
              "      <td>1</td>\n",
              "      <td>41</td>\n",
              "      <td>1</td>\n",
              "      <td>-1</td>\n",
              "      <td>0</td>\n",
              "      <td>0</td>\n",
              "      <td>0</td>\n",
              "      <td>-1</td>\n",
              "      <td>-1645.0</td>\n",
              "      <td>78379.0</td>\n",
              "      <td>76304.0</td>\n",
              "      <td>52774.0</td>\n",
              "      <td>11855.0</td>\n",
              "      <td>48944.0</td>\n",
              "      <td>85900.0</td>\n",
              "      <td>3409.0</td>\n",
              "      <td>1178.0</td>\n",
              "      <td>1926.0</td>\n",
              "      <td>52964.0</td>\n",
              "      <td>1804.0</td>\n",
              "      <td>1</td>\n",
              "    </tr>\n",
              "    <tr>\n",
              "      <th>29999</th>\n",
              "      <td>30000</td>\n",
              "      <td>50000.0</td>\n",
              "      <td>1</td>\n",
              "      <td>2</td>\n",
              "      <td>1</td>\n",
              "      <td>46</td>\n",
              "      <td>0</td>\n",
              "      <td>0</td>\n",
              "      <td>0</td>\n",
              "      <td>0</td>\n",
              "      <td>0</td>\n",
              "      <td>0</td>\n",
              "      <td>47929.0</td>\n",
              "      <td>48905.0</td>\n",
              "      <td>49764.0</td>\n",
              "      <td>36535.0</td>\n",
              "      <td>32428.0</td>\n",
              "      <td>15313.0</td>\n",
              "      <td>2078.0</td>\n",
              "      <td>1800.0</td>\n",
              "      <td>1430.0</td>\n",
              "      <td>1000.0</td>\n",
              "      <td>1000.0</td>\n",
              "      <td>1000.0</td>\n",
              "      <td>1</td>\n",
              "    </tr>\n",
              "  </tbody>\n",
              "</table>\n",
              "</div>\n",
              "      <button class=\"colab-df-convert\" onclick=\"convertToInteractive('df-0af99c82-1923-4fbb-a9b3-69885fbd3113')\"\n",
              "              title=\"Convert this dataframe to an interactive table.\"\n",
              "              style=\"display:none;\">\n",
              "        \n",
              "  <svg xmlns=\"http://www.w3.org/2000/svg\" height=\"24px\"viewBox=\"0 0 24 24\"\n",
              "       width=\"24px\">\n",
              "    <path d=\"M0 0h24v24H0V0z\" fill=\"none\"/>\n",
              "    <path d=\"M18.56 5.44l.94 2.06.94-2.06 2.06-.94-2.06-.94-.94-2.06-.94 2.06-2.06.94zm-11 1L8.5 8.5l.94-2.06 2.06-.94-2.06-.94L8.5 2.5l-.94 2.06-2.06.94zm10 10l.94 2.06.94-2.06 2.06-.94-2.06-.94-.94-2.06-.94 2.06-2.06.94z\"/><path d=\"M17.41 7.96l-1.37-1.37c-.4-.4-.92-.59-1.43-.59-.52 0-1.04.2-1.43.59L10.3 9.45l-7.72 7.72c-.78.78-.78 2.05 0 2.83L4 21.41c.39.39.9.59 1.41.59.51 0 1.02-.2 1.41-.59l7.78-7.78 2.81-2.81c.8-.78.8-2.07 0-2.86zM5.41 20L4 18.59l7.72-7.72 1.47 1.35L5.41 20z\"/>\n",
              "  </svg>\n",
              "      </button>\n",
              "      \n",
              "  <style>\n",
              "    .colab-df-container {\n",
              "      display:flex;\n",
              "      flex-wrap:wrap;\n",
              "      gap: 12px;\n",
              "    }\n",
              "\n",
              "    .colab-df-convert {\n",
              "      background-color: #E8F0FE;\n",
              "      border: none;\n",
              "      border-radius: 50%;\n",
              "      cursor: pointer;\n",
              "      display: none;\n",
              "      fill: #1967D2;\n",
              "      height: 32px;\n",
              "      padding: 0 0 0 0;\n",
              "      width: 32px;\n",
              "    }\n",
              "\n",
              "    .colab-df-convert:hover {\n",
              "      background-color: #E2EBFA;\n",
              "      box-shadow: 0px 1px 2px rgba(60, 64, 67, 0.3), 0px 1px 3px 1px rgba(60, 64, 67, 0.15);\n",
              "      fill: #174EA6;\n",
              "    }\n",
              "\n",
              "    [theme=dark] .colab-df-convert {\n",
              "      background-color: #3B4455;\n",
              "      fill: #D2E3FC;\n",
              "    }\n",
              "\n",
              "    [theme=dark] .colab-df-convert:hover {\n",
              "      background-color: #434B5C;\n",
              "      box-shadow: 0px 1px 3px 1px rgba(0, 0, 0, 0.15);\n",
              "      filter: drop-shadow(0px 1px 2px rgba(0, 0, 0, 0.3));\n",
              "      fill: #FFFFFF;\n",
              "    }\n",
              "  </style>\n",
              "\n",
              "      <script>\n",
              "        const buttonEl =\n",
              "          document.querySelector('#df-0af99c82-1923-4fbb-a9b3-69885fbd3113 button.colab-df-convert');\n",
              "        buttonEl.style.display =\n",
              "          google.colab.kernel.accessAllowed ? 'block' : 'none';\n",
              "\n",
              "        async function convertToInteractive(key) {\n",
              "          const element = document.querySelector('#df-0af99c82-1923-4fbb-a9b3-69885fbd3113');\n",
              "          const dataTable =\n",
              "            await google.colab.kernel.invokeFunction('convertToInteractive',\n",
              "                                                     [key], {});\n",
              "          if (!dataTable) return;\n",
              "\n",
              "          const docLinkHtml = 'Like what you see? Visit the ' +\n",
              "            '<a target=\"_blank\" href=https://colab.research.google.com/notebooks/data_table.ipynb>data table notebook</a>'\n",
              "            + ' to learn more about interactive tables.';\n",
              "          element.innerHTML = '';\n",
              "          dataTable['output_type'] = 'display_data';\n",
              "          await google.colab.output.renderOutput(dataTable, element);\n",
              "          const docLink = document.createElement('div');\n",
              "          docLink.innerHTML = docLinkHtml;\n",
              "          element.appendChild(docLink);\n",
              "        }\n",
              "      </script>\n",
              "    </div>\n",
              "  </div>\n",
              "  "
            ]
          },
          "metadata": {},
          "execution_count": 7
        }
      ]
    },
    {
      "cell_type": "code",
      "source": [
        "#random 10 observation \n",
        "UCI_Credit_Card.sample(n=10)"
      ],
      "metadata": {
        "id": "hHQXBol4dopU",
        "colab": {
          "base_uri": "https://localhost:8080/",
          "height": 427
        },
        "outputId": "2583c60a-53bd-4501-b08f-c93ba4206afc"
      },
      "execution_count": null,
      "outputs": [
        {
          "output_type": "execute_result",
          "data": {
            "text/plain": [
              "          ID  LIMIT_BAL  SEX  EDUCATION  MARRIAGE  AGE  PAY_0  PAY_2  PAY_3  \\\n",
              "3281    3282   160000.0    2          1         2   31     -1     -1     -1   \n",
              "5350    5351    20000.0    1          3         2   24      0      0      0   \n",
              "25036  25037   420000.0    1          1         1   53     -1     -1     -1   \n",
              "2485    2486   210000.0    2          1         2   39     -1     -1     -1   \n",
              "16352  16353    20000.0    2          1         2   39      0      0      0   \n",
              "28316  28317    60000.0    2          2         2   27      0     -1     -1   \n",
              "1832    1833   460000.0    1          1         2   32      0      0      0   \n",
              "28988  28989   160000.0    2          2         1   47     -1      3      2   \n",
              "26540  26541   140000.0    2          3         2   59      1      2      0   \n",
              "20224  20225    50000.0    2          3         1   52      3      2      0   \n",
              "\n",
              "       PAY_4  PAY_5  PAY_6  BILL_AMT1  BILL_AMT2  BILL_AMT3  BILL_AMT4  \\\n",
              "3281      -1     -2     -2     1672.0     4411.0      500.0        0.0   \n",
              "5350       0      0      2    12188.0    12904.0    14217.0    14360.0   \n",
              "25036     -1     -1     -1     1936.0     3473.0    12230.0    13682.0   \n",
              "2485      -1     -2     -2     6000.0        0.0     2880.0        0.0   \n",
              "16352      0      0      0    16690.0    17696.0    18878.0    19308.0   \n",
              "28316      0      0      0     7301.0    11482.0    39511.0    39654.0   \n",
              "1832       0      0      0   386437.0   393742.0   392625.0   368365.0   \n",
              "28988     -1     -1     -1     1857.0     1672.0      836.0      836.0   \n",
              "26540      0      0      0    63654.0    62042.0    63445.0    63729.0   \n",
              "20224      0      0      0    49534.0    48061.0    48807.0    49347.0   \n",
              "\n",
              "       BILL_AMT5  BILL_AMT6  PAY_AMT1  PAY_AMT2  PAY_AMT3  PAY_AMT4  PAY_AMT5  \\\n",
              "3281         0.0        0.0    4411.0     504.0       0.0       0.0       0.0   \n",
              "5350     16140.0    16287.0    1220.0    1533.0     676.0    2177.0     559.0   \n",
              "25036     1695.0      712.0    3489.0   12290.0   13749.0    1706.0     714.0   \n",
              "2485         0.0        0.0       0.0    2880.0       0.0       0.0       0.0   \n",
              "16352    19498.0        0.0    1588.0    1770.0    1200.0     390.0       0.0   \n",
              "28316    38168.0    36526.0   11512.0   39511.0    1866.0    1400.0    2000.0   \n",
              "1832    377858.0   362132.0   15000.0   15000.0   15000.0   15000.0   15000.0   \n",
              "28988      836.0      836.0       0.0       0.0     836.0     836.0     836.0   \n",
              "26540    63751.0    65421.0       0.0    3000.0    2000.0    2000.0    2000.0   \n",
              "20224    17524.0    17497.0       0.0    2200.0    2100.0     606.0     624.0   \n",
              "\n",
              "       PAY_AMT6  default.payment.next.month  \n",
              "3281        0.0                           0  \n",
              "5350        0.0                           1  \n",
              "25036     584.0                           0  \n",
              "2485        0.0                           0  \n",
              "16352   44334.0                           1  \n",
              "28316    1300.0                           0  \n",
              "1832    20000.0                           0  \n",
              "28988     836.0                           1  \n",
              "26540    3000.0                           0  \n",
              "20224     622.0                           0  "
            ],
            "text/html": [
              "\n",
              "  <div id=\"df-57c4bb1e-549d-48f8-8105-8e26261094d8\">\n",
              "    <div class=\"colab-df-container\">\n",
              "      <div>\n",
              "<style scoped>\n",
              "    .dataframe tbody tr th:only-of-type {\n",
              "        vertical-align: middle;\n",
              "    }\n",
              "\n",
              "    .dataframe tbody tr th {\n",
              "        vertical-align: top;\n",
              "    }\n",
              "\n",
              "    .dataframe thead th {\n",
              "        text-align: right;\n",
              "    }\n",
              "</style>\n",
              "<table border=\"1\" class=\"dataframe\">\n",
              "  <thead>\n",
              "    <tr style=\"text-align: right;\">\n",
              "      <th></th>\n",
              "      <th>ID</th>\n",
              "      <th>LIMIT_BAL</th>\n",
              "      <th>SEX</th>\n",
              "      <th>EDUCATION</th>\n",
              "      <th>MARRIAGE</th>\n",
              "      <th>AGE</th>\n",
              "      <th>PAY_0</th>\n",
              "      <th>PAY_2</th>\n",
              "      <th>PAY_3</th>\n",
              "      <th>PAY_4</th>\n",
              "      <th>PAY_5</th>\n",
              "      <th>PAY_6</th>\n",
              "      <th>BILL_AMT1</th>\n",
              "      <th>BILL_AMT2</th>\n",
              "      <th>BILL_AMT3</th>\n",
              "      <th>BILL_AMT4</th>\n",
              "      <th>BILL_AMT5</th>\n",
              "      <th>BILL_AMT6</th>\n",
              "      <th>PAY_AMT1</th>\n",
              "      <th>PAY_AMT2</th>\n",
              "      <th>PAY_AMT3</th>\n",
              "      <th>PAY_AMT4</th>\n",
              "      <th>PAY_AMT5</th>\n",
              "      <th>PAY_AMT6</th>\n",
              "      <th>default.payment.next.month</th>\n",
              "    </tr>\n",
              "  </thead>\n",
              "  <tbody>\n",
              "    <tr>\n",
              "      <th>3281</th>\n",
              "      <td>3282</td>\n",
              "      <td>160000.0</td>\n",
              "      <td>2</td>\n",
              "      <td>1</td>\n",
              "      <td>2</td>\n",
              "      <td>31</td>\n",
              "      <td>-1</td>\n",
              "      <td>-1</td>\n",
              "      <td>-1</td>\n",
              "      <td>-1</td>\n",
              "      <td>-2</td>\n",
              "      <td>-2</td>\n",
              "      <td>1672.0</td>\n",
              "      <td>4411.0</td>\n",
              "      <td>500.0</td>\n",
              "      <td>0.0</td>\n",
              "      <td>0.0</td>\n",
              "      <td>0.0</td>\n",
              "      <td>4411.0</td>\n",
              "      <td>504.0</td>\n",
              "      <td>0.0</td>\n",
              "      <td>0.0</td>\n",
              "      <td>0.0</td>\n",
              "      <td>0.0</td>\n",
              "      <td>0</td>\n",
              "    </tr>\n",
              "    <tr>\n",
              "      <th>5350</th>\n",
              "      <td>5351</td>\n",
              "      <td>20000.0</td>\n",
              "      <td>1</td>\n",
              "      <td>3</td>\n",
              "      <td>2</td>\n",
              "      <td>24</td>\n",
              "      <td>0</td>\n",
              "      <td>0</td>\n",
              "      <td>0</td>\n",
              "      <td>0</td>\n",
              "      <td>0</td>\n",
              "      <td>2</td>\n",
              "      <td>12188.0</td>\n",
              "      <td>12904.0</td>\n",
              "      <td>14217.0</td>\n",
              "      <td>14360.0</td>\n",
              "      <td>16140.0</td>\n",
              "      <td>16287.0</td>\n",
              "      <td>1220.0</td>\n",
              "      <td>1533.0</td>\n",
              "      <td>676.0</td>\n",
              "      <td>2177.0</td>\n",
              "      <td>559.0</td>\n",
              "      <td>0.0</td>\n",
              "      <td>1</td>\n",
              "    </tr>\n",
              "    <tr>\n",
              "      <th>25036</th>\n",
              "      <td>25037</td>\n",
              "      <td>420000.0</td>\n",
              "      <td>1</td>\n",
              "      <td>1</td>\n",
              "      <td>1</td>\n",
              "      <td>53</td>\n",
              "      <td>-1</td>\n",
              "      <td>-1</td>\n",
              "      <td>-1</td>\n",
              "      <td>-1</td>\n",
              "      <td>-1</td>\n",
              "      <td>-1</td>\n",
              "      <td>1936.0</td>\n",
              "      <td>3473.0</td>\n",
              "      <td>12230.0</td>\n",
              "      <td>13682.0</td>\n",
              "      <td>1695.0</td>\n",
              "      <td>712.0</td>\n",
              "      <td>3489.0</td>\n",
              "      <td>12290.0</td>\n",
              "      <td>13749.0</td>\n",
              "      <td>1706.0</td>\n",
              "      <td>714.0</td>\n",
              "      <td>584.0</td>\n",
              "      <td>0</td>\n",
              "    </tr>\n",
              "    <tr>\n",
              "      <th>2485</th>\n",
              "      <td>2486</td>\n",
              "      <td>210000.0</td>\n",
              "      <td>2</td>\n",
              "      <td>1</td>\n",
              "      <td>2</td>\n",
              "      <td>39</td>\n",
              "      <td>-1</td>\n",
              "      <td>-1</td>\n",
              "      <td>-1</td>\n",
              "      <td>-1</td>\n",
              "      <td>-2</td>\n",
              "      <td>-2</td>\n",
              "      <td>6000.0</td>\n",
              "      <td>0.0</td>\n",
              "      <td>2880.0</td>\n",
              "      <td>0.0</td>\n",
              "      <td>0.0</td>\n",
              "      <td>0.0</td>\n",
              "      <td>0.0</td>\n",
              "      <td>2880.0</td>\n",
              "      <td>0.0</td>\n",
              "      <td>0.0</td>\n",
              "      <td>0.0</td>\n",
              "      <td>0.0</td>\n",
              "      <td>0</td>\n",
              "    </tr>\n",
              "    <tr>\n",
              "      <th>16352</th>\n",
              "      <td>16353</td>\n",
              "      <td>20000.0</td>\n",
              "      <td>2</td>\n",
              "      <td>1</td>\n",
              "      <td>2</td>\n",
              "      <td>39</td>\n",
              "      <td>0</td>\n",
              "      <td>0</td>\n",
              "      <td>0</td>\n",
              "      <td>0</td>\n",
              "      <td>0</td>\n",
              "      <td>0</td>\n",
              "      <td>16690.0</td>\n",
              "      <td>17696.0</td>\n",
              "      <td>18878.0</td>\n",
              "      <td>19308.0</td>\n",
              "      <td>19498.0</td>\n",
              "      <td>0.0</td>\n",
              "      <td>1588.0</td>\n",
              "      <td>1770.0</td>\n",
              "      <td>1200.0</td>\n",
              "      <td>390.0</td>\n",
              "      <td>0.0</td>\n",
              "      <td>44334.0</td>\n",
              "      <td>1</td>\n",
              "    </tr>\n",
              "    <tr>\n",
              "      <th>28316</th>\n",
              "      <td>28317</td>\n",
              "      <td>60000.0</td>\n",
              "      <td>2</td>\n",
              "      <td>2</td>\n",
              "      <td>2</td>\n",
              "      <td>27</td>\n",
              "      <td>0</td>\n",
              "      <td>-1</td>\n",
              "      <td>-1</td>\n",
              "      <td>0</td>\n",
              "      <td>0</td>\n",
              "      <td>0</td>\n",
              "      <td>7301.0</td>\n",
              "      <td>11482.0</td>\n",
              "      <td>39511.0</td>\n",
              "      <td>39654.0</td>\n",
              "      <td>38168.0</td>\n",
              "      <td>36526.0</td>\n",
              "      <td>11512.0</td>\n",
              "      <td>39511.0</td>\n",
              "      <td>1866.0</td>\n",
              "      <td>1400.0</td>\n",
              "      <td>2000.0</td>\n",
              "      <td>1300.0</td>\n",
              "      <td>0</td>\n",
              "    </tr>\n",
              "    <tr>\n",
              "      <th>1832</th>\n",
              "      <td>1833</td>\n",
              "      <td>460000.0</td>\n",
              "      <td>1</td>\n",
              "      <td>1</td>\n",
              "      <td>2</td>\n",
              "      <td>32</td>\n",
              "      <td>0</td>\n",
              "      <td>0</td>\n",
              "      <td>0</td>\n",
              "      <td>0</td>\n",
              "      <td>0</td>\n",
              "      <td>0</td>\n",
              "      <td>386437.0</td>\n",
              "      <td>393742.0</td>\n",
              "      <td>392625.0</td>\n",
              "      <td>368365.0</td>\n",
              "      <td>377858.0</td>\n",
              "      <td>362132.0</td>\n",
              "      <td>15000.0</td>\n",
              "      <td>15000.0</td>\n",
              "      <td>15000.0</td>\n",
              "      <td>15000.0</td>\n",
              "      <td>15000.0</td>\n",
              "      <td>20000.0</td>\n",
              "      <td>0</td>\n",
              "    </tr>\n",
              "    <tr>\n",
              "      <th>28988</th>\n",
              "      <td>28989</td>\n",
              "      <td>160000.0</td>\n",
              "      <td>2</td>\n",
              "      <td>2</td>\n",
              "      <td>1</td>\n",
              "      <td>47</td>\n",
              "      <td>-1</td>\n",
              "      <td>3</td>\n",
              "      <td>2</td>\n",
              "      <td>-1</td>\n",
              "      <td>-1</td>\n",
              "      <td>-1</td>\n",
              "      <td>1857.0</td>\n",
              "      <td>1672.0</td>\n",
              "      <td>836.0</td>\n",
              "      <td>836.0</td>\n",
              "      <td>836.0</td>\n",
              "      <td>836.0</td>\n",
              "      <td>0.0</td>\n",
              "      <td>0.0</td>\n",
              "      <td>836.0</td>\n",
              "      <td>836.0</td>\n",
              "      <td>836.0</td>\n",
              "      <td>836.0</td>\n",
              "      <td>1</td>\n",
              "    </tr>\n",
              "    <tr>\n",
              "      <th>26540</th>\n",
              "      <td>26541</td>\n",
              "      <td>140000.0</td>\n",
              "      <td>2</td>\n",
              "      <td>3</td>\n",
              "      <td>2</td>\n",
              "      <td>59</td>\n",
              "      <td>1</td>\n",
              "      <td>2</td>\n",
              "      <td>0</td>\n",
              "      <td>0</td>\n",
              "      <td>0</td>\n",
              "      <td>0</td>\n",
              "      <td>63654.0</td>\n",
              "      <td>62042.0</td>\n",
              "      <td>63445.0</td>\n",
              "      <td>63729.0</td>\n",
              "      <td>63751.0</td>\n",
              "      <td>65421.0</td>\n",
              "      <td>0.0</td>\n",
              "      <td>3000.0</td>\n",
              "      <td>2000.0</td>\n",
              "      <td>2000.0</td>\n",
              "      <td>2000.0</td>\n",
              "      <td>3000.0</td>\n",
              "      <td>0</td>\n",
              "    </tr>\n",
              "    <tr>\n",
              "      <th>20224</th>\n",
              "      <td>20225</td>\n",
              "      <td>50000.0</td>\n",
              "      <td>2</td>\n",
              "      <td>3</td>\n",
              "      <td>1</td>\n",
              "      <td>52</td>\n",
              "      <td>3</td>\n",
              "      <td>2</td>\n",
              "      <td>0</td>\n",
              "      <td>0</td>\n",
              "      <td>0</td>\n",
              "      <td>0</td>\n",
              "      <td>49534.0</td>\n",
              "      <td>48061.0</td>\n",
              "      <td>48807.0</td>\n",
              "      <td>49347.0</td>\n",
              "      <td>17524.0</td>\n",
              "      <td>17497.0</td>\n",
              "      <td>0.0</td>\n",
              "      <td>2200.0</td>\n",
              "      <td>2100.0</td>\n",
              "      <td>606.0</td>\n",
              "      <td>624.0</td>\n",
              "      <td>622.0</td>\n",
              "      <td>0</td>\n",
              "    </tr>\n",
              "  </tbody>\n",
              "</table>\n",
              "</div>\n",
              "      <button class=\"colab-df-convert\" onclick=\"convertToInteractive('df-57c4bb1e-549d-48f8-8105-8e26261094d8')\"\n",
              "              title=\"Convert this dataframe to an interactive table.\"\n",
              "              style=\"display:none;\">\n",
              "        \n",
              "  <svg xmlns=\"http://www.w3.org/2000/svg\" height=\"24px\"viewBox=\"0 0 24 24\"\n",
              "       width=\"24px\">\n",
              "    <path d=\"M0 0h24v24H0V0z\" fill=\"none\"/>\n",
              "    <path d=\"M18.56 5.44l.94 2.06.94-2.06 2.06-.94-2.06-.94-.94-2.06-.94 2.06-2.06.94zm-11 1L8.5 8.5l.94-2.06 2.06-.94-2.06-.94L8.5 2.5l-.94 2.06-2.06.94zm10 10l.94 2.06.94-2.06 2.06-.94-2.06-.94-.94-2.06-.94 2.06-2.06.94z\"/><path d=\"M17.41 7.96l-1.37-1.37c-.4-.4-.92-.59-1.43-.59-.52 0-1.04.2-1.43.59L10.3 9.45l-7.72 7.72c-.78.78-.78 2.05 0 2.83L4 21.41c.39.39.9.59 1.41.59.51 0 1.02-.2 1.41-.59l7.78-7.78 2.81-2.81c.8-.78.8-2.07 0-2.86zM5.41 20L4 18.59l7.72-7.72 1.47 1.35L5.41 20z\"/>\n",
              "  </svg>\n",
              "      </button>\n",
              "      \n",
              "  <style>\n",
              "    .colab-df-container {\n",
              "      display:flex;\n",
              "      flex-wrap:wrap;\n",
              "      gap: 12px;\n",
              "    }\n",
              "\n",
              "    .colab-df-convert {\n",
              "      background-color: #E8F0FE;\n",
              "      border: none;\n",
              "      border-radius: 50%;\n",
              "      cursor: pointer;\n",
              "      display: none;\n",
              "      fill: #1967D2;\n",
              "      height: 32px;\n",
              "      padding: 0 0 0 0;\n",
              "      width: 32px;\n",
              "    }\n",
              "\n",
              "    .colab-df-convert:hover {\n",
              "      background-color: #E2EBFA;\n",
              "      box-shadow: 0px 1px 2px rgba(60, 64, 67, 0.3), 0px 1px 3px 1px rgba(60, 64, 67, 0.15);\n",
              "      fill: #174EA6;\n",
              "    }\n",
              "\n",
              "    [theme=dark] .colab-df-convert {\n",
              "      background-color: #3B4455;\n",
              "      fill: #D2E3FC;\n",
              "    }\n",
              "\n",
              "    [theme=dark] .colab-df-convert:hover {\n",
              "      background-color: #434B5C;\n",
              "      box-shadow: 0px 1px 3px 1px rgba(0, 0, 0, 0.15);\n",
              "      filter: drop-shadow(0px 1px 2px rgba(0, 0, 0, 0.3));\n",
              "      fill: #FFFFFF;\n",
              "    }\n",
              "  </style>\n",
              "\n",
              "      <script>\n",
              "        const buttonEl =\n",
              "          document.querySelector('#df-57c4bb1e-549d-48f8-8105-8e26261094d8 button.colab-df-convert');\n",
              "        buttonEl.style.display =\n",
              "          google.colab.kernel.accessAllowed ? 'block' : 'none';\n",
              "\n",
              "        async function convertToInteractive(key) {\n",
              "          const element = document.querySelector('#df-57c4bb1e-549d-48f8-8105-8e26261094d8');\n",
              "          const dataTable =\n",
              "            await google.colab.kernel.invokeFunction('convertToInteractive',\n",
              "                                                     [key], {});\n",
              "          if (!dataTable) return;\n",
              "\n",
              "          const docLinkHtml = 'Like what you see? Visit the ' +\n",
              "            '<a target=\"_blank\" href=https://colab.research.google.com/notebooks/data_table.ipynb>data table notebook</a>'\n",
              "            + ' to learn more about interactive tables.';\n",
              "          element.innerHTML = '';\n",
              "          dataTable['output_type'] = 'display_data';\n",
              "          await google.colab.output.renderOutput(dataTable, element);\n",
              "          const docLink = document.createElement('div');\n",
              "          docLink.innerHTML = docLinkHtml;\n",
              "          element.appendChild(docLink);\n",
              "        }\n",
              "      </script>\n",
              "    </div>\n",
              "  </div>\n",
              "  "
            ]
          },
          "metadata": {},
          "execution_count": 8
        }
      ]
    },
    {
      "cell_type": "markdown",
      "source": [
        "## Cat Var1 ['default.payment.next.month']\n"
      ],
      "metadata": {
        "id": "4M-0tHfSt3YM"
      }
    },
    {
      "cell_type": "code",
      "source": [
        "#what are the numbers and % of \"default.payment.next.month\" \n",
        "\n",
        "print(UCI_Credit_Card['default.payment.next.month'].value_counts())\n",
        "print((UCI_Credit_Card['default.payment.next.month'].value_counts()/len(UCI_Credit_Card)*100).apply(lambda x: \"{:.2f}%\" .format((x))))\n",
        "sns.countplot(y=\"default.payment.next.month\", data = UCI_Credit_Card)"
      ],
      "metadata": {
        "id": "bFccN46Hp0Zz",
        "colab": {
          "base_uri": "https://localhost:8080/"
        },
        "outputId": "9c7c0d3b-948f-417e-86a3-86d3d527f806"
      },
      "execution_count": null,
      "outputs": [
        {
          "output_type": "stream",
          "name": "stdout",
          "text": [
            "0    23364\n",
            "1     6636\n",
            "Name: default.payment.next.month, dtype: int64\n",
            "0    77.88%\n",
            "1    22.12%\n",
            "Name: default.payment.next.month, dtype: object\n"
          ]
        },
        {
          "output_type": "execute_result",
          "data": {
            "text/plain": [
              "<matplotlib.axes._subplots.AxesSubplot at 0x7f0a8ea8aa10>"
            ]
          },
          "metadata": {},
          "execution_count": 9
        },
        {
          "output_type": "display_data",
          "data": {
            "text/plain": [
              "<Figure size 432x288 with 1 Axes>"
            ],
            "image/png": "[encoded data removed]"
          },
          "metadata": {
            "needs_background": "light"
          }
        }
      ]
    },
    {
      "cell_type": "markdown",
      "source": [],
      "metadata": {
        "id": "kpt9i2ecviIS"
      }
    },
    {
      "cell_type": "markdown",
      "source": [
        "##CAT Var2 ['SEX']"
      ],
      "metadata": {
        "id": "c6JKeMGj2hpq"
      }
    },
    {
      "cell_type": "code",
      "source": [
        "#Number and % of credit card holders based on gender \n",
        "print(UCI_Credit_Card['SEX'].value_counts())\n",
        "print((UCI_Credit_Card['SEX'].value_counts()/len(UCI_Credit_Card)*100).apply(lambda x: \"{:.2f}%\" .format((x))))\n",
        "sns.countplot(y=\"SEX\", data = UCI_Credit_Card)"
      ],
      "metadata": {
        "id": "vbsLdB2lsj_m",
        "colab": {
          "base_uri": "https://localhost:8080/"
        },
        "outputId": "c428c849-5b22-47c1-fb9b-5267561cabfc"
      },
      "execution_count": null,
      "outputs": [
        {
          "output_type": "stream",
          "name": "stdout",
          "text": [
            "2    18112\n",
            "1    11888\n",
            "Name: SEX, dtype: int64\n",
            "2    60.37%\n",
            "1    39.63%\n",
            "Name: SEX, dtype: object\n"
          ]
        },
        {
          "output_type": "execute_result",
          "data": {
            "text/plain": [
              "<matplotlib.axes._subplots.AxesSubplot at 0x7f0a8e9a7250>"
            ]
          },
          "metadata": {},
          "execution_count": 10
        },
        {
          "output_type": "display_data",
          "data": {
            "text/plain": [
              "<Figure size 432x288 with 1 Axes>"
            ],
            "image/png": "[encoded data removed]"
          },
          "metadata": {
            "needs_background": "light"
          }
        }
      ]
    },
    {
      "cell_type": "markdown",
      "source": [],
      "metadata": {
        "id": "-DYX08j-wrYw"
      }
    },
    {
      "cell_type": "markdown",
      "source": [
        "##Cat var -3 ['EDUCATION']"
      ],
      "metadata": {
        "id": "OYK3B6J02qUF"
      }
    },
    {
      "cell_type": "code",
      "source": [
        "#Number and % of credit card holders based on gender \n",
        "print(UCI_Credit_Card['EDUCATION'].value_counts())\n",
        "print((UCI_Credit_Card['EDUCATION'].value_counts()/len(UCI_Credit_Card)*100).apply(lambda x: \"{:.2f}%\" .format((x))))\n",
        "sns.countplot(y=\"EDUCATION\", data = UCI_Credit_Card)"
      ],
      "metadata": {
        "id": "yP-tdZjdxLz3",
        "colab": {
          "base_uri": "https://localhost:8080/",
          "height": 583
        },
        "outputId": "2a3687fa-99ea-431f-efb8-3ec8d981c56a"
      },
      "execution_count": null,
      "outputs": [
        {
          "output_type": "stream",
          "name": "stdout",
          "text": [
            "2    14030\n",
            "1    10585\n",
            "3     4917\n",
            "5      280\n",
            "4      123\n",
            "6       51\n",
            "0       14\n",
            "Name: EDUCATION, dtype: int64\n",
            "2    46.77%\n",
            "1    35.28%\n",
            "3    16.39%\n",
            "5     0.93%\n",
            "4     0.41%\n",
            "6     0.17%\n",
            "0     0.05%\n",
            "Name: EDUCATION, dtype: object\n"
          ]
        },
        {
          "output_type": "execute_result",
          "data": {
            "text/plain": [
              "<matplotlib.axes._subplots.AxesSubplot at 0x7f0a8e4cbed0>"
            ]
          },
          "metadata": {},
          "execution_count": 11
        },
        {
          "output_type": "display_data",
          "data": {
            "text/plain": [
              "<Figure size 432x288 with 1 Axes>"
            ],
            "image/png": "[encoded data removed]"
          },
          "metadata": {
            "needs_background": "light"
          }
        }
      ]
    },
    {
      "cell_type": "markdown",
      "source": [
        "Problem - around 2% of data has issue 0,5 and 6 are not documented."
      ],
      "metadata": {
        "id": "tRjYhCFXyltl"
      }
    },
    {
      "cell_type": "markdown",
      "source": [
        "##Cat Var-4 ['MARRIAGE']"
      ],
      "metadata": {
        "id": "nNlGsZv_2vGW"
      }
    },
    {
      "cell_type": "code",
      "source": [
        "#Number and % of credit card holders based on Marital status \n",
        "print(UCI_Credit_Card['MARRIAGE'].value_counts())\n",
        "print((UCI_Credit_Card['MARRIAGE'].value_counts()/len(UCI_Credit_Card)*100).apply(lambda x: \"{:.2f}%\" .format((x))))\n",
        "sns.countplot(y=\"MARRIAGE\", data = UCI_Credit_Card)"
      ],
      "metadata": {
        "id": "DdPKXUshyoum",
        "colab": {
          "base_uri": "https://localhost:8080/",
          "height": 475
        },
        "outputId": "082cf808-3e1b-4663-9b55-28a9f6e7be6a"
      },
      "execution_count": null,
      "outputs": [
        {
          "output_type": "stream",
          "name": "stdout",
          "text": [
            "2    15964\n",
            "1    13659\n",
            "3      323\n",
            "0       54\n",
            "Name: MARRIAGE, dtype: int64\n",
            "2    53.21%\n",
            "1    45.53%\n",
            "3     1.08%\n",
            "0     0.18%\n",
            "Name: MARRIAGE, dtype: object\n"
          ]
        },
        {
          "output_type": "execute_result",
          "data": {
            "text/plain": [
              "<matplotlib.axes._subplots.AxesSubplot at 0x7f0a8e485110>"
            ]
          },
          "metadata": {},
          "execution_count": 12
        },
        {
          "output_type": "display_data",
          "data": {
            "text/plain": [
              "<Figure size 432x288 with 1 Axes>"
            ],
            "image/png": "[encoded data removed]"
          },
          "metadata": {
            "needs_background": "light"
          }
        }
      ]
    },
    {
      "cell_type": "markdown",
      "source": [
        "Problem - less than 1% data has issue as 0 is not documented "
      ],
      "metadata": {
        "id": "7IPK0xsB3mnf"
      }
    },
    {
      "cell_type": "markdown",
      "source": [
        "##Cat Var-5 ['AGE']"
      ],
      "metadata": {
        "id": "gei8GQr43mWv"
      }
    },
    {
      "cell_type": "code",
      "source": [
        "#Number and % of credit card holders based on Age \n",
        "countplot, ax=plt.subplots(figsize =(20,10))\n",
        "print(UCI_Credit_Card['AGE'].value_counts())\n",
        "print((UCI_Credit_Card['AGE'].value_counts()/len(UCI_Credit_Card)*100).apply(lambda x: \"{:.2f}%\" .format((x))))\n",
        "sns.countplot(y=\"AGE\", data = UCI_Credit_Card)"
      ],
      "metadata": {
        "id": "SPs3SmPE-NPs",
        "colab": {
          "base_uri": "https://localhost:8080/",
          "height": 1000
        },
        "outputId": "5ff147fa-896a-4532-a0ea-f7d5b923d765"
      },
      "execution_count": null,
      "outputs": [
        {
          "output_type": "stream",
          "name": "stdout",
          "text": [
            "29    1605\n",
            "27    1477\n",
            "28    1409\n",
            "30    1395\n",
            "26    1256\n",
            "31    1217\n",
            "25    1186\n",
            "34    1162\n",
            "32    1158\n",
            "33    1146\n",
            "24    1127\n",
            "35    1113\n",
            "36    1108\n",
            "37    1041\n",
            "39     954\n",
            "38     944\n",
            "23     931\n",
            "40     870\n",
            "41     824\n",
            "42     794\n",
            "44     700\n",
            "43     670\n",
            "45     617\n",
            "46     570\n",
            "22     560\n",
            "47     501\n",
            "48     466\n",
            "49     452\n",
            "50     411\n",
            "51     340\n",
            "53     325\n",
            "52     304\n",
            "54     247\n",
            "55     209\n",
            "56     178\n",
            "58     122\n",
            "57     122\n",
            "59      83\n",
            "60      67\n",
            "21      67\n",
            "61      56\n",
            "62      44\n",
            "63      31\n",
            "64      31\n",
            "66      25\n",
            "65      24\n",
            "67      16\n",
            "69      15\n",
            "70      10\n",
            "68       5\n",
            "73       4\n",
            "72       3\n",
            "75       3\n",
            "71       3\n",
            "79       1\n",
            "74       1\n",
            "Name: AGE, dtype: int64\n",
            "29    5.35%\n",
            "27    4.92%\n",
            "28    4.70%\n",
            "30    4.65%\n",
            "26    4.19%\n",
            "31    4.06%\n",
            "25    3.95%\n",
            "34    3.87%\n",
            "32    3.86%\n",
            "33    3.82%\n",
            "24    3.76%\n",
            "35    3.71%\n",
            "36    3.69%\n",
            "37    3.47%\n",
            "39    3.18%\n",
            "38    3.15%\n",
            "23    3.10%\n",
            "40    2.90%\n",
            "41    2.75%\n",
            "42    2.65%\n",
            "44    2.33%\n",
            "43    2.23%\n",
            "45    2.06%\n",
            "46    1.90%\n",
            "22    1.87%\n",
            "47    1.67%\n",
            "48    1.55%\n",
            "49    1.51%\n",
            "50    1.37%\n",
            "51    1.13%\n",
            "53    1.08%\n",
            "52    1.01%\n",
            "54    0.82%\n",
            "55    0.70%\n",
            "56    0.59%\n",
            "58    0.41%\n",
            "57    0.41%\n",
            "59    0.28%\n",
            "60    0.22%\n",
            "21    0.22%\n",
            "61    0.19%\n",
            "62    0.15%\n",
            "63    0.10%\n",
            "64    0.10%\n",
            "66    0.08%\n",
            "65    0.08%\n",
            "67    0.05%\n",
            "69    0.05%\n",
            "70    0.03%\n",
            "68    0.02%\n",
            "73    0.01%\n",
            "72    0.01%\n",
            "75    0.01%\n",
            "71    0.01%\n",
            "79    0.00%\n",
            "74    0.00%\n",
            "Name: AGE, dtype: object\n"
          ]
        },
        {
          "output_type": "execute_result",
          "data": {
            "text/plain": [
              "<matplotlib.axes._subplots.AxesSubplot at 0x7f0a8f96efd0>"
            ]
          },
          "metadata": {},
          "execution_count": 13
        },
        {
          "output_type": "display_data",
          "data": {
            "text/plain": [
              "<Figure size 1440x720 with 1 Axes>"
            ],
            "image/png": "[encoded data removed]"
          },
          "metadata": {
            "needs_background": "light"
          }
        }
      ]
    },
    {
      "cell_type": "markdown",
      "source": [],
      "metadata": {
        "id": "GTcGrRzb3sz7"
      }
    },
    {
      "cell_type": "markdown",
      "source": [
        "##Cat Var-5 ['PAY_0']"
      ],
      "metadata": {
        "id": "Ps99_gFL3sn0"
      }
    },
    {
      "cell_type": "code",
      "source": [
        "#Number and % of credit card holders based on Monthly Payment Status\n",
        "print(UCI_Credit_Card['PAY_0'].value_counts())\n",
        "print((UCI_Credit_Card['PAY_0'].value_counts()/len(UCI_Credit_Card)*100).apply(lambda x: \"{:.2f}%\" .format((x))))\n",
        "sns.countplot(y=\"PAY_0\", data = UCI_Credit_Card)"
      ],
      "metadata": {
        "id": "nTgEgKXn-NDL",
        "colab": {
          "base_uri": "https://localhost:8080/"
        },
        "outputId": "a2688a6b-4f20-4a23-8a99-a682d9c108b3"
      },
      "execution_count": null,
      "outputs": [
        {
          "output_type": "stream",
          "name": "stdout",
          "text": [
            " 0    14737\n",
            "-1     5686\n",
            " 1     3688\n",
            "-2     2759\n",
            " 2     2667\n",
            " 3      322\n",
            " 4       76\n",
            " 5       26\n",
            " 8       19\n",
            " 6       11\n",
            " 7        9\n",
            "Name: PAY_0, dtype: int64\n",
            " 0    49.12%\n",
            "-1    18.95%\n",
            " 1    12.29%\n",
            "-2     9.20%\n",
            " 2     8.89%\n",
            " 3     1.07%\n",
            " 4     0.25%\n",
            " 5     0.09%\n",
            " 8     0.06%\n",
            " 6     0.04%\n",
            " 7     0.03%\n",
            "Name: PAY_0, dtype: object\n"
          ]
        },
        {
          "output_type": "execute_result",
          "data": {
            "text/plain": [
              "<matplotlib.axes._subplots.AxesSubplot at 0x7f0a8e1ccc90>"
            ]
          },
          "metadata": {},
          "execution_count": 14
        },
        {
          "output_type": "display_data",
          "data": {
            "text/plain": [
              "<Figure size 432x288 with 1 Axes>"
            ],
            "image/png": "[encoded data removed]"
          },
          "metadata": {
            "needs_background": "light"
          }
        }
      ]
    },
    {
      "cell_type": "markdown",
      "source": [
        "Problem - "
      ],
      "metadata": {
        "id": "nTMMkNfx9amz"
      }
    },
    {
      "cell_type": "markdown",
      "source": [
        "##Cat var 6 ['PAY_2']"
      ],
      "metadata": {
        "id": "drcq36uR9aaX"
      }
    },
    {
      "cell_type": "code",
      "source": [
        "#Number and % of credit card holders based on Monthly Payment Status\n",
        "print(UCI_Credit_Card['PAY_2'].value_counts())\n",
        "print((UCI_Credit_Card['PAY_2'].value_counts()/len(UCI_Credit_Card)*100).apply(lambda x: \"{:.2f}%\" .format((x))))\n",
        "sns.countplot(y=\"PAY_2\", data = UCI_Credit_Card)"
      ],
      "metadata": {
        "id": "BWbE4umytkui",
        "colab": {
          "base_uri": "https://localhost:8080/"
        },
        "outputId": "2032f4a4-457f-4910-8883-0cfefe4a4a80"
      },
      "execution_count": null,
      "outputs": [
        {
          "output_type": "stream",
          "name": "stdout",
          "text": [
            " 0    15730\n",
            "-1     6050\n",
            " 2     3927\n",
            "-2     3782\n",
            " 3      326\n",
            " 4       99\n",
            " 1       28\n",
            " 5       25\n",
            " 7       20\n",
            " 6       12\n",
            " 8        1\n",
            "Name: PAY_2, dtype: int64\n",
            " 0    52.43%\n",
            "-1    20.17%\n",
            " 2    13.09%\n",
            "-2    12.61%\n",
            " 3     1.09%\n",
            " 4     0.33%\n",
            " 1     0.09%\n",
            " 5     0.08%\n",
            " 7     0.07%\n",
            " 6     0.04%\n",
            " 8     0.00%\n",
            "Name: PAY_2, dtype: object\n"
          ]
        },
        {
          "output_type": "execute_result",
          "data": {
            "text/plain": [
              "<matplotlib.axes._subplots.AxesSubplot at 0x7f0a8e176fd0>"
            ]
          },
          "metadata": {},
          "execution_count": 15
        },
        {
          "output_type": "display_data",
          "data": {
            "text/plain": [
              "<Figure size 432x288 with 1 Axes>"
            ],
            "image/png": "[encoded data removed]"
          },
          "metadata": {
            "needs_background": "light"
          }
        }
      ]
    },
    {
      "cell_type": "markdown",
      "source": [],
      "metadata": {
        "id": "jOri_uTz-wb7"
      }
    },
    {
      "cell_type": "markdown",
      "source": [
        "##CAt var -7 ['PAY_3']"
      ],
      "metadata": {
        "id": "62yKWEWk9hnJ"
      }
    },
    {
      "cell_type": "code",
      "source": [
        "#Number and % of credit card holders based on Monthly Payment Status\n",
        "print(UCI_Credit_Card['PAY_3'].value_counts())\n",
        "print((UCI_Credit_Card['PAY_3'].value_counts()/len(UCI_Credit_Card)*100).apply(lambda x: \"{:.2f}%\" .format((x))))\n",
        "sns.countplot(y=\"PAY_3\", data = UCI_Credit_Card)"
      ],
      "metadata": {
        "id": "5dUziM64_udZ",
        "colab": {
          "base_uri": "https://localhost:8080/"
        },
        "outputId": "ca61892c-4737-4de0-f067-bd7bc3c89da6"
      },
      "execution_count": null,
      "outputs": [
        {
          "output_type": "stream",
          "name": "stdout",
          "text": [
            " 0    15764\n",
            "-1     5938\n",
            "-2     4085\n",
            " 2     3819\n",
            " 3      240\n",
            " 4       76\n",
            " 7       27\n",
            " 6       23\n",
            " 5       21\n",
            " 1        4\n",
            " 8        3\n",
            "Name: PAY_3, dtype: int64\n",
            " 0    52.55%\n",
            "-1    19.79%\n",
            "-2    13.62%\n",
            " 2    12.73%\n",
            " 3     0.80%\n",
            " 4     0.25%\n",
            " 7     0.09%\n",
            " 6     0.08%\n",
            " 5     0.07%\n",
            " 1     0.01%\n",
            " 8     0.01%\n",
            "Name: PAY_3, dtype: object\n"
          ]
        },
        {
          "output_type": "execute_result",
          "data": {
            "text/plain": [
              "<matplotlib.axes._subplots.AxesSubplot at 0x7f0a8e0f9b50>"
            ]
          },
          "metadata": {},
          "execution_count": 16
        },
        {
          "output_type": "display_data",
          "data": {
            "text/plain": [
              "<Figure size 432x288 with 1 Axes>"
            ],
            "image/png": "[encoded data removed]"
          },
          "metadata": {
            "needs_background": "light"
          }
        }
      ]
    },
    {
      "cell_type": "markdown",
      "source": [],
      "metadata": {
        "id": "DeCGOdjJ9ha9"
      }
    },
    {
      "cell_type": "markdown",
      "source": [
        "##CAt var -8 ['PAY_4']"
      ],
      "metadata": {
        "id": "eW3X1OL__IS4"
      }
    },
    {
      "cell_type": "code",
      "source": [
        "#Number and % of credit card holders based on Monthly Payment Status\n",
        "print(UCI_Credit_Card['PAY_4'].value_counts())\n",
        "print((UCI_Credit_Card['PAY_4'].value_counts()/len(UCI_Credit_Card)*100).apply(lambda x: \"{:.2f}%\" .format((x))))\n",
        "sns.countplot(y=\"PAY_4\", data = UCI_Credit_Card)"
      ],
      "metadata": {
        "id": "EgLpBPAI-mt5",
        "colab": {
          "base_uri": "https://localhost:8080/"
        },
        "outputId": "acb60d84-058e-460a-d508-adbbfc163cf8"
      },
      "execution_count": null,
      "outputs": [
        {
          "output_type": "stream",
          "name": "stdout",
          "text": [
            " 0    16455\n",
            "-1     5687\n",
            "-2     4348\n",
            " 2     3159\n",
            " 3      180\n",
            " 4       69\n",
            " 7       58\n",
            " 5       35\n",
            " 6        5\n",
            " 1        2\n",
            " 8        2\n",
            "Name: PAY_4, dtype: int64\n",
            " 0    54.85%\n",
            "-1    18.96%\n",
            "-2    14.49%\n",
            " 2    10.53%\n",
            " 3     0.60%\n",
            " 4     0.23%\n",
            " 7     0.19%\n",
            " 5     0.12%\n",
            " 6     0.02%\n",
            " 1     0.01%\n",
            " 8     0.01%\n",
            "Name: PAY_4, dtype: object\n"
          ]
        },
        {
          "output_type": "execute_result",
          "data": {
            "text/plain": [
              "<matplotlib.axes._subplots.AxesSubplot at 0x7f0a8e091310>"
            ]
          },
          "metadata": {},
          "execution_count": 17
        },
        {
          "output_type": "display_data",
          "data": {
            "text/plain": [
              "<Figure size 432x288 with 1 Axes>"
            ],
            "image/png": "[encoded data removed]"
          },
          "metadata": {
            "needs_background": "light"
          }
        }
      ]
    },
    {
      "cell_type": "markdown",
      "source": [],
      "metadata": {
        "id": "dsmBGoQ3FQxA"
      }
    },
    {
      "cell_type": "markdown",
      "source": [
        "##Cat var 9 ['PAY_5']"
      ],
      "metadata": {
        "id": "MnbZNYiQFQVK"
      }
    },
    {
      "cell_type": "code",
      "source": [
        "#Number and % of credit card holders based on Monthly Payment Status\n",
        "print(UCI_Credit_Card['PAY_5'].value_counts())\n",
        "print((UCI_Credit_Card['PAY_5'].value_counts()/len(UCI_Credit_Card)*100).apply(lambda x: \"{:.2f}%\" .format((x))))\n",
        "sns.countplot(y=\"PAY_5\", data = UCI_Credit_Card)"
      ],
      "metadata": {
        "id": "MIoXi3gcFQAj",
        "colab": {
          "base_uri": "https://localhost:8080/"
        },
        "outputId": "d6b5c715-12c2-49e2-cb5d-e951d3736b90"
      },
      "execution_count": null,
      "outputs": [
        {
          "output_type": "stream",
          "name": "stdout",
          "text": [
            " 0    16947\n",
            "-1     5539\n",
            "-2     4546\n",
            " 2     2626\n",
            " 3      178\n",
            " 4       84\n",
            " 7       58\n",
            " 5       17\n",
            " 6        4\n",
            " 8        1\n",
            "Name: PAY_5, dtype: int64\n",
            " 0    56.49%\n",
            "-1    18.46%\n",
            "-2    15.15%\n",
            " 2     8.75%\n",
            " 3     0.59%\n",
            " 4     0.28%\n",
            " 7     0.19%\n",
            " 5     0.06%\n",
            " 6     0.01%\n",
            " 8     0.00%\n",
            "Name: PAY_5, dtype: object\n"
          ]
        },
        {
          "output_type": "execute_result",
          "data": {
            "text/plain": [
              "<matplotlib.axes._subplots.AxesSubplot at 0x7f0a8dfbeb10>"
            ]
          },
          "metadata": {},
          "execution_count": 18
        },
        {
          "output_type": "display_data",
          "data": {
            "text/plain": [
              "<Figure size 432x288 with 1 Axes>"
            ],
            "image/png": "[encoded data removed]"
          },
          "metadata": {
            "needs_background": "light"
          }
        }
      ]
    },
    {
      "cell_type": "markdown",
      "source": [],
      "metadata": {
        "id": "Qgy-fAlZFd3I"
      }
    },
    {
      "cell_type": "markdown",
      "source": [
        "##Cat var 10 ['PAY_6']"
      ],
      "metadata": {
        "id": "c0UOA9oPFdoj"
      }
    },
    {
      "cell_type": "code",
      "source": [
        "#Number and % of credit card holders based on Monthly Payment Status\n",
        "print(UCI_Credit_Card['PAY_6'].value_counts())\n",
        "print((UCI_Credit_Card['PAY_6'].value_counts()/len(UCI_Credit_Card)*100).apply(lambda x: \"{:.2f}%\" .format((x))))\n",
        "sns.countplot(y=\"PAY_6\", data = UCI_Credit_Card)"
      ],
      "metadata": {
        "id": "-4cVq-TkFdVL",
        "colab": {
          "base_uri": "https://localhost:8080/"
        },
        "outputId": "5359b0eb-dbd1-4220-b773-e78cf71dbb18"
      },
      "execution_count": null,
      "outputs": [
        {
          "output_type": "stream",
          "name": "stdout",
          "text": [
            " 0    16286\n",
            "-1     5740\n",
            "-2     4895\n",
            " 2     2766\n",
            " 3      184\n",
            " 4       49\n",
            " 7       46\n",
            " 6       19\n",
            " 5       13\n",
            " 8        2\n",
            "Name: PAY_6, dtype: int64\n",
            " 0    54.29%\n",
            "-1    19.13%\n",
            "-2    16.32%\n",
            " 2     9.22%\n",
            " 3     0.61%\n",
            " 4     0.16%\n",
            " 7     0.15%\n",
            " 6     0.06%\n",
            " 5     0.04%\n",
            " 8     0.01%\n",
            "Name: PAY_6, dtype: object\n"
          ]
        },
        {
          "output_type": "execute_result",
          "data": {
            "text/plain": [
              "<matplotlib.axes._subplots.AxesSubplot at 0x7f0a8ded2590>"
            ]
          },
          "metadata": {},
          "execution_count": 19
        },
        {
          "output_type": "display_data",
          "data": {
            "text/plain": [
              "<Figure size 432x288 with 1 Axes>"
            ],
            "image/png": "[encoded data removed]"
          },
          "metadata": {
            "needs_background": "light"
          }
        }
      ]
    },
    {
      "cell_type": "markdown",
      "source": [],
      "metadata": {
        "id": "i5zxZanwFm13"
      }
    },
    {
      "cell_type": "markdown",
      "source": [
        "#Data Exploration Continuos Variable "
      ],
      "metadata": {
        "id": "zAqUfHOOG8-c"
      }
    },
    {
      "cell_type": "code",
      "source": [
        "#here mean > median data is postively skewed(skewed from right) that means lower value is extremely low from rest of data.\n",
        "\n",
        "UCI_Credit_Card[['BILL_AMT1','BILL_AMT2','BILL_AMT3','BILL_AMT4','BILL_AMT5','BILL_AMT6','PAY_AMT1', 'PAY_AMT2', 'PAY_AMT3', 'PAY_AMT4', 'PAY_AMT5','PAY_AMT6']].describe()"
      ],
      "metadata": {
        "id": "fMoQYcuQnlcu",
        "colab": {
          "base_uri": "https://localhost:8080/",
          "height": 364
        },
        "collapsed": true,
        "outputId": "258faaa0-dd39-4135-def8-dd0ac1fbb493"
      },
      "execution_count": null,
      "outputs": [
        {
          "output_type": "execute_result",
          "data": {
            "text/plain": [
              "           BILL_AMT1      BILL_AMT2     BILL_AMT3      BILL_AMT4  \\\n",
              "count   30000.000000   30000.000000  3.000000e+04   30000.000000   \n",
              "mean    51223.330900   49179.075167  4.701315e+04   43262.948967   \n",
              "std     73635.860576   71173.768783  6.934939e+04   64332.856134   \n",
              "min   -165580.000000  -69777.000000 -1.572640e+05 -170000.000000   \n",
              "25%      3558.750000    2984.750000  2.666250e+03    2326.750000   \n",
              "50%     22381.500000   21200.000000  2.008850e+04   19052.000000   \n",
              "75%     67091.000000   64006.250000  6.016475e+04   54506.000000   \n",
              "max    964511.000000  983931.000000  1.664089e+06  891586.000000   \n",
              "\n",
              "           BILL_AMT5      BILL_AMT6       PAY_AMT1      PAY_AMT2  \\\n",
              "count   30000.000000   30000.000000   30000.000000  3.000000e+04   \n",
              "mean    40311.400967   38871.760400    5663.580500  5.921163e+03   \n",
              "std     60797.155770   59554.107537   16563.280354  2.304087e+04   \n",
              "min    -81334.000000 -339603.000000       0.000000  0.000000e+00   \n",
              "25%      1763.000000    1256.000000    1000.000000  8.330000e+02   \n",
              "50%     18104.500000   17071.000000    2100.000000  2.009000e+03   \n",
              "75%     50190.500000   49198.250000    5006.000000  5.000000e+03   \n",
              "max    927171.000000  961664.000000  873552.000000  1.684259e+06   \n",
              "\n",
              "           PAY_AMT3       PAY_AMT4       PAY_AMT5       PAY_AMT6  \n",
              "count   30000.00000   30000.000000   30000.000000   30000.000000  \n",
              "mean     5225.68150    4826.076867    4799.387633    5215.502567  \n",
              "std     17606.96147   15666.159744   15278.305679   17777.465775  \n",
              "min         0.00000       0.000000       0.000000       0.000000  \n",
              "25%       390.00000     296.000000     252.500000     117.750000  \n",
              "50%      1800.00000    1500.000000    1500.000000    1500.000000  \n",
              "75%      4505.00000    4013.250000    4031.500000    4000.000000  \n",
              "max    896040.00000  621000.000000  426529.000000  528666.000000  "
            ],
            "text/html": [
              "\n",
              "  <div id=\"df-47ddcfe3-a7c9-4f4a-9af3-a56822aa598b\">\n",
              "    <div class=\"colab-df-container\">\n",
              "      <div>\n",
              "<style scoped>\n",
              "    .dataframe tbody tr th:only-of-type {\n",
              "        vertical-align: middle;\n",
              "    }\n",
              "\n",
              "    .dataframe tbody tr th {\n",
              "        vertical-align: top;\n",
              "    }\n",
              "\n",
              "    .dataframe thead th {\n",
              "        text-align: right;\n",
              "    }\n",
              "</style>\n",
              "<table border=\"1\" class=\"dataframe\">\n",
              "  <thead>\n",
              "    <tr style=\"text-align: right;\">\n",
              "      <th></th>\n",
              "      <th>BILL_AMT1</th>\n",
              "      <th>BILL_AMT2</th>\n",
              "      <th>BILL_AMT3</th>\n",
              "      <th>BILL_AMT4</th>\n",
              "      <th>BILL_AMT5</th>\n",
              "      <th>BILL_AMT6</th>\n",
              "      <th>PAY_AMT1</th>\n",
              "      <th>PAY_AMT2</th>\n",
              "      <th>PAY_AMT3</th>\n",
              "      <th>PAY_AMT4</th>\n",
              "      <th>PAY_AMT5</th>\n",
              "      <th>PAY_AMT6</th>\n",
              "    </tr>\n",
              "  </thead>\n",
              "  <tbody>\n",
              "    <tr>\n",
              "      <th>count</th>\n",
              "      <td>30000.000000</td>\n",
              "      <td>30000.000000</td>\n",
              "      <td>3.000000e+04</td>\n",
              "      <td>30000.000000</td>\n",
              "      <td>30000.000000</td>\n",
              "      <td>30000.000000</td>\n",
              "      <td>30000.000000</td>\n",
              "      <td>3.000000e+04</td>\n",
              "      <td>30000.00000</td>\n",
              "      <td>30000.000000</td>\n",
              "      <td>30000.000000</td>\n",
              "      <td>30000.000000</td>\n",
              "    </tr>\n",
              "    <tr>\n",
              "      <th>mean</th>\n",
              "      <td>51223.330900</td>\n",
              "      <td>49179.075167</td>\n",
              "      <td>4.701315e+04</td>\n",
              "      <td>43262.948967</td>\n",
              "      <td>40311.400967</td>\n",
              "      <td>38871.760400</td>\n",
              "      <td>5663.580500</td>\n",
              "      <td>5.921163e+03</td>\n",
              "      <td>5225.68150</td>\n",
              "      <td>4826.076867</td>\n",
              "      <td>4799.387633</td>\n",
              "      <td>5215.502567</td>\n",
              "    </tr>\n",
              "    <tr>\n",
              "      <th>std</th>\n",
              "      <td>73635.860576</td>\n",
              "      <td>71173.768783</td>\n",
              "      <td>6.934939e+04</td>\n",
              "      <td>64332.856134</td>\n",
              "      <td>60797.155770</td>\n",
              "      <td>59554.107537</td>\n",
              "      <td>16563.280354</td>\n",
              "      <td>2.304087e+04</td>\n",
              "      <td>17606.96147</td>\n",
              "      <td>15666.159744</td>\n",
              "      <td>15278.305679</td>\n",
              "      <td>17777.465775</td>\n",
              "    </tr>\n",
              "    <tr>\n",
              "      <th>min</th>\n",
              "      <td>-165580.000000</td>\n",
              "      <td>-69777.000000</td>\n",
              "      <td>-1.572640e+05</td>\n",
              "      <td>-170000.000000</td>\n",
              "      <td>-81334.000000</td>\n",
              "      <td>-339603.000000</td>\n",
              "      <td>0.000000</td>\n",
              "      <td>0.000000e+00</td>\n",
              "      <td>0.00000</td>\n",
              "      <td>0.000000</td>\n",
              "      <td>0.000000</td>\n",
              "      <td>0.000000</td>\n",
              "    </tr>\n",
              "    <tr>\n",
              "      <th>25%</th>\n",
              "      <td>3558.750000</td>\n",
              "      <td>2984.750000</td>\n",
              "      <td>2.666250e+03</td>\n",
              "      <td>2326.750000</td>\n",
              "      <td>1763.000000</td>\n",
              "      <td>1256.000000</td>\n",
              "      <td>1000.000000</td>\n",
              "      <td>8.330000e+02</td>\n",
              "      <td>390.00000</td>\n",
              "      <td>296.000000</td>\n",
              "      <td>252.500000</td>\n",
              "      <td>117.750000</td>\n",
              "    </tr>\n",
              "    <tr>\n",
              "      <th>50%</th>\n",
              "      <td>22381.500000</td>\n",
              "      <td>21200.000000</td>\n",
              "      <td>2.008850e+04</td>\n",
              "      <td>19052.000000</td>\n",
              "      <td>18104.500000</td>\n",
              "      <td>17071.000000</td>\n",
              "      <td>2100.000000</td>\n",
              "      <td>2.009000e+03</td>\n",
              "      <td>1800.00000</td>\n",
              "      <td>1500.000000</td>\n",
              "      <td>1500.000000</td>\n",
              "      <td>1500.000000</td>\n",
              "    </tr>\n",
              "    <tr>\n",
              "      <th>75%</th>\n",
              "      <td>67091.000000</td>\n",
              "      <td>64006.250000</td>\n",
              "      <td>6.016475e+04</td>\n",
              "      <td>54506.000000</td>\n",
              "      <td>50190.500000</td>\n",
              "      <td>49198.250000</td>\n",
              "      <td>5006.000000</td>\n",
              "      <td>5.000000e+03</td>\n",
              "      <td>4505.00000</td>\n",
              "      <td>4013.250000</td>\n",
              "      <td>4031.500000</td>\n",
              "      <td>4000.000000</td>\n",
              "    </tr>\n",
              "    <tr>\n",
              "      <th>max</th>\n",
              "      <td>964511.000000</td>\n",
              "      <td>983931.000000</td>\n",
              "      <td>1.664089e+06</td>\n",
              "      <td>891586.000000</td>\n",
              "      <td>927171.000000</td>\n",
              "      <td>961664.000000</td>\n",
              "      <td>873552.000000</td>\n",
              "      <td>1.684259e+06</td>\n",
              "      <td>896040.00000</td>\n",
              "      <td>621000.000000</td>\n",
              "      <td>426529.000000</td>\n",
              "      <td>528666.000000</td>\n",
              "    </tr>\n",
              "  </tbody>\n",
              "</table>\n",
              "</div>\n",
              "      <button class=\"colab-df-convert\" onclick=\"convertToInteractive('df-47ddcfe3-a7c9-4f4a-9af3-a56822aa598b')\"\n",
              "              title=\"Convert this dataframe to an interactive table.\"\n",
              "              style=\"display:none;\">\n",
              "        \n",
              "  <svg xmlns=\"http://www.w3.org/2000/svg\" height=\"24px\"viewBox=\"0 0 24 24\"\n",
              "       width=\"24px\">\n",
              "    <path d=\"M0 0h24v24H0V0z\" fill=\"none\"/>\n",
              "    <path d=\"M18.56 5.44l.94 2.06.94-2.06 2.06-.94-2.06-.94-.94-2.06-.94 2.06-2.06.94zm-11 1L8.5 8.5l.94-2.06 2.06-.94-2.06-.94L8.5 2.5l-.94 2.06-2.06.94zm10 10l.94 2.06.94-2.06 2.06-.94-2.06-.94-.94-2.06-.94 2.06-2.06.94z\"/><path d=\"M17.41 7.96l-1.37-1.37c-.4-.4-.92-.59-1.43-.59-.52 0-1.04.2-1.43.59L10.3 9.45l-7.72 7.72c-.78.78-.78 2.05 0 2.83L4 21.41c.39.39.9.59 1.41.59.51 0 1.02-.2 1.41-.59l7.78-7.78 2.81-2.81c.8-.78.8-2.07 0-2.86zM5.41 20L4 18.59l7.72-7.72 1.47 1.35L5.41 20z\"/>\n",
              "  </svg>\n",
              "      </button>\n",
              "      \n",
              "  <style>\n",
              "    .colab-df-container {\n",
              "      display:flex;\n",
              "      flex-wrap:wrap;\n",
              "      gap: 12px;\n",
              "    }\n",
              "\n",
              "    .colab-df-convert {\n",
              "      background-color: #E8F0FE;\n",
              "      border: none;\n",
              "      border-radius: 50%;\n",
              "      cursor: pointer;\n",
              "      display: none;\n",
              "      fill: #1967D2;\n",
              "      height: 32px;\n",
              "      padding: 0 0 0 0;\n",
              "      width: 32px;\n",
              "    }\n",
              "\n",
              "    .colab-df-convert:hover {\n",
              "      background-color: #E2EBFA;\n",
              "      box-shadow: 0px 1px 2px rgba(60, 64, 67, 0.3), 0px 1px 3px 1px rgba(60, 64, 67, 0.15);\n",
              "      fill: #174EA6;\n",
              "    }\n",
              "\n",
              "    [theme=dark] .colab-df-convert {\n",
              "      background-color: #3B4455;\n",
              "      fill: #D2E3FC;\n",
              "    }\n",
              "\n",
              "    [theme=dark] .colab-df-convert:hover {\n",
              "      background-color: #434B5C;\n",
              "      box-shadow: 0px 1px 3px 1px rgba(0, 0, 0, 0.15);\n",
              "      filter: drop-shadow(0px 1px 2px rgba(0, 0, 0, 0.3));\n",
              "      fill: #FFFFFF;\n",
              "    }\n",
              "  </style>\n",
              "\n",
              "      <script>\n",
              "        const buttonEl =\n",
              "          document.querySelector('#df-47ddcfe3-a7c9-4f4a-9af3-a56822aa598b button.colab-df-convert');\n",
              "        buttonEl.style.display =\n",
              "          google.colab.kernel.accessAllowed ? 'block' : 'none';\n",
              "\n",
              "        async function convertToInteractive(key) {\n",
              "          const element = document.querySelector('#df-47ddcfe3-a7c9-4f4a-9af3-a56822aa598b');\n",
              "          const dataTable =\n",
              "            await google.colab.kernel.invokeFunction('convertToInteractive',\n",
              "                                                     [key], {});\n",
              "          if (!dataTable) return;\n",
              "\n",
              "          const docLinkHtml = 'Like what you see? Visit the ' +\n",
              "            '<a target=\"_blank\" href=https://colab.research.google.com/notebooks/data_table.ipynb>data table notebook</a>'\n",
              "            + ' to learn more about interactive tables.';\n",
              "          element.innerHTML = '';\n",
              "          dataTable['output_type'] = 'display_data';\n",
              "          await google.colab.output.renderOutput(dataTable, element);\n",
              "          const docLink = document.createElement('div');\n",
              "          docLink.innerHTML = docLinkHtml;\n",
              "          element.appendChild(docLink);\n",
              "        }\n",
              "      </script>\n",
              "    </div>\n",
              "  </div>\n",
              "  "
            ]
          },
          "metadata": {},
          "execution_count": 20
        }
      ]
    },
    {
      "cell_type": "markdown",
      "source": [
        "##Continuos Var -1"
      ],
      "metadata": {
        "id": "G2PqL2xsTXWm"
      }
    },
    {
      "cell_type": "code",
      "source": [
        "\n",
        "print((UCI_Credit_Card['LIMIT_BAL'].value_counts()/len(UCI_Credit_Card)).apply(lambda x: \"{:.2%}\".format((x))).head(10))\n",
        "plt.figure(figsize = (9,5))\n",
        "plt.title('Amount of credit limit - Density Plot')\n",
        "sns.set_color_codes(\"pastel\")\n",
        "sns.distplot(UCI_Credit_Card['LIMIT_BAL'],kde=True,bins=200, color=\"blue\")\n",
        "plt.show()"
      ],
      "metadata": {
        "id": "xDEC91rFXdFE",
        "colab": {
          "base_uri": "https://localhost:8080/"
        },
        "outputId": "7dd41fdf-8933-4f58-880f-5e8280953d2c"
      },
      "execution_count": null,
      "outputs": [
        {
          "output_type": "stream",
          "name": "stdout",
          "text": [
            "50000.0     11.22%\n",
            "20000.0      6.59%\n",
            "30000.0      5.37%\n",
            "80000.0      5.22%\n",
            "200000.0     5.09%\n",
            "150000.0     3.70%\n",
            "100000.0     3.49%\n",
            "180000.0     3.32%\n",
            "360000.0     2.94%\n",
            "60000.0      2.75%\n",
            "Name: LIMIT_BAL, dtype: object\n"
          ]
        },
        {
          "output_type": "stream",
          "name": "stderr",
          "text": [
            "/usr/local/lib/python3.7/dist-packages/seaborn/distributions.py:2619: FutureWarning: `distplot` is a deprecated function and will be removed in a future version. Please adapt your code to use either `displot` (a figure-level function with similar flexibility) or `histplot` (an axes-level function for histograms).\n",
            "  warnings.warn(msg, FutureWarning)\n"
          ]
        },
        {
          "output_type": "display_data",
          "data": {
            "text/plain": [
              "<Figure size 648x360 with 1 Axes>"
            ],
            "image/png": "[encoded data removed]"
          },
          "metadata": {
            "needs_background": "light"
          }
        }
      ]
    },
    {
      "cell_type": "markdown",
      "source": [],
      "metadata": {
        "id": "5L6W6qN3j1YR"
      }
    },
    {
      "cell_type": "code",
      "source": [
        "plt.boxplot(UCI_Credit_Card['LIMIT_BAL'])"
      ],
      "metadata": {
        "id": "3hqy0_pjQTF0",
        "colab": {
          "base_uri": "https://localhost:8080/"
        },
        "outputId": "2f3600d3-e648-4e33-8034-2bc470f98558"
      },
      "execution_count": null,
      "outputs": [
        {
          "output_type": "execute_result",
          "data": {
            "text/plain": [
              "{'whiskers': [<matplotlib.lines.Line2D at 0x7f0a8b35a250>,\n",
              "  <matplotlib.lines.Line2D at 0x7f0a8b36bb50>],\n",
              " 'caps': [<matplotlib.lines.Line2D at 0x7f0a8b3720d0>,\n",
              "  <matplotlib.lines.Line2D at 0x7f0a8b372610>],\n",
              " 'boxes': [<matplotlib.lines.Line2D at 0x7f0a8b36b0d0>],\n",
              " 'medians': [<matplotlib.lines.Line2D at 0x7f0a8b372b90>],\n",
              " 'fliers': [<matplotlib.lines.Line2D at 0x7f0a8b37a110>],\n",
              " 'means': []}"
            ]
          },
          "metadata": {},
          "execution_count": 22
        },
        {
          "output_type": "display_data",
          "data": {
            "text/plain": [
              "<Figure size 432x288 with 1 Axes>"
            ],
            "image/png": "[encoded data removed]"
          },
          "metadata": {
            "needs_background": "light"
          }
        }
      ]
    },
    {
      "cell_type": "code",
      "source": [
        "UCI_Credit_Card['LIMIT_BAL'].quantile([0.25,0.3,0.4,0.5,0.91,0.92,0.93,0.94,0.95,0.96,0.97,0.98,0.99,1])\n"
      ],
      "metadata": {
        "id": "_zXXFaMzfYnC",
        "colab": {
          "base_uri": "https://localhost:8080/"
        },
        "outputId": "e848bd97-af21-48d3-aaf4-d4794bb6c709"
      },
      "execution_count": null,
      "outputs": [
        {
          "output_type": "execute_result",
          "data": {
            "text/plain": [
              "0.25      50000.0\n",
              "0.30      70000.0\n",
              "0.40     100000.0\n",
              "0.50     140000.0\n",
              "0.91     360000.0\n",
              "0.92     380000.0\n",
              "0.93     390000.0\n",
              "0.94     410000.0\n",
              "0.95     430000.0\n",
              "0.96     460000.0\n",
              "0.97     500000.0\n",
              "0.98     500000.0\n",
              "0.99     500000.0\n",
              "1.00    1000000.0\n",
              "Name: LIMIT_BAL, dtype: float64"
            ]
          },
          "metadata": {},
          "execution_count": 23
        }
      ]
    },
    {
      "cell_type": "markdown",
      "source": [],
      "metadata": {
        "id": "_h-MknGljzzk"
      }
    },
    {
      "cell_type": "markdown",
      "source": [
        "##Continuos Var -2"
      ],
      "metadata": {
        "id": "Rm0AMX02j2wl"
      }
    },
    {
      "cell_type": "code",
      "source": [
        "plt.boxplot(UCI_Credit_Card['BILL_AMT1'])"
      ],
      "metadata": {
        "id": "iaGt2twznTgx",
        "colab": {
          "base_uri": "https://localhost:8080/"
        },
        "outputId": "b2729d95-bf27-4bed-e000-16bce011c25b"
      },
      "execution_count": null,
      "outputs": [
        {
          "output_type": "execute_result",
          "data": {
            "text/plain": [
              "{'whiskers': [<matplotlib.lines.Line2D at 0x7f0a8b3483d0>,\n",
              "  <matplotlib.lines.Line2D at 0x7f0a8b2dcc50>],\n",
              " 'caps': [<matplotlib.lines.Line2D at 0x7f0a8b2e61d0>,\n",
              "  <matplotlib.lines.Line2D at 0x7f0a8b2e6710>],\n",
              " 'boxes': [<matplotlib.lines.Line2D at 0x7f0a8b2dc210>],\n",
              " 'medians': [<matplotlib.lines.Line2D at 0x7f0a8b2e6c90>],\n",
              " 'fliers': [<matplotlib.lines.Line2D at 0x7f0a8b2ee210>],\n",
              " 'means': []}"
            ]
          },
          "metadata": {},
          "execution_count": 24
        },
        {
          "output_type": "display_data",
          "data": {
            "text/plain": [
              "<Figure size 432x288 with 1 Axes>"
            ],
            "image/png": "[encoded data removed]"
          },
          "metadata": {
            "needs_background": "light"
          }
        }
      ]
    },
    {
      "cell_type": "code",
      "source": [
        "UCI_Credit_Card['BILL_AMT1'].quantile([0.9,0.91,0.92,0.93,0.94,0.95,0.96,0.97,0.98,0.99,1])"
      ],
      "metadata": {
        "id": "JpWO_NyknTYR",
        "colab": {
          "base_uri": "https://localhost:8080/"
        },
        "outputId": "14a7b735-ff76-4ef1-94f4-663d8faa1c8b"
      },
      "execution_count": null,
      "outputs": [
        {
          "output_type": "execute_result",
          "data": {
            "text/plain": [
              "0.90    142133.70\n",
              "0.91    151214.72\n",
              "0.92    162127.84\n",
              "0.93    173630.63\n",
              "0.94    187074.56\n",
              "0.95    201203.05\n",
              "0.96    220592.72\n",
              "0.97    245969.84\n",
              "0.98    282227.68\n",
              "0.99    350110.68\n",
              "1.00    964511.00\n",
              "Name: BILL_AMT1, dtype: float64"
            ]
          },
          "metadata": {},
          "execution_count": 25
        }
      ]
    },
    {
      "cell_type": "markdown",
      "source": [],
      "metadata": {
        "id": "IaV60fcfqjSC"
      }
    },
    {
      "cell_type": "markdown",
      "source": [
        "##Countinuous Var - 3"
      ],
      "metadata": {
        "id": "7ZnJPpodqk4w"
      }
    },
    {
      "cell_type": "code",
      "source": [
        "plt.boxplot(UCI_Credit_Card['BILL_AMT2'])"
      ],
      "metadata": {
        "id": "i1Du-nL0qkNV",
        "colab": {
          "base_uri": "https://localhost:8080/",
          "height": 419
        },
        "outputId": "181e3ccc-840f-4628-9e13-42e21dd4c3b8"
      },
      "execution_count": null,
      "outputs": [
        {
          "output_type": "execute_result",
          "data": {
            "text/plain": [
              "{'whiskers': [<matplotlib.lines.Line2D at 0x7f0a8b2b7e10>,\n",
              "  <matplotlib.lines.Line2D at 0x7f0a8b255710>],\n",
              " 'caps': [<matplotlib.lines.Line2D at 0x7f0a8b255c50>,\n",
              "  <matplotlib.lines.Line2D at 0x7f0a8b25c1d0>],\n",
              " 'boxes': [<matplotlib.lines.Line2D at 0x7f0a8b24dc50>],\n",
              " 'medians': [<matplotlib.lines.Line2D at 0x7f0a8b25c750>],\n",
              " 'fliers': [<matplotlib.lines.Line2D at 0x7f0a8b25cc90>],\n",
              " 'means': []}"
            ]
          },
          "metadata": {},
          "execution_count": 26
        },
        {
          "output_type": "display_data",
          "data": {
            "text/plain": [
              "<Figure size 432x288 with 1 Axes>"
            ],
            "image/png": "[encoded data removed]"
          },
          "metadata": {
            "needs_background": "light"
          }
        }
      ]
    },
    {
      "cell_type": "code",
      "source": [
        "UCI_Credit_Card['BILL_AMT2'].quantile([0.9,0.91,0.92,0.93,0.94,0.95,0.96,0.97,0.98,0.99,1])"
      ],
      "metadata": {
        "id": "aObipdEqrCxV",
        "colab": {
          "base_uri": "https://localhost:8080/"
        },
        "outputId": "1e332f67-de09-4058-b760-4d117cc69a18"
      },
      "execution_count": null,
      "outputs": [
        {
          "output_type": "execute_result",
          "data": {
            "text/plain": [
              "0.90    136905.50\n",
              "0.91    145064.86\n",
              "0.92    155362.72\n",
              "0.93    167485.28\n",
              "0.94    180578.40\n",
              "0.95    194792.20\n",
              "0.96    211343.08\n",
              "0.97    236662.72\n",
              "0.98    274120.58\n",
              "0.99    337495.28\n",
              "1.00    983931.00\n",
              "Name: BILL_AMT2, dtype: float64"
            ]
          },
          "metadata": {},
          "execution_count": 27
        }
      ]
    },
    {
      "cell_type": "markdown",
      "source": [],
      "metadata": {
        "id": "CShi9doxrHJw"
      }
    },
    {
      "cell_type": "markdown",
      "source": [
        "##Countinuous Var - 4"
      ],
      "metadata": {
        "id": "QEfsNk8ArS7Z"
      }
    },
    {
      "cell_type": "code",
      "source": [
        "plt.boxplot(UCI_Credit_Card['BILL_AMT3'])"
      ],
      "metadata": {
        "id": "087t9TKBtHzH",
        "colab": {
          "base_uri": "https://localhost:8080/",
          "height": 419
        },
        "outputId": "d6514e0d-c10b-4ced-9cd0-c9ce0f2695f2"
      },
      "execution_count": null,
      "outputs": [
        {
          "output_type": "execute_result",
          "data": {
            "text/plain": [
              "{'whiskers': [<matplotlib.lines.Line2D at 0x7f0a8b2362d0>,\n",
              "  <matplotlib.lines.Line2D at 0x7f0a8b1d1d10>],\n",
              " 'caps': [<matplotlib.lines.Line2D at 0x7f0a8b1d7290>,\n",
              "  <matplotlib.lines.Line2D at 0x7f0a8b1d77d0>],\n",
              " 'boxes': [<matplotlib.lines.Line2D at 0x7f0a8b1d1290>],\n",
              " 'medians': [<matplotlib.lines.Line2D at 0x7f0a8b1d7d50>],\n",
              " 'fliers': [<matplotlib.lines.Line2D at 0x7f0a8b1df310>],\n",
              " 'means': []}"
            ]
          },
          "metadata": {},
          "execution_count": 28
        },
        {
          "output_type": "display_data",
          "data": {
            "text/plain": [
              "<Figure size 432x288 with 1 Axes>"
            ],
            "image/png": "[encoded data removed]"
          },
          "metadata": {
            "needs_background": "light"
          }
        }
      ]
    },
    {
      "cell_type": "code",
      "source": [
        "UCI_Credit_Card['BILL_AMT3'].quantile([0.9,0.91,0.92,0.93,0.94,0.95,0.96,0.97,0.98,0.99,1])"
      ],
      "metadata": {
        "id": "JLL9UwKKrJSN",
        "colab": {
          "base_uri": "https://localhost:8080/"
        },
        "outputId": "6efc6127-5929-4762-cde1-8ca9bf4d6fb2"
      },
      "execution_count": null,
      "outputs": [
        {
          "output_type": "execute_result",
          "data": {
            "text/plain": [
              "0.90     132051.30\n",
              "0.91     139419.08\n",
              "0.92     148633.24\n",
              "0.93     160049.77\n",
              "0.94     173241.34\n",
              "0.95     187821.05\n",
              "0.96     203652.80\n",
              "0.97     228277.79\n",
              "0.98     263208.54\n",
              "0.99     325030.39\n",
              "1.00    1664089.00\n",
              "Name: BILL_AMT3, dtype: float64"
            ]
          },
          "metadata": {},
          "execution_count": 29
        }
      ]
    },
    {
      "cell_type": "markdown",
      "source": [],
      "metadata": {
        "id": "9kPqarW2s5oF"
      }
    },
    {
      "cell_type": "markdown",
      "source": [
        "##Countinuous Var - 5"
      ],
      "metadata": {
        "id": "hCsKjmhhtxwB"
      }
    },
    {
      "cell_type": "code",
      "source": [
        "plt.boxplot(UCI_Credit_Card['BILL_AMT4'])\n"
      ],
      "metadata": {
        "id": "UrUpJnu1t2pN",
        "colab": {
          "base_uri": "https://localhost:8080/"
        },
        "outputId": "accbf6d4-3ca3-48c6-f096-79ba43816018"
      },
      "execution_count": null,
      "outputs": [
        {
          "output_type": "execute_result",
          "data": {
            "text/plain": [
              "{'whiskers': [<matplotlib.lines.Line2D at 0x7f0a8b1b1450>,\n",
              "  <matplotlib.lines.Line2D at 0x7f0a8b1c3c50>],\n",
              " 'caps': [<matplotlib.lines.Line2D at 0x7f0a8b14c1d0>,\n",
              "  <matplotlib.lines.Line2D at 0x7f0a8b14c710>],\n",
              " 'boxes': [<matplotlib.lines.Line2D at 0x7f0a8b1c31d0>],\n",
              " 'medians': [<matplotlib.lines.Line2D at 0x7f0a8b14cc90>],\n",
              " 'fliers': [<matplotlib.lines.Line2D at 0x7f0a8b153210>],\n",
              " 'means': []}"
            ]
          },
          "metadata": {},
          "execution_count": 30
        },
        {
          "output_type": "display_data",
          "data": {
            "text/plain": [
              "<Figure size 432x288 with 1 Axes>"
            ],
            "image/png": "[encoded data removed]"
          },
          "metadata": {
            "needs_background": "light"
          }
        }
      ]
    },
    {
      "cell_type": "code",
      "source": [
        "UCI_Credit_Card['BILL_AMT4'].quantile([0.9,0.91,0.92,0.93,0.94,0.95,0.96,0.97,0.98,0.99,1])"
      ],
      "metadata": {
        "colab": {
          "base_uri": "https://localhost:8080/"
        },
        "id": "9zxGTk18uEdt",
        "outputId": "f47f7313-6300-4700-cb3f-1ca7798d3f96"
      },
      "execution_count": null,
      "outputs": [
        {
          "output_type": "execute_result",
          "data": {
            "text/plain": [
              "0.90    122418.70\n",
              "0.91    130937.09\n",
              "0.92    138646.80\n",
              "0.93    148287.35\n",
              "0.94    160944.12\n",
              "0.95    174333.35\n",
              "0.96    190088.52\n",
              "0.97    210965.51\n",
              "0.98    246655.72\n",
              "0.99    304997.27\n",
              "1.00    891586.00\n",
              "Name: BILL_AMT4, dtype: float64"
            ]
          },
          "metadata": {},
          "execution_count": 31
        }
      ]
    },
    {
      "cell_type": "markdown",
      "source": [],
      "metadata": {
        "id": "xmHujnshuMKr"
      }
    },
    {
      "cell_type": "markdown",
      "source": [
        "##Countinuous Var - 6"
      ],
      "metadata": {
        "id": "aX5nDY6vuRhs"
      }
    },
    {
      "cell_type": "code",
      "source": [
        "plt.boxplot(UCI_Credit_Card['BILL_AMT5'])"
      ],
      "metadata": {
        "colab": {
          "base_uri": "https://localhost:8080/"
        },
        "id": "GP8wsvv6uST9",
        "outputId": "7a547cf1-5ad9-4389-e7f8-d5e603e2fda8"
      },
      "execution_count": null,
      "outputs": [
        {
          "output_type": "execute_result",
          "data": {
            "text/plain": [
              "{'whiskers': [<matplotlib.lines.Line2D at 0x7f0a8b12bb10>,\n",
              "  <matplotlib.lines.Line2D at 0x7f0a8b141410>],\n",
              " 'caps': [<matplotlib.lines.Line2D at 0x7f0a8b141950>,\n",
              "  <matplotlib.lines.Line2D at 0x7f0a8b141e90>],\n",
              " 'boxes': [<matplotlib.lines.Line2D at 0x7f0a8b13e950>],\n",
              " 'medians': [<matplotlib.lines.Line2D at 0x7f0a8b0c9450>],\n",
              " 'fliers': [<matplotlib.lines.Line2D at 0x7f0a8b0c9990>],\n",
              " 'means': []}"
            ]
          },
          "metadata": {},
          "execution_count": 32
        },
        {
          "output_type": "display_data",
          "data": {
            "text/plain": [
              "<Figure size 432x288 with 1 Axes>"
            ],
            "image/png": "[encoded data removed]"
          },
          "metadata": {
            "needs_background": "light"
          }
        }
      ]
    },
    {
      "cell_type": "code",
      "source": [
        "UCI_Credit_Card['BILL_AMT5'].quantile([0.9,0.91,0.92,0.93,0.94,0.95,0.96,0.97,0.98,0.99,1])"
      ],
      "metadata": {
        "colab": {
          "base_uri": "https://localhost:8080/"
        },
        "id": "vxRsKOAlucOX",
        "outputId": "7721bcae-1981-49be-aea1-18fc8263e74a"
      },
      "execution_count": null,
      "outputs": [
        {
          "output_type": "execute_result",
          "data": {
            "text/plain": [
              "0.90    115883.00\n",
              "0.91    123655.36\n",
              "0.92    132233.96\n",
              "0.93    141291.49\n",
              "0.94    151270.38\n",
              "0.95    165794.30\n",
              "0.96    181044.44\n",
              "0.97    198861.03\n",
              "0.98    228587.04\n",
              "0.99    285868.33\n",
              "1.00    927171.00\n",
              "Name: BILL_AMT5, dtype: float64"
            ]
          },
          "metadata": {},
          "execution_count": 33
        }
      ]
    },
    {
      "cell_type": "markdown",
      "source": [],
      "metadata": {
        "id": "yP7nWghavG0i"
      }
    },
    {
      "cell_type": "markdown",
      "source": [
        "##Countinuous Var - 7"
      ],
      "metadata": {
        "id": "xV_DWpTvuoij"
      }
    },
    {
      "cell_type": "code",
      "source": [
        "plt.boxplot(UCI_Credit_Card['BILL_AMT6'])\n"
      ],
      "metadata": {
        "colab": {
          "base_uri": "https://localhost:8080/"
        },
        "id": "TcvMaBxhunW3",
        "outputId": "93caf245-0ea9-4fad-d976-ab27d46ccaff"
      },
      "execution_count": null,
      "outputs": [
        {
          "output_type": "execute_result",
          "data": {
            "text/plain": [
              "{'whiskers': [<matplotlib.lines.Line2D at 0x7f0a8b0f6390>,\n",
              "  <matplotlib.lines.Line2D at 0x7f0a8b09e1d0>],\n",
              " 'caps': [<matplotlib.lines.Line2D at 0x7f0a8b09e710>,\n",
              "  <matplotlib.lines.Line2D at 0x7f0a8b09ec50>],\n",
              " 'boxes': [<matplotlib.lines.Line2D at 0x7f0a8b097710>],\n",
              " 'medians': [<matplotlib.lines.Line2D at 0x7f0a8b0a5210>],\n",
              " 'fliers': [<matplotlib.lines.Line2D at 0x7f0a8b0a5750>],\n",
              " 'means': []}"
            ]
          },
          "metadata": {},
          "execution_count": 34
        },
        {
          "output_type": "display_data",
          "data": {
            "text/plain": [
              "<Figure size 432x288 with 1 Axes>"
            ],
            "image/png": "[encoded data removed]"
          },
          "metadata": {
            "needs_background": "light"
          }
        }
      ]
    },
    {
      "cell_type": "code",
      "source": [
        "UCI_Credit_Card['BILL_AMT6'].quantile([0.1,0.2,0.3,0.4,0.5,0.6,0.7,0.8,0.9,0.91,0.92,0.93,0.94,0.95,0.96,0.97,0.98,0.99,1])"
      ],
      "metadata": {
        "colab": {
          "base_uri": "https://localhost:8080/"
        },
        "id": "kAZWmvr_vtIq",
        "outputId": "bd668b6f-0e31-4514-90c7-e3a02e26c56a"
      },
      "execution_count": null,
      "outputs": [
        {
          "output_type": "execute_result",
          "data": {
            "text/plain": [
              "0.10         0.00\n",
              "0.20       476.00\n",
              "0.30      2701.70\n",
              "0.40      8770.20\n",
              "0.50     17071.00\n",
              "0.60     25508.40\n",
              "0.70     39252.20\n",
              "0.80     63150.60\n",
              "0.90    112110.40\n",
              "0.91    120740.53\n",
              "0.92    129224.48\n",
              "0.93    137836.47\n",
              "0.94    148093.84\n",
              "0.95    161912.00\n",
              "0.96    177592.76\n",
              "0.97    195114.30\n",
              "0.98    223436.14\n",
              "0.99    279505.06\n",
              "1.00    961664.00\n",
              "Name: BILL_AMT6, dtype: float64"
            ]
          },
          "metadata": {},
          "execution_count": 35
        }
      ]
    },
    {
      "cell_type": "markdown",
      "source": [],
      "metadata": {
        "id": "1UzsOd8gwFQx"
      }
    },
    {
      "cell_type": "markdown",
      "source": [
        "##Countinuous Var - 8"
      ],
      "metadata": {
        "id": "4WGN2o-3w2-K"
      }
    },
    {
      "cell_type": "code",
      "source": [
        "plt.boxplot(UCI_Credit_Card['BILL_AMT6'])\n"
      ],
      "metadata": {
        "colab": {
          "base_uri": "https://localhost:8080/"
        },
        "outputId": "be40b3e8-373d-4c21-b47a-c2a14610f715",
        "id": "br_tV5ekw2-L"
      },
      "execution_count": null,
      "outputs": [
        {
          "output_type": "execute_result",
          "data": {
            "text/plain": [
              "{'whiskers': [<matplotlib.lines.Line2D at 0x7f0a8b073ed0>,\n",
              "  <matplotlib.lines.Line2D at 0x7f0a8b00e7d0>],\n",
              " 'caps': [<matplotlib.lines.Line2D at 0x7f0a8b00ed10>,\n",
              "  <matplotlib.lines.Line2D at 0x7f0a8b017290>],\n",
              " 'boxes': [<matplotlib.lines.Line2D at 0x7f0a8b00a310>],\n",
              " 'medians': [<matplotlib.lines.Line2D at 0x7f0a8b017810>],\n",
              " 'fliers': [<matplotlib.lines.Line2D at 0x7f0a8b017d50>],\n",
              " 'means': []}"
            ]
          },
          "metadata": {},
          "execution_count": 36
        },
        {
          "output_type": "display_data",
          "data": {
            "text/plain": [
              "<Figure size 432x288 with 1 Axes>"
            ],
            "image/png": "[encoded data removed]"
          },
          "metadata": {
            "needs_background": "light"
          }
        }
      ]
    },
    {
      "cell_type": "code",
      "source": [
        "UCI_Credit_Card['BILL_AMT6'].quantile([0.1,0.2,0.3,0.4,0.5,0.6,0.7,0.8,0.9,0.91,0.92,0.93,0.94,0.95,0.96,0.97,0.98,0.99,1])"
      ],
      "metadata": {
        "colab": {
          "base_uri": "https://localhost:8080/"
        },
        "outputId": "53d91a28-53e2-4fd4-a3f1-d65558a01587",
        "id": "PRktHxCPw2-L"
      },
      "execution_count": null,
      "outputs": [
        {
          "output_type": "execute_result",
          "data": {
            "text/plain": [
              "0.10         0.00\n",
              "0.20       476.00\n",
              "0.30      2701.70\n",
              "0.40      8770.20\n",
              "0.50     17071.00\n",
              "0.60     25508.40\n",
              "0.70     39252.20\n",
              "0.80     63150.60\n",
              "0.90    112110.40\n",
              "0.91    120740.53\n",
              "0.92    129224.48\n",
              "0.93    137836.47\n",
              "0.94    148093.84\n",
              "0.95    161912.00\n",
              "0.96    177592.76\n",
              "0.97    195114.30\n",
              "0.98    223436.14\n",
              "0.99    279505.06\n",
              "1.00    961664.00\n",
              "Name: BILL_AMT6, dtype: float64"
            ]
          },
          "metadata": {},
          "execution_count": 37
        }
      ]
    },
    {
      "cell_type": "markdown",
      "source": [],
      "metadata": {
        "id": "wijG_m0Qw2-L"
      }
    },
    {
      "cell_type": "markdown",
      "source": [
        "##Countinuous Var - 9"
      ],
      "metadata": {
        "id": "P06c__-Kw30J"
      }
    },
    {
      "cell_type": "code",
      "source": [
        "plt.boxplot(UCI_Credit_Card['PAY_AMT1'])\n"
      ],
      "metadata": {
        "colab": {
          "base_uri": "https://localhost:8080/"
        },
        "outputId": "6adb0459-a0c3-4b7b-d6b4-2a794793d47e",
        "id": "zDbZwTXPw30K"
      },
      "execution_count": null,
      "outputs": [
        {
          "output_type": "execute_result",
          "data": {
            "text/plain": [
              "{'whiskers': [<matplotlib.lines.Line2D at 0x7f0a8b2a4890>,\n",
              "  <matplotlib.lines.Line2D at 0x7f0a8b15abd0>],\n",
              " 'caps': [<matplotlib.lines.Line2D at 0x7f0a8e9c83d0>,\n",
              "  <matplotlib.lines.Line2D at 0x7f0a8e0bc290>],\n",
              " 'boxes': [<matplotlib.lines.Line2D at 0x7f0a8b240c50>],\n",
              " 'medians': [<matplotlib.lines.Line2D at 0x7f0a8b269810>],\n",
              " 'fliers': [<matplotlib.lines.Line2D at 0x7f0a8df991d0>],\n",
              " 'means': []}"
            ]
          },
          "metadata": {},
          "execution_count": 38
        },
        {
          "output_type": "display_data",
          "data": {
            "text/plain": [
              "<Figure size 432x288 with 1 Axes>"
            ],
            "image/png": "[encoded data removed]"
          },
          "metadata": {
            "needs_background": "light"
          }
        }
      ]
    },
    {
      "cell_type": "code",
      "source": [
        "UCI_Credit_Card['PAY_AMT1'].quantile([0.1,0.2,0.3,0.4,0.5,0.6,0.7,0.8,0.9,0.91,0.92,0.93,0.94,0.95,0.96,0.97,0.98,0.99,1])"
      ],
      "metadata": {
        "colab": {
          "base_uri": "https://localhost:8080/"
        },
        "outputId": "2ce98748-0d91-4357-eb8e-f64a67357b2a",
        "id": "QVDfrJiGw30K"
      },
      "execution_count": null,
      "outputs": [
        {
          "output_type": "execute_result",
          "data": {
            "text/plain": [
              "0.10         0.00\n",
              "0.20       316.00\n",
              "0.30      1263.70\n",
              "0.40      1724.00\n",
              "0.50      2100.00\n",
              "0.60      3000.00\n",
              "0.70      4309.30\n",
              "0.80      6192.20\n",
              "0.90     10300.00\n",
              "0.91     11174.00\n",
              "0.92     12500.00\n",
              "0.93     14127.07\n",
              "0.94     15510.66\n",
              "0.95     18428.20\n",
              "0.96     21006.24\n",
              "0.97     28232.78\n",
              "0.98     40000.00\n",
              "0.99     66522.18\n",
              "1.00    873552.00\n",
              "Name: PAY_AMT1, dtype: float64"
            ]
          },
          "metadata": {},
          "execution_count": 39
        }
      ]
    },
    {
      "cell_type": "markdown",
      "source": [],
      "metadata": {
        "id": "pvE00dUgw30K"
      }
    },
    {
      "cell_type": "markdown",
      "source": [
        "##Countinuous Var - 10"
      ],
      "metadata": {
        "id": "W6_wDhf4w3-3"
      }
    },
    {
      "cell_type": "code",
      "source": [
        "plt.boxplot(UCI_Credit_Card['PAY_AMT2'])\n"
      ],
      "metadata": {
        "colab": {
          "base_uri": "https://localhost:8080/"
        },
        "outputId": "34bd575d-5a7a-4813-95e2-97f374b1935d",
        "id": "yOD-4I9Tw3-3"
      },
      "execution_count": null,
      "outputs": [
        {
          "output_type": "execute_result",
          "data": {
            "text/plain": [
              "{'whiskers': [<matplotlib.lines.Line2D at 0x7f0a8e27a490>,\n",
              "  <matplotlib.lines.Line2D at 0x7f0a8dee2890>],\n",
              " 'caps': [<matplotlib.lines.Line2D at 0x7f0a8dee26d0>,\n",
              "  <matplotlib.lines.Line2D at 0x7f0a8ddeabd0>],\n",
              " 'boxes': [<matplotlib.lines.Line2D at 0x7f0a8e16a450>],\n",
              " 'medians': [<matplotlib.lines.Line2D at 0x7f0a8ddea750>],\n",
              " 'fliers': [<matplotlib.lines.Line2D at 0x7f0a8ddeae90>],\n",
              " 'means': []}"
            ]
          },
          "metadata": {},
          "execution_count": 40
        },
        {
          "output_type": "display_data",
          "data": {
            "text/plain": [
              "<Figure size 432x288 with 1 Axes>"
            ],
            "image/png": "[encoded data removed]"
          },
          "metadata": {
            "needs_background": "light"
          }
        }
      ]
    },
    {
      "cell_type": "code",
      "source": [
        "UCI_Credit_Card['PAY_AMT2'].quantile([0.1,0.2,0.3,0.4,0.5,0.6,0.7,0.8,0.9,0.91,0.92,0.93,0.94,0.95,0.96,0.97,0.98,0.99,1])"
      ],
      "metadata": {
        "colab": {
          "base_uri": "https://localhost:8080/"
        },
        "outputId": "29729c7e-d056-4491-fcd5-bd51561e9037",
        "id": "WdO1LWeBw3-4"
      },
      "execution_count": null,
      "outputs": [
        {
          "output_type": "execute_result",
          "data": {
            "text/plain": [
              "0.10          0.00\n",
              "0.20        268.80\n",
              "0.30       1165.00\n",
              "0.40       1600.00\n",
              "0.50       2009.00\n",
              "0.60       3000.00\n",
              "0.70       4045.30\n",
              "0.80       6000.00\n",
              "0.90      10401.10\n",
              "0.91      11320.00\n",
              "0.92      12536.16\n",
              "0.93      14131.26\n",
              "0.94      16000.00\n",
              "0.95      19004.35\n",
              "0.96      21408.36\n",
              "0.97      29000.00\n",
              "0.98      41027.88\n",
              "0.99      76651.02\n",
              "1.00    1684259.00\n",
              "Name: PAY_AMT2, dtype: float64"
            ]
          },
          "metadata": {},
          "execution_count": 41
        }
      ]
    },
    {
      "cell_type": "markdown",
      "source": [],
      "metadata": {
        "id": "s2WHYo0cw3-4"
      }
    },
    {
      "cell_type": "markdown",
      "source": [
        "##Countinuous Var - 11"
      ],
      "metadata": {
        "id": "BHIODGCRw4Lx"
      }
    },
    {
      "cell_type": "code",
      "source": [
        "plt.boxplot(UCI_Credit_Card['PAY_AMT3'])\n"
      ],
      "metadata": {
        "colab": {
          "base_uri": "https://localhost:8080/"
        },
        "outputId": "04e22d25-b5be-4a68-ef9d-47b966a5668a",
        "id": "w_keJdG9w4Ly"
      },
      "execution_count": null,
      "outputs": [
        {
          "output_type": "execute_result",
          "data": {
            "text/plain": [
              "{'whiskers': [<matplotlib.lines.Line2D at 0x7f0a8b398d90>,\n",
              "  <matplotlib.lines.Line2D at 0x7f0a8b3a4410>],\n",
              " 'caps': [<matplotlib.lines.Line2D at 0x7f0a8b3a4c10>,\n",
              "  <matplotlib.lines.Line2D at 0x7f0a8b3a4a90>],\n",
              " 'boxes': [<matplotlib.lines.Line2D at 0x7f0a8dc42c50>],\n",
              " 'medians': [<matplotlib.lines.Line2D at 0x7f0a8dbfe8d0>],\n",
              " 'fliers': [<matplotlib.lines.Line2D at 0x7f0a8dbfe350>],\n",
              " 'means': []}"
            ]
          },
          "metadata": {},
          "execution_count": 42
        },
        {
          "output_type": "display_data",
          "data": {
            "text/plain": [
              "<Figure size 432x288 with 1 Axes>"
            ],
            "image/png": "[encoded data removed]"
          },
          "metadata": {
            "needs_background": "light"
          }
        }
      ]
    },
    {
      "cell_type": "code",
      "source": [
        "UCI_Credit_Card['PAY_AMT3'].quantile([0.1,0.2,0.3,0.4,0.5,0.6,0.7,0.8,0.9,0.91,0.92,0.93,0.94,0.95,0.96,0.97,0.98,0.99,1])"
      ],
      "metadata": {
        "colab": {
          "base_uri": "https://localhost:8080/"
        },
        "outputId": "31b88d57-c63d-408b-ea2d-dd5c2cd376fb",
        "id": "hLlYh-whw4Ly"
      },
      "execution_count": null,
      "outputs": [
        {
          "output_type": "execute_result",
          "data": {
            "text/plain": [
              "0.10         0.00\n",
              "0.20         2.80\n",
              "0.30       780.00\n",
              "0.40      1206.00\n",
              "0.50      1800.00\n",
              "0.60      2500.00\n",
              "0.70      3560.30\n",
              "0.80      5284.00\n",
              "0.90     10000.00\n",
              "0.91     10288.36\n",
              "0.92     11558.48\n",
              "0.93     13000.00\n",
              "0.94     15000.00\n",
              "0.95     17589.40\n",
              "0.96     20150.00\n",
              "0.97     27000.33\n",
              "0.98     38661.36\n",
              "0.99     70000.00\n",
              "1.00    896040.00\n",
              "Name: PAY_AMT3, dtype: float64"
            ]
          },
          "metadata": {},
          "execution_count": 43
        }
      ]
    },
    {
      "cell_type": "markdown",
      "source": [],
      "metadata": {
        "id": "Yb69YRjcw4Ly"
      }
    },
    {
      "cell_type": "markdown",
      "source": [
        "##Countinuous Var - 12"
      ],
      "metadata": {
        "id": "dhlhQzgVw4Vd"
      }
    },
    {
      "cell_type": "code",
      "source": [
        "plt.boxplot(UCI_Credit_Card['PAY_AMT4'])\n"
      ],
      "metadata": {
        "colab": {
          "base_uri": "https://localhost:8080/"
        },
        "outputId": "b6d43bcf-ce3d-4bc8-cd4a-0b202d7a9298",
        "id": "5zopVzysw4Vd"
      },
      "execution_count": null,
      "outputs": [
        {
          "output_type": "execute_result",
          "data": {
            "text/plain": [
              "{'whiskers': [<matplotlib.lines.Line2D at 0x7f0a8dc07550>,\n",
              "  <matplotlib.lines.Line2D at 0x7f0a8b3971d0>],\n",
              " 'caps': [<matplotlib.lines.Line2D at 0x7f0a8b397710>,\n",
              "  <matplotlib.lines.Line2D at 0x7f0a8b397c50>],\n",
              " 'boxes': [<matplotlib.lines.Line2D at 0x7f0a8b3b2710>],\n",
              " 'medians': [<matplotlib.lines.Line2D at 0x7f0a8b3b5210>],\n",
              " 'fliers': [<matplotlib.lines.Line2D at 0x7f0a8b3b5750>],\n",
              " 'means': []}"
            ]
          },
          "metadata": {},
          "execution_count": 44
        },
        {
          "output_type": "display_data",
          "data": {
            "text/plain": [
              "<Figure size 432x288 with 1 Axes>"
            ],
            "image/png": "[encoded data removed]"
          },
          "metadata": {
            "needs_background": "light"
          }
        }
      ]
    },
    {
      "cell_type": "code",
      "source": [
        "UCI_Credit_Card['PAY_AMT4'].quantile([0.1,0.2,0.3,0.4,0.5,0.6,0.7,0.8,0.9,0.91,0.92,0.93,0.94,0.95,0.96,0.97,0.98,0.99,1])"
      ],
      "metadata": {
        "colab": {
          "base_uri": "https://localhost:8080/"
        },
        "outputId": "367ad2b0-db25-4baf-cdf9-fed022b1f66c",
        "id": "koFXdGkWw4Vd"
      },
      "execution_count": null,
      "outputs": [
        {
          "output_type": "execute_result",
          "data": {
            "text/plain": [
              "0.10         0.00\n",
              "0.20         0.00\n",
              "0.30       500.00\n",
              "0.40      1000.00\n",
              "0.50      1500.00\n",
              "0.60      2100.00\n",
              "0.70      3200.00\n",
              "0.80      5000.00\n",
              "0.90      9570.60\n",
              "0.91     10000.00\n",
              "0.92     10404.72\n",
              "0.93     11985.21\n",
              "0.94     13949.60\n",
              "0.95     16014.95\n",
              "0.96     20000.00\n",
              "0.97     26665.40\n",
              "0.98     39634.04\n",
              "0.99     67054.44\n",
              "1.00    621000.00\n",
              "Name: PAY_AMT4, dtype: float64"
            ]
          },
          "metadata": {},
          "execution_count": 45
        }
      ]
    },
    {
      "cell_type": "markdown",
      "source": [],
      "metadata": {
        "id": "M33C-nZfw4Vd"
      }
    },
    {
      "cell_type": "markdown",
      "source": [
        "##Countinuous Var - 13"
      ],
      "metadata": {
        "id": "2pDKXFXJyxbh"
      }
    },
    {
      "cell_type": "code",
      "source": [
        "plt.boxplot(UCI_Credit_Card['PAY_AMT5'])\n"
      ],
      "metadata": {
        "colab": {
          "base_uri": "https://localhost:8080/"
        },
        "outputId": "040ffa95-e18b-446e-8307-29d06c6d70c3",
        "id": "etjH1r8Qyxbr"
      },
      "execution_count": null,
      "outputs": [
        {
          "output_type": "execute_result",
          "data": {
            "text/plain": [
              "{'whiskers': [<matplotlib.lines.Line2D at 0x7f0a8de461d0>,\n",
              "  <matplotlib.lines.Line2D at 0x7f0a8dccc590>],\n",
              " 'caps': [<matplotlib.lines.Line2D at 0x7f0a8dcccf90>,\n",
              "  <matplotlib.lines.Line2D at 0x7f0a8dd01510>],\n",
              " 'boxes': [<matplotlib.lines.Line2D at 0x7f0a8de31fd0>],\n",
              " 'medians': [<matplotlib.lines.Line2D at 0x7f0a8dd01b50>],\n",
              " 'fliers': [<matplotlib.lines.Line2D at 0x7f0a8dce0050>],\n",
              " 'means': []}"
            ]
          },
          "metadata": {},
          "execution_count": 46
        },
        {
          "output_type": "display_data",
          "data": {
            "text/plain": [
              "<Figure size 432x288 with 1 Axes>"
            ],
            "image/png": "[encoded data removed]"
          },
          "metadata": {
            "needs_background": "light"
          }
        }
      ]
    },
    {
      "cell_type": "code",
      "source": [
        "UCI_Credit_Card['PAY_AMT5'].quantile([0.1,0.2,0.3,0.4,0.5,0.6,0.7,0.8,0.9,0.91,0.92,0.93,0.94,0.95,0.96,0.97,0.98,0.99,1])"
      ],
      "metadata": {
        "colab": {
          "base_uri": "https://localhost:8080/"
        },
        "outputId": "250ab75b-b90e-4fab-c3b8-f8282f2cc3ca",
        "id": "f3SeCqavyxbr"
      },
      "execution_count": null,
      "outputs": [
        {
          "output_type": "execute_result",
          "data": {
            "text/plain": [
              "0.10         0.00\n",
              "0.20         0.00\n",
              "0.30       500.00\n",
              "0.40      1000.00\n",
              "0.50      1500.00\n",
              "0.60      2123.40\n",
              "0.70      3200.00\n",
              "0.80      5000.00\n",
              "0.90      9500.00\n",
              "0.91     10000.00\n",
              "0.92     10358.16\n",
              "0.93     11964.14\n",
              "0.94     13939.06\n",
              "0.95     16000.00\n",
              "0.96     20000.00\n",
              "0.97     25314.21\n",
              "0.98     37259.66\n",
              "0.99     65607.56\n",
              "1.00    426529.00\n",
              "Name: PAY_AMT5, dtype: float64"
            ]
          },
          "metadata": {},
          "execution_count": 47
        }
      ]
    },
    {
      "cell_type": "markdown",
      "source": [],
      "metadata": {
        "id": "gLLRrmlgyxbr"
      }
    },
    {
      "cell_type": "markdown",
      "source": [
        "##Countinuous Var - 14"
      ],
      "metadata": {
        "id": "B7wGbfKozAN-"
      }
    },
    {
      "cell_type": "code",
      "source": [
        "plt.boxplot(UCI_Credit_Card['PAY_AMT6'])\n"
      ],
      "metadata": {
        "id": "PwQp41AAzAN-",
        "colab": {
          "base_uri": "https://localhost:8080/"
        },
        "outputId": "a378e28f-061e-47de-f699-686fa671848b"
      },
      "execution_count": null,
      "outputs": [
        {
          "output_type": "execute_result",
          "data": {
            "text/plain": [
              "{'whiskers': [<matplotlib.lines.Line2D at 0x7f0a8dd2ad90>,\n",
              "  <matplotlib.lines.Line2D at 0x7f0a8dd13550>],\n",
              " 'caps': [<matplotlib.lines.Line2D at 0x7f0a8dd13a90>,\n",
              "  <matplotlib.lines.Line2D at 0x7f0a8dd13fd0>],\n",
              " 'boxes': [<matplotlib.lines.Line2D at 0x7f0a8dd23a90>],\n",
              " 'medians': [<matplotlib.lines.Line2D at 0x7f0a8dd5f590>],\n",
              " 'fliers': [<matplotlib.lines.Line2D at 0x7f0a8dd5fad0>],\n",
              " 'means': []}"
            ]
          },
          "metadata": {},
          "execution_count": 48
        },
        {
          "output_type": "display_data",
          "data": {
            "text/plain": [
              "<Figure size 432x288 with 1 Axes>"
            ],
            "image/png": "[encoded data removed]"
          },
          "metadata": {
            "needs_background": "light"
          }
        }
      ]
    },
    {
      "cell_type": "code",
      "source": [
        "UCI_Credit_Card['PAY_AMT6'].quantile([0.1,0.2,0.3,0.4,0.5,0.6,0.7,0.8,0.9,0.91,0.92,0.93,0.94,0.95,0.96,0.97,0.98,0.99,1])"
      ],
      "metadata": {
        "id": "Gn9JWM_OzAN_",
        "colab": {
          "base_uri": "https://localhost:8080/"
        },
        "outputId": "6d8fd0e6-046e-4700-d142-952d5dd45df6"
      },
      "execution_count": null,
      "outputs": [
        {
          "output_type": "execute_result",
          "data": {
            "text/plain": [
              "0.10         0.00\n",
              "0.20         0.00\n",
              "0.30       426.00\n",
              "0.40      1000.00\n",
              "0.50      1500.00\n",
              "0.60      2100.00\n",
              "0.70      3200.00\n",
              "0.80      5000.00\n",
              "0.90      9600.00\n",
              "0.91     10000.00\n",
              "0.92     10500.00\n",
              "0.93     12017.14\n",
              "0.94     14442.86\n",
              "0.95     17343.80\n",
              "0.96     21034.88\n",
              "0.97     29561.76\n",
              "0.98     45010.48\n",
              "0.99     82619.05\n",
              "1.00    528666.00\n",
              "Name: PAY_AMT6, dtype: float64"
            ]
          },
          "metadata": {},
          "execution_count": 49
        }
      ]
    },
    {
      "cell_type": "markdown",
      "source": [],
      "metadata": {
        "id": "oa-fQStRzAN_"
      }
    },
    {
      "cell_type": "markdown",
      "source": [
        "#Data Cleaning Categorial"
      ],
      "metadata": {
        "id": "_0sPsne0Q7TQ"
      }
    },
    {
      "cell_type": "markdown",
      "source": [
        "##Cat var -3 ['EDUCATION'] "
      ],
      "metadata": {
        "id": "DTGTcMxJRUjz"
      }
    },
    {
      "cell_type": "code",
      "source": [
        "# < 2 percentage of data has issue like 0 id not difined, 5 and 6 has a same defination \n",
        "# 6, 5 and 0 will be replaced with 4 as 4 refers to others \n",
        "\n",
        "print((UCI_Credit_Card['EDUCATION'].value_counts()/len(UCI_Credit_Card)*100).apply(lambda x: \"{:.2f}%\" .format((x))))"
      ],
      "metadata": {
        "colab": {
          "base_uri": "https://localhost:8080/"
        },
        "id": "fKYBnV-SRQnm",
        "outputId": "d3579aaf-6aed-41ae-f340-0d9e1f95705a"
      },
      "execution_count": null,
      "outputs": [
        {
          "output_type": "stream",
          "name": "stdout",
          "text": [
            "2    46.77%\n",
            "1    35.28%\n",
            "3    16.39%\n",
            "5     0.93%\n",
            "4     0.41%\n",
            "6     0.17%\n",
            "0     0.05%\n",
            "Name: EDUCATION, dtype: object\n"
          ]
        }
      ]
    },
    {
      "cell_type": "code",
      "source": [
        "UCI_Credit_Card['EDUCATION_NEW']=UCI_Credit_Card['EDUCATION']\n",
        "UCI_Credit_Card['EDUCATION_NEW'][UCI_Credit_Card['EDUCATION_NEW']>4]=4\n",
        "UCI_Credit_Card['EDUCATION_NEW'][UCI_Credit_Card['EDUCATION_NEW']==0]=4\n",
        "UCI_Credit_Card['EDUCATION_NEW'].value_counts()\n"
      ],
      "metadata": {
        "colab": {
          "base_uri": "https://localhost:8080/"
        },
        "id": "ZGwiLMeOaRST",
        "outputId": "2fb2ee49-eb44-4e7b-d014-3a34dbfed7d9"
      },
      "execution_count": null,
      "outputs": [
        {
          "output_type": "stream",
          "name": "stderr",
          "text": [
            "/usr/local/lib/python3.7/dist-packages/ipykernel_launcher.py:2: SettingWithCopyWarning: \n",
            "A value is trying to be set on a copy of a slice from a DataFrame\n",
            "\n",
            "See the caveats in the documentation: https://pandas.pydata.org/pandas-docs/stable/user_guide/indexing.html#returning-a-view-versus-a-copy\n",
            "  \n",
            "/usr/local/lib/python3.7/dist-packages/ipykernel_launcher.py:3: SettingWithCopyWarning: \n",
            "A value is trying to be set on a copy of a slice from a DataFrame\n",
            "\n",
            "See the caveats in the documentation: https://pandas.pydata.org/pandas-docs/stable/user_guide/indexing.html#returning-a-view-versus-a-copy\n",
            "  This is separate from the ipykernel package so we can avoid doing imports until\n"
          ]
        },
        {
          "output_type": "execute_result",
          "data": {
            "text/plain": [
              "2    14030\n",
              "1    10585\n",
              "3     4917\n",
              "4      468\n",
              "Name: EDUCATION_NEW, dtype: int64"
            ]
          },
          "metadata": {},
          "execution_count": 51
        }
      ]
    },
    {
      "cell_type": "markdown",
      "source": [
        "##Cat-var 4 ['MARRIAGE']"
      ],
      "metadata": {
        "id": "10DtB74Pdvrt"
      }
    },
    {
      "cell_type": "code",
      "source": [
        "# 0 is not documented and 3 is for others we will replace 0 with 3 \n",
        "print((UCI_Credit_Card['MARRIAGE'].value_counts()/len(UCI_Credit_Card)*100).apply(lambda x: \"{:.2f}%\" .format((x))))"
      ],
      "metadata": {
        "colab": {
          "base_uri": "https://localhost:8080/"
        },
        "id": "LC89W_34duch",
        "outputId": "c50e72b0-86f6-44ce-a8c7-f0491364ee1b"
      },
      "execution_count": null,
      "outputs": [
        {
          "output_type": "stream",
          "name": "stdout",
          "text": [
            "2    53.21%\n",
            "1    45.53%\n",
            "3     1.08%\n",
            "0     0.18%\n",
            "Name: MARRIAGE, dtype: object\n"
          ]
        }
      ]
    },
    {
      "cell_type": "code",
      "source": [
        "UCI_Credit_Card['MARRIAGE_NEW']=UCI_Credit_Card['MARRIAGE']\n",
        "UCI_Credit_Card['MARRIAGE_NEW'][UCI_Credit_Card['MARRIAGE_NEW']==0]=3\n",
        "UCI_Credit_Card['MARRIAGE_NEW'].value_counts()"
      ],
      "metadata": {
        "colab": {
          "base_uri": "https://localhost:8080/"
        },
        "id": "k5q752AWe47t",
        "outputId": "a7fd5bc7-dae3-44bb-fce7-0af48534ae9c"
      },
      "execution_count": null,
      "outputs": [
        {
          "output_type": "stream",
          "name": "stderr",
          "text": [
            "/usr/local/lib/python3.7/dist-packages/ipykernel_launcher.py:2: SettingWithCopyWarning: \n",
            "A value is trying to be set on a copy of a slice from a DataFrame\n",
            "\n",
            "See the caveats in the documentation: https://pandas.pydata.org/pandas-docs/stable/user_guide/indexing.html#returning-a-view-versus-a-copy\n",
            "  \n"
          ]
        },
        {
          "output_type": "execute_result",
          "data": {
            "text/plain": [
              "2    15964\n",
              "1    13659\n",
              "3      377\n",
              "Name: MARRIAGE_NEW, dtype: int64"
            ]
          },
          "metadata": {},
          "execution_count": 53
        }
      ]
    },
    {
      "cell_type": "markdown",
      "source": [
        "##Cat-var 5 ['PAY_0']"
      ],
      "metadata": {
        "id": "ADo0pWI5gq2A"
      }
    },
    {
      "cell_type": "code",
      "source": [
        "print((UCI_Credit_Card['PAY_0'].value_counts()/len(UCI_Credit_Card)*100).apply(lambda x: \"{:.2f}%\" .format((x))))"
      ],
      "metadata": {
        "colab": {
          "base_uri": "https://localhost:8080/"
        },
        "id": "nVjfTZo_grwb",
        "outputId": "c76a2944-2b86-442a-905a-f823cac641d9"
      },
      "execution_count": null,
      "outputs": [
        {
          "output_type": "stream",
          "name": "stdout",
          "text": [
            " 0    49.12%\n",
            "-1    18.95%\n",
            " 1    12.29%\n",
            "-2     9.20%\n",
            " 2     8.89%\n",
            " 3     1.07%\n",
            " 4     0.25%\n",
            " 5     0.09%\n",
            " 8     0.06%\n",
            " 6     0.04%\n",
            " 7     0.03%\n",
            "Name: PAY_0, dtype: object\n"
          ]
        }
      ]
    },
    {
      "cell_type": "code",
      "source": [
        "pd.set_option('display.max_columns', 50)\n",
        "UCI_Credit_Card"
      ],
      "metadata": {
        "colab": {
          "base_uri": "https://localhost:8080/"
        },
        "id": "3nka_xSX0X3A",
        "outputId": "af39d5a4-ffa4-4cbf-ed29-d8206ca2335a"
      },
      "execution_count": null,
      "outputs": [
        {
          "output_type": "execute_result",
          "data": {
            "text/plain": [
              "          ID  LIMIT_BAL  SEX  EDUCATION  MARRIAGE  AGE  PAY_0  PAY_2  PAY_3  \\\n",
              "0          1    20000.0    2          2         1   24      2      2     -1   \n",
              "1          2   120000.0    2          2         2   26     -1      2      0   \n",
              "2          3    90000.0    2          2         2   34      0      0      0   \n",
              "3          4    50000.0    2          2         1   37      0      0      0   \n",
              "4          5    50000.0    1          2         1   57     -1      0     -1   \n",
              "...      ...        ...  ...        ...       ...  ...    ...    ...    ...   \n",
              "29995  29996   220000.0    1          3         1   39      0      0      0   \n",
              "29996  29997   150000.0    1          3         2   43     -1     -1     -1   \n",
              "29997  29998    30000.0    1          2         2   37      4      3      2   \n",
              "29998  29999    80000.0    1          3         1   41      1     -1      0   \n",
              "29999  30000    50000.0    1          2         1   46      0      0      0   \n",
              "\n",
              "       PAY_4  PAY_5  PAY_6  BILL_AMT1  BILL_AMT2  BILL_AMT3  BILL_AMT4  \\\n",
              "0         -1     -2     -2     3913.0     3102.0      689.0        0.0   \n",
              "1          0      0      2     2682.0     1725.0     2682.0     3272.0   \n",
              "2          0      0      0    29239.0    14027.0    13559.0    14331.0   \n",
              "3          0      0      0    46990.0    48233.0    49291.0    28314.0   \n",
              "4          0      0      0     8617.0     5670.0    35835.0    20940.0   \n",
              "...      ...    ...    ...        ...        ...        ...        ...   \n",
              "29995      0      0      0   188948.0   192815.0   208365.0    88004.0   \n",
              "29996     -1      0      0     1683.0     1828.0     3502.0     8979.0   \n",
              "29997     -1      0      0     3565.0     3356.0     2758.0    20878.0   \n",
              "29998      0      0     -1    -1645.0    78379.0    76304.0    52774.0   \n",
              "29999      0      0      0    47929.0    48905.0    49764.0    36535.0   \n",
              "\n",
              "       BILL_AMT5  BILL_AMT6  PAY_AMT1  PAY_AMT2  PAY_AMT3  PAY_AMT4  PAY_AMT5  \\\n",
              "0            0.0        0.0       0.0     689.0       0.0       0.0       0.0   \n",
              "1         3455.0     3261.0       0.0    1000.0    1000.0    1000.0       0.0   \n",
              "2        14948.0    15549.0    1518.0    1500.0    1000.0    1000.0    1000.0   \n",
              "3        28959.0    29547.0    2000.0    2019.0    1200.0    1100.0    1069.0   \n",
              "4        19146.0    19131.0    2000.0   36681.0   10000.0    9000.0     689.0   \n",
              "...          ...        ...       ...       ...       ...       ...       ...   \n",
              "29995    31237.0    15980.0    8500.0   20000.0    5003.0    3047.0    5000.0   \n",
              "29996     5190.0        0.0    1837.0    3526.0    8998.0     129.0       0.0   \n",
              "29997    20582.0    19357.0       0.0       0.0   22000.0    4200.0    2000.0   \n",
              "29998    11855.0    48944.0   85900.0    3409.0    1178.0    1926.0   52964.0   \n",
              "29999    32428.0    15313.0    2078.0    1800.0    1430.0    1000.0    1000.0   \n",
              "\n",
              "       PAY_AMT6  default.payment.next.month  EDUCATION_NEW  MARRIAGE_NEW  \n",
              "0           0.0                           1              2             1  \n",
              "1        2000.0                           1              2             2  \n",
              "2        5000.0                           0              2             2  \n",
              "3        1000.0                           0              2             1  \n",
              "4         679.0                           0              2             1  \n",
              "...         ...                         ...            ...           ...  \n",
              "29995    1000.0                           0              3             1  \n",
              "29996       0.0                           0              3             2  \n",
              "29997    3100.0                           1              2             2  \n",
              "29998    1804.0                           1              3             1  \n",
              "29999    1000.0                           1              2             1  \n",
              "\n",
              "[30000 rows x 27 columns]"
            ],
            "text/html": [
              "\n",
              "  <div id=\"df-c1048aec-08bb-492a-a8ef-f31631c1789f\">\n",
              "    <div class=\"colab-df-container\">\n",
              "      <div>\n",
              "<style scoped>\n",
              "    .dataframe tbody tr th:only-of-type {\n",
              "        vertical-align: middle;\n",
              "    }\n",
              "\n",
              "    .dataframe tbody tr th {\n",
              "        vertical-align: top;\n",
              "    }\n",
              "\n",
              "    .dataframe thead th {\n",
              "        text-align: right;\n",
              "    }\n",
              "</style>\n",
              "<table border=\"1\" class=\"dataframe\">\n",
              "  <thead>\n",
              "    <tr style=\"text-align: right;\">\n",
              "      <th></th>\n",
              "      <th>ID</th>\n",
              "      <th>LIMIT_BAL</th>\n",
              "      <th>SEX</th>\n",
              "      <th>EDUCATION</th>\n",
              "      <th>MARRIAGE</th>\n",
              "      <th>AGE</th>\n",
              "      <th>PAY_0</th>\n",
              "      <th>PAY_2</th>\n",
              "      <th>PAY_3</th>\n",
              "      <th>PAY_4</th>\n",
              "      <th>PAY_5</th>\n",
              "      <th>PAY_6</th>\n",
              "      <th>BILL_AMT1</th>\n",
              "      <th>BILL_AMT2</th>\n",
              "      <th>BILL_AMT3</th>\n",
              "      <th>BILL_AMT4</th>\n",
              "      <th>BILL_AMT5</th>\n",
              "      <th>BILL_AMT6</th>\n",
              "      <th>PAY_AMT1</th>\n",
              "      <th>PAY_AMT2</th>\n",
              "      <th>PAY_AMT3</th>\n",
              "      <th>PAY_AMT4</th>\n",
              "      <th>PAY_AMT5</th>\n",
              "      <th>PAY_AMT6</th>\n",
              "      <th>default.payment.next.month</th>\n",
              "      <th>EDUCATION_NEW</th>\n",
              "      <th>MARRIAGE_NEW</th>\n",
              "    </tr>\n",
              "  </thead>\n",
              "  <tbody>\n",
              "    <tr>\n",
              "      <th>0</th>\n",
              "      <td>1</td>\n",
              "      <td>20000.0</td>\n",
              "      <td>2</td>\n",
              "      <td>2</td>\n",
              "      <td>1</td>\n",
              "      <td>24</td>\n",
              "      <td>2</td>\n",
              "      <td>2</td>\n",
              "      <td>-1</td>\n",
              "      <td>-1</td>\n",
              "      <td>-2</td>\n",
              "      <td>-2</td>\n",
              "      <td>3913.0</td>\n",
              "      <td>3102.0</td>\n",
              "      <td>689.0</td>\n",
              "      <td>0.0</td>\n",
              "      <td>0.0</td>\n",
              "      <td>0.0</td>\n",
              "      <td>0.0</td>\n",
              "      <td>689.0</td>\n",
              "      <td>0.0</td>\n",
              "      <td>0.0</td>\n",
              "      <td>0.0</td>\n",
              "      <td>0.0</td>\n",
              "      <td>1</td>\n",
              "      <td>2</td>\n",
              "      <td>1</td>\n",
              "    </tr>\n",
              "    <tr>\n",
              "      <th>1</th>\n",
              "      <td>2</td>\n",
              "      <td>120000.0</td>\n",
              "      <td>2</td>\n",
              "      <td>2</td>\n",
              "      <td>2</td>\n",
              "      <td>26</td>\n",
              "      <td>-1</td>\n",
              "      <td>2</td>\n",
              "      <td>0</td>\n",
              "      <td>0</td>\n",
              "      <td>0</td>\n",
              "      <td>2</td>\n",
              "      <td>2682.0</td>\n",
              "      <td>1725.0</td>\n",
              "      <td>2682.0</td>\n",
              "      <td>3272.0</td>\n",
              "      <td>3455.0</td>\n",
              "      <td>3261.0</td>\n",
              "      <td>0.0</td>\n",
              "      <td>1000.0</td>\n",
              "      <td>1000.0</td>\n",
              "      <td>1000.0</td>\n",
              "      <td>0.0</td>\n",
              "      <td>2000.0</td>\n",
              "      <td>1</td>\n",
              "      <td>2</td>\n",
              "      <td>2</td>\n",
              "    </tr>\n",
              "    <tr>\n",
              "      <th>2</th>\n",
              "      <td>3</td>\n",
              "      <td>90000.0</td>\n",
              "      <td>2</td>\n",
              "      <td>2</td>\n",
              "      <td>2</td>\n",
              "      <td>34</td>\n",
              "      <td>0</td>\n",
              "      <td>0</td>\n",
              "      <td>0</td>\n",
              "      <td>0</td>\n",
              "      <td>0</td>\n",
              "      <td>0</td>\n",
              "      <td>29239.0</td>\n",
              "      <td>14027.0</td>\n",
              "      <td>13559.0</td>\n",
              "      <td>14331.0</td>\n",
              "      <td>14948.0</td>\n",
              "      <td>15549.0</td>\n",
              "      <td>1518.0</td>\n",
              "      <td>1500.0</td>\n",
              "      <td>1000.0</td>\n",
              "      <td>1000.0</td>\n",
              "      <td>1000.0</td>\n",
              "      <td>5000.0</td>\n",
              "      <td>0</td>\n",
              "      <td>2</td>\n",
              "      <td>2</td>\n",
              "    </tr>\n",
              "    <tr>\n",
              "      <th>3</th>\n",
              "      <td>4</td>\n",
              "      <td>50000.0</td>\n",
              "      <td>2</td>\n",
              "      <td>2</td>\n",
              "      <td>1</td>\n",
              "      <td>37</td>\n",
              "      <td>0</td>\n",
              "      <td>0</td>\n",
              "      <td>0</td>\n",
              "      <td>0</td>\n",
              "      <td>0</td>\n",
              "      <td>0</td>\n",
              "      <td>46990.0</td>\n",
              "      <td>48233.0</td>\n",
              "      <td>49291.0</td>\n",
              "      <td>28314.0</td>\n",
              "      <td>28959.0</td>\n",
              "      <td>29547.0</td>\n",
              "      <td>2000.0</td>\n",
              "      <td>2019.0</td>\n",
              "      <td>1200.0</td>\n",
              "      <td>1100.0</td>\n",
              "      <td>1069.0</td>\n",
              "      <td>1000.0</td>\n",
              "      <td>0</td>\n",
              "      <td>2</td>\n",
              "      <td>1</td>\n",
              "    </tr>\n",
              "    <tr>\n",
              "      <th>4</th>\n",
              "      <td>5</td>\n",
              "      <td>50000.0</td>\n",
              "      <td>1</td>\n",
              "      <td>2</td>\n",
              "      <td>1</td>\n",
              "      <td>57</td>\n",
              "      <td>-1</td>\n",
              "      <td>0</td>\n",
              "      <td>-1</td>\n",
              "      <td>0</td>\n",
              "      <td>0</td>\n",
              "      <td>0</td>\n",
              "      <td>8617.0</td>\n",
              "      <td>5670.0</td>\n",
              "      <td>35835.0</td>\n",
              "      <td>20940.0</td>\n",
              "      <td>19146.0</td>\n",
              "      <td>19131.0</td>\n",
              "      <td>2000.0</td>\n",
              "      <td>36681.0</td>\n",
              "      <td>10000.0</td>\n",
              "      <td>9000.0</td>\n",
              "      <td>689.0</td>\n",
              "      <td>679.0</td>\n",
              "      <td>0</td>\n",
              "      <td>2</td>\n",
              "      <td>1</td>\n",
              "    </tr>\n",
              "    <tr>\n",
              "      <th>...</th>\n",
              "      <td>...</td>\n",
              "      <td>...</td>\n",
              "      <td>...</td>\n",
              "      <td>...</td>\n",
              "      <td>...</td>\n",
              "      <td>...</td>\n",
              "      <td>...</td>\n",
              "      <td>...</td>\n",
              "      <td>...</td>\n",
              "      <td>...</td>\n",
              "      <td>...</td>\n",
              "      <td>...</td>\n",
              "      <td>...</td>\n",
              "      <td>...</td>\n",
              "      <td>...</td>\n",
              "      <td>...</td>\n",
              "      <td>...</td>\n",
              "      <td>...</td>\n",
              "      <td>...</td>\n",
              "      <td>...</td>\n",
              "      <td>...</td>\n",
              "      <td>...</td>\n",
              "      <td>...</td>\n",
              "      <td>...</td>\n",
              "      <td>...</td>\n",
              "      <td>...</td>\n",
              "      <td>...</td>\n",
              "    </tr>\n",
              "    <tr>\n",
              "      <th>29995</th>\n",
              "      <td>29996</td>\n",
              "      <td>220000.0</td>\n",
              "      <td>1</td>\n",
              "      <td>3</td>\n",
              "      <td>1</td>\n",
              "      <td>39</td>\n",
              "      <td>0</td>\n",
              "      <td>0</td>\n",
              "      <td>0</td>\n",
              "      <td>0</td>\n",
              "      <td>0</td>\n",
              "      <td>0</td>\n",
              "      <td>188948.0</td>\n",
              "      <td>192815.0</td>\n",
              "      <td>208365.0</td>\n",
              "      <td>88004.0</td>\n",
              "      <td>31237.0</td>\n",
              "      <td>15980.0</td>\n",
              "      <td>8500.0</td>\n",
              "      <td>20000.0</td>\n",
              "      <td>5003.0</td>\n",
              "      <td>3047.0</td>\n",
              "      <td>5000.0</td>\n",
              "      <td>1000.0</td>\n",
              "      <td>0</td>\n",
              "      <td>3</td>\n",
              "      <td>1</td>\n",
              "    </tr>\n",
              "    <tr>\n",
              "      <th>29996</th>\n",
              "      <td>29997</td>\n",
              "      <td>150000.0</td>\n",
              "      <td>1</td>\n",
              "      <td>3</td>\n",
              "      <td>2</td>\n",
              "      <td>43</td>\n",
              "      <td>-1</td>\n",
              "      <td>-1</td>\n",
              "      <td>-1</td>\n",
              "      <td>-1</td>\n",
              "      <td>0</td>\n",
              "      <td>0</td>\n",
              "      <td>1683.0</td>\n",
              "      <td>1828.0</td>\n",
              "      <td>3502.0</td>\n",
              "      <td>8979.0</td>\n",
              "      <td>5190.0</td>\n",
              "      <td>0.0</td>\n",
              "      <td>1837.0</td>\n",
              "      <td>3526.0</td>\n",
              "      <td>8998.0</td>\n",
              "      <td>129.0</td>\n",
              "      <td>0.0</td>\n",
              "      <td>0.0</td>\n",
              "      <td>0</td>\n",
              "      <td>3</td>\n",
              "      <td>2</td>\n",
              "    </tr>\n",
              "    <tr>\n",
              "      <th>29997</th>\n",
              "      <td>29998</td>\n",
              "      <td>30000.0</td>\n",
              "      <td>1</td>\n",
              "      <td>2</td>\n",
              "      <td>2</td>\n",
              "      <td>37</td>\n",
              "      <td>4</td>\n",
              "      <td>3</td>\n",
              "      <td>2</td>\n",
              "      <td>-1</td>\n",
              "      <td>0</td>\n",
              "      <td>0</td>\n",
              "      <td>3565.0</td>\n",
              "      <td>3356.0</td>\n",
              "      <td>2758.0</td>\n",
              "      <td>20878.0</td>\n",
              "      <td>20582.0</td>\n",
              "      <td>19357.0</td>\n",
              "      <td>0.0</td>\n",
              "      <td>0.0</td>\n",
              "      <td>22000.0</td>\n",
              "      <td>4200.0</td>\n",
              "      <td>2000.0</td>\n",
              "      <td>3100.0</td>\n",
              "      <td>1</td>\n",
              "      <td>2</td>\n",
              "      <td>2</td>\n",
              "    </tr>\n",
              "    <tr>\n",
              "      <th>29998</th>\n",
              "      <td>29999</td>\n",
              "      <td>80000.0</td>\n",
              "      <td>1</td>\n",
              "      <td>3</td>\n",
              "      <td>1</td>\n",
              "      <td>41</td>\n",
              "      <td>1</td>\n",
              "      <td>-1</td>\n",
              "      <td>0</td>\n",
              "      <td>0</td>\n",
              "      <td>0</td>\n",
              "      <td>-1</td>\n",
              "      <td>-1645.0</td>\n",
              "      <td>78379.0</td>\n",
              "      <td>76304.0</td>\n",
              "      <td>52774.0</td>\n",
              "      <td>11855.0</td>\n",
              "      <td>48944.0</td>\n",
              "      <td>85900.0</td>\n",
              "      <td>3409.0</td>\n",
              "      <td>1178.0</td>\n",
              "      <td>1926.0</td>\n",
              "      <td>52964.0</td>\n",
              "      <td>1804.0</td>\n",
              "      <td>1</td>\n",
              "      <td>3</td>\n",
              "      <td>1</td>\n",
              "    </tr>\n",
              "    <tr>\n",
              "      <th>29999</th>\n",
              "      <td>30000</td>\n",
              "      <td>50000.0</td>\n",
              "      <td>1</td>\n",
              "      <td>2</td>\n",
              "      <td>1</td>\n",
              "      <td>46</td>\n",
              "      <td>0</td>\n",
              "      <td>0</td>\n",
              "      <td>0</td>\n",
              "      <td>0</td>\n",
              "      <td>0</td>\n",
              "      <td>0</td>\n",
              "      <td>47929.0</td>\n",
              "      <td>48905.0</td>\n",
              "      <td>49764.0</td>\n",
              "      <td>36535.0</td>\n",
              "      <td>32428.0</td>\n",
              "      <td>15313.0</td>\n",
              "      <td>2078.0</td>\n",
              "      <td>1800.0</td>\n",
              "      <td>1430.0</td>\n",
              "      <td>1000.0</td>\n",
              "      <td>1000.0</td>\n",
              "      <td>1000.0</td>\n",
              "      <td>1</td>\n",
              "      <td>2</td>\n",
              "      <td>1</td>\n",
              "    </tr>\n",
              "  </tbody>\n",
              "</table>\n",
              "<p>30000 rows × 27 columns</p>\n",
              "</div>\n",
              "      <button class=\"colab-df-convert\" onclick=\"convertToInteractive('df-c1048aec-08bb-492a-a8ef-f31631c1789f')\"\n",
              "              title=\"Convert this dataframe to an interactive table.\"\n",
              "              style=\"display:none;\">\n",
              "        \n",
              "  <svg xmlns=\"http://www.w3.org/2000/svg\" height=\"24px\"viewBox=\"0 0 24 24\"\n",
              "       width=\"24px\">\n",
              "    <path d=\"M0 0h24v24H0V0z\" fill=\"none\"/>\n",
              "    <path d=\"M18.56 5.44l.94 2.06.94-2.06 2.06-.94-2.06-.94-.94-2.06-.94 2.06-2.06.94zm-11 1L8.5 8.5l.94-2.06 2.06-.94-2.06-.94L8.5 2.5l-.94 2.06-2.06.94zm10 10l.94 2.06.94-2.06 2.06-.94-2.06-.94-.94-2.06-.94 2.06-2.06.94z\"/><path d=\"M17.41 7.96l-1.37-1.37c-.4-.4-.92-.59-1.43-.59-.52 0-1.04.2-1.43.59L10.3 9.45l-7.72 7.72c-.78.78-.78 2.05 0 2.83L4 21.41c.39.39.9.59 1.41.59.51 0 1.02-.2 1.41-.59l7.78-7.78 2.81-2.81c.8-.78.8-2.07 0-2.86zM5.41 20L4 18.59l7.72-7.72 1.47 1.35L5.41 20z\"/>\n",
              "  </svg>\n",
              "      </button>\n",
              "      \n",
              "  <style>\n",
              "    .colab-df-container {\n",
              "      display:flex;\n",
              "      flex-wrap:wrap;\n",
              "      gap: 12px;\n",
              "    }\n",
              "\n",
              "    .colab-df-convert {\n",
              "      background-color: #E8F0FE;\n",
              "      border: none;\n",
              "      border-radius: 50%;\n",
              "      cursor: pointer;\n",
              "      display: none;\n",
              "      fill: #1967D2;\n",
              "      height: 32px;\n",
              "      padding: 0 0 0 0;\n",
              "      width: 32px;\n",
              "    }\n",
              "\n",
              "    .colab-df-convert:hover {\n",
              "      background-color: #E2EBFA;\n",
              "      box-shadow: 0px 1px 2px rgba(60, 64, 67, 0.3), 0px 1px 3px 1px rgba(60, 64, 67, 0.15);\n",
              "      fill: #174EA6;\n",
              "    }\n",
              "\n",
              "    [theme=dark] .colab-df-convert {\n",
              "      background-color: #3B4455;\n",
              "      fill: #D2E3FC;\n",
              "    }\n",
              "\n",
              "    [theme=dark] .colab-df-convert:hover {\n",
              "      background-color: #434B5C;\n",
              "      box-shadow: 0px 1px 3px 1px rgba(0, 0, 0, 0.15);\n",
              "      filter: drop-shadow(0px 1px 2px rgba(0, 0, 0, 0.3));\n",
              "      fill: #FFFFFF;\n",
              "    }\n",
              "  </style>\n",
              "\n",
              "      <script>\n",
              "        const buttonEl =\n",
              "          document.querySelector('#df-c1048aec-08bb-492a-a8ef-f31631c1789f button.colab-df-convert');\n",
              "        buttonEl.style.display =\n",
              "          google.colab.kernel.accessAllowed ? 'block' : 'none';\n",
              "\n",
              "        async function convertToInteractive(key) {\n",
              "          const element = document.querySelector('#df-c1048aec-08bb-492a-a8ef-f31631c1789f');\n",
              "          const dataTable =\n",
              "            await google.colab.kernel.invokeFunction('convertToInteractive',\n",
              "                                                     [key], {});\n",
              "          if (!dataTable) return;\n",
              "\n",
              "          const docLinkHtml = 'Like what you see? Visit the ' +\n",
              "            '<a target=\"_blank\" href=https://colab.research.google.com/notebooks/data_table.ipynb>data table notebook</a>'\n",
              "            + ' to learn more about interactive tables.';\n",
              "          element.innerHTML = '';\n",
              "          dataTable['output_type'] = 'display_data';\n",
              "          await google.colab.output.renderOutput(dataTable, element);\n",
              "          const docLink = document.createElement('div');\n",
              "          docLink.innerHTML = docLinkHtml;\n",
              "          element.appendChild(docLink);\n",
              "        }\n",
              "      </script>\n",
              "    </div>\n",
              "  </div>\n",
              "  "
            ]
          },
          "metadata": {},
          "execution_count": 55
        }
      ]
    },
    {
      "cell_type": "code",
      "source": [
        "cross_tab_pay_0=pd.crosstab(UCI_Credit_Card['PAY_0'],UCI_Credit_Card['default.payment.next.month'])\n",
        "cross_tab_pay_0_percent=cross_tab_pay_0.apply(lambda x: x/x.sum(), axis=1)\n",
        "print(cross_tab_pay_0_percent)\n",
        "print(cross_tab_pay_0)\n",
        "\n",
        "#0 referes to payment on time (pay duly)\n",
        "#-1 replaced by 0\n",
        "# replaced all -2 value with 1 AS -2 is exact 1 \n",
        "UCI_Credit_Card['PAY_0_new']=UCI_Credit_Card['PAY_0']\n",
        "UCI_Credit_Card['PAY_0_new'][UCI_Credit_Card['PAY_0_new']<0]=0\n",
        "UCI_Credit_Card['PAY_0_new'].value_counts()"
      ],
      "metadata": {
        "colab": {
          "base_uri": "https://localhost:8080/"
        },
        "id": "0yvJxhhkhIup",
        "outputId": "ed99aaee-7aa7-49a8-e047-5e5b5a8ff098",
        "collapsed": true
      },
      "execution_count": null,
      "outputs": [
        {
          "output_type": "stream",
          "name": "stdout",
          "text": [
            "default.payment.next.month         0         1\n",
            "PAY_0                                         \n",
            "-2                          0.867706  0.132294\n",
            "-1                          0.832219  0.167781\n",
            " 0                          0.871887  0.128113\n",
            " 1                          0.660521  0.339479\n",
            " 2                          0.308586  0.691414\n",
            " 3                          0.242236  0.757764\n",
            " 4                          0.315789  0.684211\n",
            " 5                          0.500000  0.500000\n",
            " 6                          0.454545  0.545455\n",
            " 7                          0.222222  0.777778\n",
            " 8                          0.421053  0.578947\n",
            "default.payment.next.month      0     1\n",
            "PAY_0                                  \n",
            "-2                           2394   365\n",
            "-1                           4732   954\n",
            " 0                          12849  1888\n",
            " 1                           2436  1252\n",
            " 2                            823  1844\n",
            " 3                             78   244\n",
            " 4                             24    52\n",
            " 5                             13    13\n",
            " 6                              5     6\n",
            " 7                              2     7\n",
            " 8                              8    11\n"
          ]
        },
        {
          "output_type": "stream",
          "name": "stderr",
          "text": [
            "/usr/local/lib/python3.7/dist-packages/ipykernel_launcher.py:10: SettingWithCopyWarning: \n",
            "A value is trying to be set on a copy of a slice from a DataFrame\n",
            "\n",
            "See the caveats in the documentation: https://pandas.pydata.org/pandas-docs/stable/user_guide/indexing.html#returning-a-view-versus-a-copy\n",
            "  # Remove the CWD from sys.path while we load stuff.\n"
          ]
        },
        {
          "output_type": "execute_result",
          "data": {
            "text/plain": [
              "0    23182\n",
              "1     3688\n",
              "2     2667\n",
              "3      322\n",
              "4       76\n",
              "5       26\n",
              "8       19\n",
              "6       11\n",
              "7        9\n",
              "Name: PAY_0_new, dtype: int64"
            ]
          },
          "metadata": {},
          "execution_count": 56
        }
      ]
    },
    {
      "cell_type": "markdown",
      "source": [
        "##Cat-var 6 ['PAY_2']"
      ],
      "metadata": {
        "id": "poEQjOl_f1sJ"
      }
    },
    {
      "cell_type": "code",
      "source": [
        "print((UCI_Credit_Card['PAY_2'].value_counts()/len(UCI_Credit_Card)*100).apply(lambda x: \"{:.2f}%\" .format((x))))"
      ],
      "metadata": {
        "colab": {
          "base_uri": "https://localhost:8080/"
        },
        "id": "k3nhBz0bjd4_",
        "outputId": "1e659466-7b90-434b-da70-67749401a431"
      },
      "execution_count": null,
      "outputs": [
        {
          "output_type": "stream",
          "name": "stdout",
          "text": [
            " 0    52.43%\n",
            "-1    20.17%\n",
            " 2    13.09%\n",
            "-2    12.61%\n",
            " 3     1.09%\n",
            " 4     0.33%\n",
            " 1     0.09%\n",
            " 5     0.08%\n",
            " 7     0.07%\n",
            " 6     0.04%\n",
            " 8     0.00%\n",
            "Name: PAY_2, dtype: object\n"
          ]
        }
      ]
    },
    {
      "cell_type": "code",
      "source": [
        "cross_tab_pay_2=pd.crosstab(UCI_Credit_Card['PAY_2'],UCI_Credit_Card['default.payment.next.month'])\n",
        "cross_tab_pay_2_percent=cross_tab_pay_2.apply(lambda x: x/x.sum(), axis=1)\n",
        "print(round(cross_tab_pay_2_percent,2))\n",
        "\n",
        "#0 referes to payment on time (pay duly)\n",
        "#-1 replaced by 0\n",
        "# replaced all -2 value with 1 AS -2 is exact 1 \n",
        "UCI_Credit_Card['PAY_2_new']=UCI_Credit_Card['PAY_2']\n",
        "UCI_Credit_Card['PAY_2_new'][UCI_Credit_Card['PAY_2_new']==-1]=0\n",
        "UCI_Credit_Card['PAY_2_new'][UCI_Credit_Card['PAY_2_new']==-2]=1\n",
        "UCI_Credit_Card['PAY_2_new'].value_counts()"
      ],
      "metadata": {
        "colab": {
          "base_uri": "https://localhost:8080/"
        },
        "id": "UM0lIR9ji8kp",
        "outputId": "babfea47-865c-4e3c-bda8-a306fe526bc0"
      },
      "execution_count": null,
      "outputs": [
        {
          "output_type": "stream",
          "name": "stdout",
          "text": [
            "default.payment.next.month     0     1\n",
            "PAY_2                                 \n",
            "-2                          0.82  0.18\n",
            "-1                          0.84  0.16\n",
            " 0                          0.84  0.16\n",
            " 1                          0.82  0.18\n",
            " 2                          0.44  0.56\n",
            " 3                          0.38  0.62\n",
            " 4                          0.49  0.51\n",
            " 5                          0.40  0.60\n",
            " 6                          0.25  0.75\n",
            " 7                          0.40  0.60\n",
            " 8                          1.00  0.00\n"
          ]
        },
        {
          "output_type": "stream",
          "name": "stderr",
          "text": [
            "/usr/local/lib/python3.7/dist-packages/ipykernel_launcher.py:9: SettingWithCopyWarning: \n",
            "A value is trying to be set on a copy of a slice from a DataFrame\n",
            "\n",
            "See the caveats in the documentation: https://pandas.pydata.org/pandas-docs/stable/user_guide/indexing.html#returning-a-view-versus-a-copy\n",
            "  if __name__ == '__main__':\n",
            "/usr/local/lib/python3.7/dist-packages/ipykernel_launcher.py:10: SettingWithCopyWarning: \n",
            "A value is trying to be set on a copy of a slice from a DataFrame\n",
            "\n",
            "See the caveats in the documentation: https://pandas.pydata.org/pandas-docs/stable/user_guide/indexing.html#returning-a-view-versus-a-copy\n",
            "  # Remove the CWD from sys.path while we load stuff.\n"
          ]
        },
        {
          "output_type": "execute_result",
          "data": {
            "text/plain": [
              "0    21780\n",
              "2     3927\n",
              "1     3810\n",
              "3      326\n",
              "4       99\n",
              "5       25\n",
              "7       20\n",
              "6       12\n",
              "8        1\n",
              "Name: PAY_2_new, dtype: int64"
            ]
          },
          "metadata": {},
          "execution_count": 58
        }
      ]
    },
    {
      "cell_type": "markdown",
      "source": [
        "##Cat-var 7 ['PAY_3']"
      ],
      "metadata": {
        "id": "v3I5yggNj_6L"
      }
    },
    {
      "cell_type": "code",
      "source": [
        "print((UCI_Credit_Card['PAY_3'].value_counts()/len(UCI_Credit_Card)*100).apply(lambda x: \"{:.2f}%\" .format((x))))"
      ],
      "metadata": {
        "colab": {
          "base_uri": "https://localhost:8080/"
        },
        "id": "ZSgNXWWgj_nH",
        "outputId": "c5b3dc05-e310-4944-eee7-bd10b96e3173"
      },
      "execution_count": null,
      "outputs": [
        {
          "output_type": "stream",
          "name": "stdout",
          "text": [
            " 0    52.55%\n",
            "-1    19.79%\n",
            "-2    13.62%\n",
            " 2    12.73%\n",
            " 3     0.80%\n",
            " 4     0.25%\n",
            " 7     0.09%\n",
            " 6     0.08%\n",
            " 5     0.07%\n",
            " 1     0.01%\n",
            " 8     0.01%\n",
            "Name: PAY_3, dtype: object\n"
          ]
        }
      ]
    },
    {
      "cell_type": "code",
      "source": [
        "cross_tab_pay_3=pd.crosstab(UCI_Credit_Card['PAY_3'],UCI_Credit_Card['default.payment.next.month'])\n",
        "cross_tab_pay_3_percent=cross_tab_pay_3.apply(lambda x: x/x.sum(), axis=1)\n",
        "print(round(cross_tab_pay_3_percent,2))\n",
        "\n",
        "#0 referes to payment on time (pay duly)\n",
        "# replaced all <0 value with 0 \n",
        "UCI_Credit_Card['PAY_3_new']=UCI_Credit_Card['PAY_3']\n",
        "UCI_Credit_Card['PAY_3_new'][UCI_Credit_Card['PAY_3_new']<0]=0\n",
        "UCI_Credit_Card['PAY_3_new'].value_counts()"
      ],
      "metadata": {
        "colab": {
          "base_uri": "https://localhost:8080/"
        },
        "id": "OSlfnd4Cj_bh",
        "outputId": "10400b18-b611-40f6-f159-8f5e0a0f9272"
      },
      "execution_count": null,
      "outputs": [
        {
          "output_type": "stream",
          "name": "stdout",
          "text": [
            "default.payment.next.month     0     1\n",
            "PAY_3                                 \n",
            "-2                          0.81  0.19\n",
            "-1                          0.84  0.16\n",
            " 0                          0.83  0.17\n",
            " 1                          0.75  0.25\n",
            " 2                          0.48  0.52\n",
            " 3                          0.42  0.57\n",
            " 4                          0.42  0.58\n",
            " 5                          0.43  0.57\n",
            " 6                          0.39  0.61\n",
            " 7                          0.19  0.81\n",
            " 8                          0.33  0.67\n"
          ]
        },
        {
          "output_type": "stream",
          "name": "stderr",
          "text": [
            "/usr/local/lib/python3.7/dist-packages/ipykernel_launcher.py:8: SettingWithCopyWarning: \n",
            "A value is trying to be set on a copy of a slice from a DataFrame\n",
            "\n",
            "See the caveats in the documentation: https://pandas.pydata.org/pandas-docs/stable/user_guide/indexing.html#returning-a-view-versus-a-copy\n",
            "  \n"
          ]
        },
        {
          "output_type": "execute_result",
          "data": {
            "text/plain": [
              "0    25787\n",
              "2     3819\n",
              "3      240\n",
              "4       76\n",
              "7       27\n",
              "6       23\n",
              "5       21\n",
              "1        4\n",
              "8        3\n",
              "Name: PAY_3_new, dtype: int64"
            ]
          },
          "metadata": {},
          "execution_count": 60
        }
      ]
    },
    {
      "cell_type": "markdown",
      "source": [
        "##Cat-var 8 ['PAY_4']"
      ],
      "metadata": {
        "id": "r0H8jXAZlFsY"
      }
    },
    {
      "cell_type": "code",
      "source": [
        "print((UCI_Credit_Card['PAY_4'].value_counts()/len(UCI_Credit_Card)*100).apply(lambda x: \"{:.2f}%\" .format((x))))"
      ],
      "metadata": {
        "colab": {
          "base_uri": "https://localhost:8080/"
        },
        "id": "ySLlmw1YlGV5",
        "outputId": "26f3a333-ce69-40a8-e816-d195c38e2fe6"
      },
      "execution_count": null,
      "outputs": [
        {
          "output_type": "stream",
          "name": "stdout",
          "text": [
            " 0    54.85%\n",
            "-1    18.96%\n",
            "-2    14.49%\n",
            " 2    10.53%\n",
            " 3     0.60%\n",
            " 4     0.23%\n",
            " 7     0.19%\n",
            " 5     0.12%\n",
            " 6     0.02%\n",
            " 1     0.01%\n",
            " 8     0.01%\n",
            "Name: PAY_4, dtype: object\n"
          ]
        }
      ]
    },
    {
      "cell_type": "code",
      "source": [
        "cross_tab_pay_4=pd.crosstab(UCI_Credit_Card['PAY_4'],UCI_Credit_Card['default.payment.next.month'])\n",
        "cross_tab_pay_4_percent=cross_tab_pay_4.apply(lambda x: x/x.sum(), axis=1)\n",
        "print(round(cross_tab_pay_4_percent,2))\n",
        "\n",
        "#0 referes to payment on time (pay duly)\n",
        "# replaced all <0 value with 0 \n",
        "UCI_Credit_Card['PAY_4_new']=UCI_Credit_Card['PAY_4']\n",
        "UCI_Credit_Card['PAY_4_new'][UCI_Credit_Card['PAY_4_new']<0]=0\n",
        "UCI_Credit_Card['PAY_4_new'].value_counts()"
      ],
      "metadata": {
        "colab": {
          "base_uri": "https://localhost:8080/"
        },
        "id": "c-YX_c5wlFIi",
        "outputId": "a58f7ded-0348-4007-fca1-8f210d2709df"
      },
      "execution_count": null,
      "outputs": [
        {
          "output_type": "stream",
          "name": "stdout",
          "text": [
            "default.payment.next.month     0     1\n",
            "PAY_4                                 \n",
            "-2                          0.81  0.19\n",
            "-1                          0.84  0.16\n",
            " 0                          0.82  0.18\n",
            " 1                          0.50  0.50\n",
            " 2                          0.48  0.52\n",
            " 3                          0.39  0.61\n",
            " 4                          0.33  0.67\n",
            " 5                          0.49  0.51\n",
            " 6                          0.60  0.40\n",
            " 7                          0.17  0.83\n",
            " 8                          0.50  0.50\n"
          ]
        },
        {
          "output_type": "stream",
          "name": "stderr",
          "text": [
            "/usr/local/lib/python3.7/dist-packages/ipykernel_launcher.py:8: SettingWithCopyWarning: \n",
            "A value is trying to be set on a copy of a slice from a DataFrame\n",
            "\n",
            "See the caveats in the documentation: https://pandas.pydata.org/pandas-docs/stable/user_guide/indexing.html#returning-a-view-versus-a-copy\n",
            "  \n"
          ]
        },
        {
          "output_type": "execute_result",
          "data": {
            "text/plain": [
              "0    26490\n",
              "2     3159\n",
              "3      180\n",
              "4       69\n",
              "7       58\n",
              "5       35\n",
              "6        5\n",
              "1        2\n",
              "8        2\n",
              "Name: PAY_4_new, dtype: int64"
            ]
          },
          "metadata": {},
          "execution_count": 62
        }
      ]
    },
    {
      "cell_type": "markdown",
      "source": [],
      "metadata": {
        "id": "GPIpJmKkn-IF"
      }
    },
    {
      "cell_type": "markdown",
      "source": [
        "##Cat-var 9 ['PAY_5']"
      ],
      "metadata": {
        "id": "W0cz2ntSn-eL"
      }
    },
    {
      "cell_type": "code",
      "source": [
        "print((UCI_Credit_Card['PAY_5'].value_counts()/len(UCI_Credit_Card)*100).apply(lambda x: \"{:.2f}%\" .format((x))))"
      ],
      "metadata": {
        "colab": {
          "base_uri": "https://localhost:8080/"
        },
        "outputId": "bf40258c-42f7-433e-8a4c-8ebc5fada4f4",
        "id": "cdhEY_vtn-eM"
      },
      "execution_count": null,
      "outputs": [
        {
          "output_type": "stream",
          "name": "stdout",
          "text": [
            " 0    56.49%\n",
            "-1    18.46%\n",
            "-2    15.15%\n",
            " 2     8.75%\n",
            " 3     0.59%\n",
            " 4     0.28%\n",
            " 7     0.19%\n",
            " 5     0.06%\n",
            " 6     0.01%\n",
            " 8     0.00%\n",
            "Name: PAY_5, dtype: object\n"
          ]
        }
      ]
    },
    {
      "cell_type": "code",
      "source": [
        "cross_tab_pay_5=pd.crosstab(UCI_Credit_Card['PAY_5'],UCI_Credit_Card['default.payment.next.month'])\n",
        "cross_tab_pay_5_percent=cross_tab_pay_5.apply(lambda x: x/x.sum(), axis=1)\n",
        "print(round(cross_tab_pay_5_percent,2))\n",
        "\n",
        "#0 referes to payment on time (pay duly)\n",
        "# replaced all <0 value with 0 \n",
        "UCI_Credit_Card['PAY_5_new']=UCI_Credit_Card['PAY_5']\n",
        "UCI_Credit_Card['PAY_5_new'][UCI_Credit_Card['PAY_5_new']<0]=0\n",
        "UCI_Credit_Card['PAY_5_new'].value_counts()"
      ],
      "metadata": {
        "colab": {
          "base_uri": "https://localhost:8080/"
        },
        "outputId": "dfe30110-972a-4a7c-8619-22844e30f8f6",
        "id": "7yMb2jten-eM"
      },
      "execution_count": null,
      "outputs": [
        {
          "output_type": "stream",
          "name": "stdout",
          "text": [
            "default.payment.next.month     0     1\n",
            "PAY_5                                 \n",
            "-2                          0.80  0.20\n",
            "-1                          0.84  0.16\n",
            " 0                          0.81  0.19\n",
            " 2                          0.46  0.54\n",
            " 3                          0.37  0.63\n",
            " 4                          0.39  0.61\n",
            " 5                          0.41  0.59\n",
            " 6                          0.25  0.75\n",
            " 7                          0.17  0.83\n",
            " 8                          0.00  1.00\n"
          ]
        },
        {
          "output_type": "stream",
          "name": "stderr",
          "text": [
            "/usr/local/lib/python3.7/dist-packages/ipykernel_launcher.py:8: SettingWithCopyWarning: \n",
            "A value is trying to be set on a copy of a slice from a DataFrame\n",
            "\n",
            "See the caveats in the documentation: https://pandas.pydata.org/pandas-docs/stable/user_guide/indexing.html#returning-a-view-versus-a-copy\n",
            "  \n"
          ]
        },
        {
          "output_type": "execute_result",
          "data": {
            "text/plain": [
              "0    27032\n",
              "2     2626\n",
              "3      178\n",
              "4       84\n",
              "7       58\n",
              "5       17\n",
              "6        4\n",
              "8        1\n",
              "Name: PAY_5_new, dtype: int64"
            ]
          },
          "metadata": {},
          "execution_count": 64
        }
      ]
    },
    {
      "cell_type": "markdown",
      "source": [],
      "metadata": {
        "id": "N72SV7B2ql1u"
      }
    },
    {
      "cell_type": "markdown",
      "source": [
        "##Cat-var 10 ['PAY_6']"
      ],
      "metadata": {
        "id": "UalCizjiqmPv"
      }
    },
    {
      "cell_type": "code",
      "source": [
        "print((UCI_Credit_Card['PAY_6'].value_counts()/len(UCI_Credit_Card)*100).apply(lambda x: \"{:.2f}%\" .format((x))))"
      ],
      "metadata": {
        "colab": {
          "base_uri": "https://localhost:8080/"
        },
        "outputId": "c0ee277f-e4b8-47db-a629-52e1920cd729",
        "id": "ZaXoLZsQqmPy"
      },
      "execution_count": null,
      "outputs": [
        {
          "output_type": "stream",
          "name": "stdout",
          "text": [
            " 0    54.29%\n",
            "-1    19.13%\n",
            "-2    16.32%\n",
            " 2     9.22%\n",
            " 3     0.61%\n",
            " 4     0.16%\n",
            " 7     0.15%\n",
            " 6     0.06%\n",
            " 5     0.04%\n",
            " 8     0.01%\n",
            "Name: PAY_6, dtype: object\n"
          ]
        }
      ]
    },
    {
      "cell_type": "code",
      "source": [
        "cross_tab_pay_6=pd.crosstab(UCI_Credit_Card['PAY_6'],UCI_Credit_Card['default.payment.next.month'])\n",
        "cross_tab_pay_6_percent=cross_tab_pay_6.apply(lambda x: x/x.sum(), axis=1)\n",
        "print(round(cross_tab_pay_6_percent,2))\n",
        "\n",
        "#0 referes to payment on time (pay duly)\n",
        "# replaced all <0 value with 0 \n",
        "UCI_Credit_Card['PAY_6_new']=UCI_Credit_Card['PAY_6']\n",
        "UCI_Credit_Card['PAY_6_new'][UCI_Credit_Card['PAY_6_new']<0]=0\n",
        "UCI_Credit_Card['PAY_6_new'].value_counts()"
      ],
      "metadata": {
        "colab": {
          "base_uri": "https://localhost:8080/"
        },
        "outputId": "42678e3b-095e-431d-c1b1-ce17a60a9ec2",
        "id": "hPck8RjTqmP0"
      },
      "execution_count": null,
      "outputs": [
        {
          "output_type": "stream",
          "name": "stdout",
          "text": [
            "default.payment.next.month     0     1\n",
            "PAY_6                                 \n",
            "-2                          0.80  0.20\n",
            "-1                          0.83  0.17\n",
            " 0                          0.81  0.19\n",
            " 2                          0.49  0.51\n",
            " 3                          0.36  0.64\n",
            " 4                          0.37  0.63\n",
            " 5                          0.46  0.54\n",
            " 6                          0.26  0.74\n",
            " 7                          0.17  0.83\n",
            " 8                          0.00  1.00\n"
          ]
        },
        {
          "output_type": "stream",
          "name": "stderr",
          "text": [
            "/usr/local/lib/python3.7/dist-packages/ipykernel_launcher.py:8: SettingWithCopyWarning: \n",
            "A value is trying to be set on a copy of a slice from a DataFrame\n",
            "\n",
            "See the caveats in the documentation: https://pandas.pydata.org/pandas-docs/stable/user_guide/indexing.html#returning-a-view-versus-a-copy\n",
            "  \n"
          ]
        },
        {
          "output_type": "execute_result",
          "data": {
            "text/plain": [
              "0    26921\n",
              "2     2766\n",
              "3      184\n",
              "4       49\n",
              "7       46\n",
              "6       19\n",
              "5       13\n",
              "8        2\n",
              "Name: PAY_6_new, dtype: int64"
            ]
          },
          "metadata": {},
          "execution_count": 66
        }
      ]
    },
    {
      "cell_type": "markdown",
      "source": [
        "#Data Cleaning Countinuous"
      ],
      "metadata": {
        "id": "B0DV-A9drx4c"
      }
    },
    {
      "cell_type": "markdown",
      "source": [
        "##Continuos Var -1 [LIMIT_BAL]"
      ],
      "metadata": {
        "id": "_triAkJutYJa"
      }
    },
    {
      "cell_type": "code",
      "source": [
        "UCI_Credit_Card['LIMIT_BAL_NEW']=UCI_Credit_Card['LIMIT_BAL']\n",
        "UCI_Credit_Card['LIMIT_BAL_NEW'][UCI_Credit_Card['LIMIT_BAL']>500000]=UCI_Credit_Card['BILL_AMT1'].median()\n",
        "UCI_Credit_Card['LIMIT_BAL_NEW'].quantile([0.1,0.2,0.25,0.3,0.4,0.5,0.6,0.7,0.8,0.9,1])"
      ],
      "metadata": {
        "colab": {
          "base_uri": "https://localhost:8080/"
        },
        "id": "pW_cBADAxCjp",
        "outputId": "cdc0db53-0a85-40e9-cf89-153869988bfa"
      },
      "execution_count": null,
      "outputs": [
        {
          "output_type": "stream",
          "name": "stderr",
          "text": [
            "/usr/local/lib/python3.7/dist-packages/ipykernel_launcher.py:2: SettingWithCopyWarning: \n",
            "A value is trying to be set on a copy of a slice from a DataFrame\n",
            "\n",
            "See the caveats in the documentation: https://pandas.pydata.org/pandas-docs/stable/user_guide/indexing.html#returning-a-view-versus-a-copy\n",
            "  \n"
          ]
        },
        {
          "output_type": "execute_result",
          "data": {
            "text/plain": [
              "0.10     30000.0\n",
              "0.20     50000.0\n",
              "0.25     50000.0\n",
              "0.30     70000.0\n",
              "0.40    100000.0\n",
              "0.50    140000.0\n",
              "0.60    180000.0\n",
              "0.70    210000.0\n",
              "0.80    260000.0\n",
              "0.90    360000.0\n",
              "1.00    500000.0\n",
              "Name: LIMIT_BAL_NEW, dtype: float64"
            ]
          },
          "metadata": {},
          "execution_count": 67
        }
      ]
    },
    {
      "cell_type": "markdown",
      "source": [
        "##Continuos Var -2 [BILL_AMT1]"
      ],
      "metadata": {
        "id": "OTwthrGD0K11"
      }
    },
    {
      "cell_type": "code",
      "source": [
        "UCI_Credit_Card['BILL_AMT1_new']= UCI_Credit_Card['BILL_AMT1']\n",
        "UCI_Credit_Card['BILL_AMT1_new'][UCI_Credit_Card['BILL_AMT1']>350110]=UCI_Credit_Card['BILL_AMT1'].median()\n",
        "UCI_Credit_Card['BILL_AMT1_new'][UCI_Credit_Card['BILL_AMT1']<0]=UCI_Credit_Card['BILL_AMT1'][UCI_Credit_Card['BILL_AMT1']<0].median()\n",
        "UCI_Credit_Card['BILL_AMT1_new'].quantile([0.9,0.91,0.92,0.93,0.94,0.95,0.96,0.97,0.98,0.99,1])"
      ],
      "metadata": {
        "colab": {
          "base_uri": "https://localhost:8080/"
        },
        "id": "WoKuszE2vmvR",
        "outputId": "7b1bba32-614f-4960-c5dd-82d66df52288"
      },
      "execution_count": null,
      "outputs": [
        {
          "output_type": "stream",
          "name": "stderr",
          "text": [
            "/usr/local/lib/python3.7/dist-packages/ipykernel_launcher.py:2: SettingWithCopyWarning: \n",
            "A value is trying to be set on a copy of a slice from a DataFrame\n",
            "\n",
            "See the caveats in the documentation: https://pandas.pydata.org/pandas-docs/stable/user_guide/indexing.html#returning-a-view-versus-a-copy\n",
            "  \n",
            "/usr/local/lib/python3.7/dist-packages/ipykernel_launcher.py:3: SettingWithCopyWarning: \n",
            "A value is trying to be set on a copy of a slice from a DataFrame\n",
            "\n",
            "See the caveats in the documentation: https://pandas.pydata.org/pandas-docs/stable/user_guide/indexing.html#returning-a-view-versus-a-copy\n",
            "  This is separate from the ipykernel package so we can avoid doing imports until\n"
          ]
        },
        {
          "output_type": "execute_result",
          "data": {
            "text/plain": [
              "0.90    134628.90\n",
              "0.91    142133.53\n",
              "0.92    151214.64\n",
              "0.93    162126.61\n",
              "0.94    173630.54\n",
              "0.95    187073.80\n",
              "0.96    201202.84\n",
              "0.97    220591.54\n",
              "0.98    245969.56\n",
              "0.99    282224.84\n",
              "1.00    350110.00\n",
              "Name: BILL_AMT1_new, dtype: float64"
            ]
          },
          "metadata": {},
          "execution_count": 68
        }
      ]
    },
    {
      "cell_type": "markdown",
      "source": [
        "##Continuos Var -3 [BILL_AMT2]"
      ],
      "metadata": {
        "id": "zbZ1pCPdUOLT"
      }
    },
    {
      "cell_type": "code",
      "source": [
        "UCI_Credit_Card['BILL_AMT2_new']= UCI_Credit_Card['BILL_AMT2']\n",
        "UCI_Credit_Card['BILL_AMT2_new'][UCI_Credit_Card['BILL_AMT2']>337495]=UCI_Credit_Card['BILL_AMT2'].median()\n",
        "UCI_Credit_Card['BILL_AMT2_new'][UCI_Credit_Card['BILL_AMT2']<0]=UCI_Credit_Card['BILL_AMT2'][UCI_Credit_Card['BILL_AMT2']<0].median()\n",
        "UCI_Credit_Card['BILL_AMT2_new'].quantile([0.9,0.91,0.92,0.93,0.94,0.95,0.96,0.97,0.98,0.99,1])"
      ],
      "metadata": {
        "colab": {
          "base_uri": "https://localhost:8080/"
        },
        "id": "2eq1W12bUKlq",
        "outputId": "708bc21e-1283-4745-f99b-586d4c76972d"
      },
      "execution_count": null,
      "outputs": [
        {
          "output_type": "stream",
          "name": "stderr",
          "text": [
            "/usr/local/lib/python3.7/dist-packages/ipykernel_launcher.py:2: SettingWithCopyWarning: \n",
            "A value is trying to be set on a copy of a slice from a DataFrame\n",
            "\n",
            "See the caveats in the documentation: https://pandas.pydata.org/pandas-docs/stable/user_guide/indexing.html#returning-a-view-versus-a-copy\n",
            "  \n",
            "/usr/local/lib/python3.7/dist-packages/ipykernel_launcher.py:3: SettingWithCopyWarning: \n",
            "A value is trying to be set on a copy of a slice from a DataFrame\n",
            "\n",
            "See the caveats in the documentation: https://pandas.pydata.org/pandas-docs/stable/user_guide/indexing.html#returning-a-view-versus-a-copy\n",
            "  This is separate from the ipykernel package so we can avoid doing imports until\n"
          ]
        },
        {
          "output_type": "execute_result",
          "data": {
            "text/plain": [
              "0.90    130283.90\n",
              "0.91    136905.05\n",
              "0.92    145064.32\n",
              "0.93    155362.63\n",
              "0.94    167485.24\n",
              "0.95    180578.00\n",
              "0.96    194792.16\n",
              "0.97    211342.31\n",
              "0.98    236662.48\n",
              "0.99    274119.79\n",
              "1.00    337495.00\n",
              "Name: BILL_AMT2_new, dtype: float64"
            ]
          },
          "metadata": {},
          "execution_count": 69
        }
      ]
    },
    {
      "cell_type": "markdown",
      "source": [
        "##Continuos Var -4 [BILL_AMT3]"
      ],
      "metadata": {
        "id": "yTTCaK0-VWhh"
      }
    },
    {
      "cell_type": "code",
      "source": [
        "UCI_Credit_Card['BILL_AMT3_new']= UCI_Credit_Card['BILL_AMT3']\n",
        "UCI_Credit_Card['BILL_AMT3_new'][UCI_Credit_Card['BILL_AMT3']>325030]=UCI_Credit_Card['BILL_AMT3'].median()\n",
        "UCI_Credit_Card['BILL_AMT3_new'][UCI_Credit_Card['BILL_AMT3']<0]=UCI_Credit_Card['BILL_AMT3'][UCI_Credit_Card['BILL_AMT3']<0].median()\n",
        "UCI_Credit_Card['BILL_AMT3_new'].quantile([0.9,0.91,0.92,0.93,0.94,0.95,0.96,0.97,0.98,0.99,1])"
      ],
      "metadata": {
        "colab": {
          "base_uri": "https://localhost:8080/"
        },
        "id": "-k-wU1WFUKFb",
        "outputId": "12e38527-b147-4e90-cea2-5f3054454c71"
      },
      "execution_count": null,
      "outputs": [
        {
          "output_type": "stream",
          "name": "stderr",
          "text": [
            "/usr/local/lib/python3.7/dist-packages/ipykernel_launcher.py:2: SettingWithCopyWarning: \n",
            "A value is trying to be set on a copy of a slice from a DataFrame\n",
            "\n",
            "See the caveats in the documentation: https://pandas.pydata.org/pandas-docs/stable/user_guide/indexing.html#returning-a-view-versus-a-copy\n",
            "  \n",
            "/usr/local/lib/python3.7/dist-packages/ipykernel_launcher.py:3: SettingWithCopyWarning: \n",
            "A value is trying to be set on a copy of a slice from a DataFrame\n",
            "\n",
            "See the caveats in the documentation: https://pandas.pydata.org/pandas-docs/stable/user_guide/indexing.html#returning-a-view-versus-a-copy\n",
            "  This is separate from the ipykernel package so we can avoid doing imports until\n"
          ]
        },
        {
          "output_type": "execute_result",
          "data": {
            "text/plain": [
              "0.90    124691.50\n",
              "0.91    132051.27\n",
              "0.92    139418.96\n",
              "0.93    148632.71\n",
              "0.94    160048.66\n",
              "0.95    173240.45\n",
              "0.96    187820.84\n",
              "0.97    203652.35\n",
              "0.98    228276.86\n",
              "0.99    263206.27\n",
              "1.00    325024.00\n",
              "Name: BILL_AMT3_new, dtype: float64"
            ]
          },
          "metadata": {},
          "execution_count": 70
        }
      ]
    },
    {
      "cell_type": "markdown",
      "source": [
        "##Continuos Var -5 [BILL_AMT4]"
      ],
      "metadata": {
        "id": "rjsa6ZXvWUJS"
      }
    },
    {
      "cell_type": "code",
      "source": [
        "UCI_Credit_Card['BILL_AMT4_new']= UCI_Credit_Card['BILL_AMT4']\n",
        "UCI_Credit_Card['BILL_AMT4_new'][UCI_Credit_Card['BILL_AMT4']>304997]=UCI_Credit_Card['BILL_AMT4'].median()\n",
        "UCI_Credit_Card['BILL_AMT4_new'][UCI_Credit_Card['BILL_AMT4']<0]=UCI_Credit_Card['BILL_AMT4'][UCI_Credit_Card['BILL_AMT4']<0].median()\n",
        "UCI_Credit_Card['BILL_AMT4_new'].quantile([0.9,0.91,0.92,0.93,0.94,0.95,0.96,0.97,0.98,0.99,1])"
      ],
      "metadata": {
        "colab": {
          "base_uri": "https://localhost:8080/"
        },
        "id": "CTlqUQ8kWYYc",
        "outputId": "51482c10-4dd3-49c2-8587-8c11bdb89e8c"
      },
      "execution_count": null,
      "outputs": [
        {
          "output_type": "stream",
          "name": "stderr",
          "text": [
            "/usr/local/lib/python3.7/dist-packages/ipykernel_launcher.py:2: SettingWithCopyWarning: \n",
            "A value is trying to be set on a copy of a slice from a DataFrame\n",
            "\n",
            "See the caveats in the documentation: https://pandas.pydata.org/pandas-docs/stable/user_guide/indexing.html#returning-a-view-versus-a-copy\n",
            "  \n",
            "/usr/local/lib/python3.7/dist-packages/ipykernel_launcher.py:3: SettingWithCopyWarning: \n",
            "A value is trying to be set on a copy of a slice from a DataFrame\n",
            "\n",
            "See the caveats in the documentation: https://pandas.pydata.org/pandas-docs/stable/user_guide/indexing.html#returning-a-view-versus-a-copy\n",
            "  This is separate from the ipykernel package so we can avoid doing imports until\n"
          ]
        },
        {
          "output_type": "execute_result",
          "data": {
            "text/plain": [
              "0.90    115045.10\n",
              "0.91    122418.43\n",
              "0.92    130937.08\n",
              "0.93    138645.45\n",
              "0.94    148287.30\n",
              "0.95    160944.10\n",
              "0.96    174332.68\n",
              "0.97    190087.64\n",
              "0.98    210965.34\n",
              "0.99    246652.36\n",
              "1.00    304997.00\n",
              "Name: BILL_AMT4_new, dtype: float64"
            ]
          },
          "metadata": {},
          "execution_count": 71
        }
      ]
    },
    {
      "cell_type": "markdown",
      "source": [
        "##Continuos Var -6 [BILL_AMT5]\n"
      ],
      "metadata": {
        "id": "reK7STtuZvJm"
      }
    },
    {
      "cell_type": "code",
      "source": [
        "UCI_Credit_Card['BILL_AMT5_new']= UCI_Credit_Card['BILL_AMT5']\n",
        "UCI_Credit_Card['BILL_AMT5_new'][UCI_Credit_Card['BILL_AMT5']>285868]=UCI_Credit_Card['BILL_AMT5'].median()\n",
        "UCI_Credit_Card['BILL_AMT5_new'][UCI_Credit_Card['BILL_AMT5']<0]=UCI_Credit_Card['BILL_AMT5'][UCI_Credit_Card['BILL_AMT5']<0].median()\n",
        "UCI_Credit_Card['BILL_AMT5_new'].quantile([0.9,0.91,0.92,0.93,0.94,0.95,0.96,0.97,0.98,0.99,1])"
      ],
      "metadata": {
        "colab": {
          "base_uri": "https://localhost:8080/"
        },
        "id": "703SKFiJZuEO",
        "outputId": "b561e9eb-ce65-437c-a13a-6fe31c6b3129"
      },
      "execution_count": null,
      "outputs": [
        {
          "output_type": "stream",
          "name": "stderr",
          "text": [
            "/usr/local/lib/python3.7/dist-packages/ipykernel_launcher.py:2: SettingWithCopyWarning: \n",
            "A value is trying to be set on a copy of a slice from a DataFrame\n",
            "\n",
            "See the caveats in the documentation: https://pandas.pydata.org/pandas-docs/stable/user_guide/indexing.html#returning-a-view-versus-a-copy\n",
            "  \n",
            "/usr/local/lib/python3.7/dist-packages/ipykernel_launcher.py:3: SettingWithCopyWarning: \n",
            "A value is trying to be set on a copy of a slice from a DataFrame\n",
            "\n",
            "See the caveats in the documentation: https://pandas.pydata.org/pandas-docs/stable/user_guide/indexing.html#returning-a-view-versus-a-copy\n",
            "  This is separate from the ipykernel package so we can avoid doing imports until\n"
          ]
        },
        {
          "output_type": "execute_result",
          "data": {
            "text/plain": [
              "0.90    108074.90\n",
              "0.91    115882.90\n",
              "0.92    123655.32\n",
              "0.93    132233.84\n",
              "0.94    141291.42\n",
              "0.95    151270.15\n",
              "0.96    165794.24\n",
              "0.97    181043.58\n",
              "0.98    198861.02\n",
              "0.99    228577.52\n",
              "1.00    285868.00\n",
              "Name: BILL_AMT5_new, dtype: float64"
            ]
          },
          "metadata": {},
          "execution_count": 72
        }
      ]
    },
    {
      "cell_type": "markdown",
      "source": [
        "##Continuos Var -7 [BILL_AMT6]"
      ],
      "metadata": {
        "id": "Y1Y-NiwqW3Oe"
      }
    },
    {
      "cell_type": "code",
      "source": [
        "UCI_Credit_Card['BILL_AMT6_new']= UCI_Credit_Card['BILL_AMT6']\n",
        "UCI_Credit_Card['BILL_AMT6_new'][UCI_Credit_Card['BILL_AMT6']>279505]=UCI_Credit_Card['BILL_AMT6'].median()\n",
        "UCI_Credit_Card['BILL_AMT6_new'][UCI_Credit_Card['BILL_AMT6']<0]=UCI_Credit_Card['BILL_AMT6'][UCI_Credit_Card['BILL_AMT6']<0].median()\n",
        "UCI_Credit_Card['BILL_AMT6_new'].quantile([0.9,0.91,0.92,0.93,0.94,0.95,0.96,0.97,0.98,0.99,1])"
      ],
      "metadata": {
        "colab": {
          "base_uri": "https://localhost:8080/"
        },
        "id": "FNWsNiwAW4Pt",
        "outputId": "7299ea6c-8f90-4bb3-de77-860e425ca523"
      },
      "execution_count": null,
      "outputs": [
        {
          "output_type": "stream",
          "name": "stderr",
          "text": [
            "/usr/local/lib/python3.7/dist-packages/ipykernel_launcher.py:2: SettingWithCopyWarning: \n",
            "A value is trying to be set on a copy of a slice from a DataFrame\n",
            "\n",
            "See the caveats in the documentation: https://pandas.pydata.org/pandas-docs/stable/user_guide/indexing.html#returning-a-view-versus-a-copy\n",
            "  \n",
            "/usr/local/lib/python3.7/dist-packages/ipykernel_launcher.py:3: SettingWithCopyWarning: \n",
            "A value is trying to be set on a copy of a slice from a DataFrame\n",
            "\n",
            "See the caveats in the documentation: https://pandas.pydata.org/pandas-docs/stable/user_guide/indexing.html#returning-a-view-versus-a-copy\n",
            "  This is separate from the ipykernel package so we can avoid doing imports until\n"
          ]
        },
        {
          "output_type": "execute_result",
          "data": {
            "text/plain": [
              "0.90    105286.10\n",
              "0.91    112110.06\n",
              "0.92    120740.36\n",
              "0.93    129224.42\n",
              "0.94    137836.26\n",
              "0.95    148093.70\n",
              "0.96    161912.00\n",
              "0.97    177591.32\n",
              "0.98    195114.20\n",
              "0.99    223435.07\n",
              "1.00    279503.00\n",
              "Name: BILL_AMT6_new, dtype: float64"
            ]
          },
          "metadata": {},
          "execution_count": 73
        }
      ]
    },
    {
      "cell_type": "markdown",
      "source": [
        "##Continuos Var -8 ['PAY_AMT1']"
      ],
      "metadata": {
        "id": "Klra3KfcaarU"
      }
    },
    {
      "cell_type": "code",
      "source": [
        "UCI_Credit_Card['PAY_AMT1_new']= UCI_Credit_Card['PAY_AMT1']\n",
        "UCI_Credit_Card['PAY_AMT1_new'][UCI_Credit_Card['PAY_AMT1']>66522]=UCI_Credit_Card['PAY_AMT1'].median()\n",
        "UCI_Credit_Card['PAY_AMT1_new'][UCI_Credit_Card['PAY_AMT1']<0]=UCI_Credit_Card['PAY_AMT1'][UCI_Credit_Card['PAY_AMT1']<0].median()\n",
        "UCI_Credit_Card['PAY_AMT1_new'].quantile([0.9,0.91,0.92,0.93,0.94,0.95,0.96,0.97,0.98,0.99,1])"
      ],
      "metadata": {
        "colab": {
          "base_uri": "https://localhost:8080/"
        },
        "id": "eRIkcS-yabZp",
        "outputId": "4985f47b-50f0-4ef0-eb30-3e00d108bb5b"
      },
      "execution_count": null,
      "outputs": [
        {
          "output_type": "stream",
          "name": "stderr",
          "text": [
            "/usr/local/lib/python3.7/dist-packages/ipykernel_launcher.py:2: SettingWithCopyWarning: \n",
            "A value is trying to be set on a copy of a slice from a DataFrame\n",
            "\n",
            "See the caveats in the documentation: https://pandas.pydata.org/pandas-docs/stable/user_guide/indexing.html#returning-a-view-versus-a-copy\n",
            "  \n",
            "/usr/local/lib/python3.7/dist-packages/ipykernel_launcher.py:3: SettingWithCopyWarning: \n",
            "A value is trying to be set on a copy of a slice from a DataFrame\n",
            "\n",
            "See the caveats in the documentation: https://pandas.pydata.org/pandas-docs/stable/user_guide/indexing.html#returning-a-view-versus-a-copy\n",
            "  This is separate from the ipykernel package so we can avoid doing imports until\n"
          ]
        },
        {
          "output_type": "execute_result",
          "data": {
            "text/plain": [
              "0.90    10000.00\n",
              "0.91    10300.00\n",
              "0.92    11174.00\n",
              "0.93    12500.00\n",
              "0.94    14127.06\n",
              "0.95    15510.55\n",
              "0.96    18428.16\n",
              "0.97    21006.18\n",
              "0.98    28232.52\n",
              "0.99    40000.00\n",
              "1.00    66513.00\n",
              "Name: PAY_AMT1_new, dtype: float64"
            ]
          },
          "metadata": {},
          "execution_count": 74
        }
      ]
    },
    {
      "cell_type": "code",
      "source": [
        "UCI_Credit_Card['PAY_AMT1'].quantile([0.9,0.91,0.92,0.93,0.94,0.95,0.96,0.97,0.98,0.99,1])"
      ],
      "metadata": {
        "colab": {
          "base_uri": "https://localhost:8080/"
        },
        "id": "ZtGZCjbyauG5",
        "outputId": "1e396894-472b-455a-f6dd-74143da2dfcd"
      },
      "execution_count": null,
      "outputs": [
        {
          "output_type": "execute_result",
          "data": {
            "text/plain": [
              "0.90     10300.00\n",
              "0.91     11174.00\n",
              "0.92     12500.00\n",
              "0.93     14127.07\n",
              "0.94     15510.66\n",
              "0.95     18428.20\n",
              "0.96     21006.24\n",
              "0.97     28232.78\n",
              "0.98     40000.00\n",
              "0.99     66522.18\n",
              "1.00    873552.00\n",
              "Name: PAY_AMT1, dtype: float64"
            ]
          },
          "metadata": {},
          "execution_count": 75
        }
      ]
    },
    {
      "cell_type": "markdown",
      "source": [
        "##Continuos Var -9 ['PAY_AMT2']"
      ],
      "metadata": {
        "id": "OfyJylHPcATC"
      }
    },
    {
      "cell_type": "code",
      "source": [
        "UCI_Credit_Card['PAY_AMT2_new']= UCI_Credit_Card['PAY_AMT2']\n",
        "UCI_Credit_Card['PAY_AMT2_new'][UCI_Credit_Card['PAY_AMT2']>76651]=UCI_Credit_Card['PAY_AMT2'].median()\n",
        "UCI_Credit_Card['PAY_AMT2_new'][UCI_Credit_Card['PAY_AMT2']<0]=UCI_Credit_Card['PAY_AMT2'][UCI_Credit_Card['PAY_AMT2']<0].median()\n",
        "UCI_Credit_Card['PAY_AMT2_new'].quantile([0.9,0.91,0.92,0.93,0.94,0.95,0.96,0.97,0.98,0.99,1])"
      ],
      "metadata": {
        "colab": {
          "base_uri": "https://localhost:8080/"
        },
        "outputId": "058047fb-4ba9-4a7a-af62-50f8ad2557f8",
        "id": "KOO5yY56cATF"
      },
      "execution_count": null,
      "outputs": [
        {
          "output_type": "stream",
          "name": "stderr",
          "text": [
            "/usr/local/lib/python3.7/dist-packages/ipykernel_launcher.py:2: SettingWithCopyWarning: \n",
            "A value is trying to be set on a copy of a slice from a DataFrame\n",
            "\n",
            "See the caveats in the documentation: https://pandas.pydata.org/pandas-docs/stable/user_guide/indexing.html#returning-a-view-versus-a-copy\n",
            "  \n",
            "/usr/local/lib/python3.7/dist-packages/ipykernel_launcher.py:3: SettingWithCopyWarning: \n",
            "A value is trying to be set on a copy of a slice from a DataFrame\n",
            "\n",
            "See the caveats in the documentation: https://pandas.pydata.org/pandas-docs/stable/user_guide/indexing.html#returning-a-view-versus-a-copy\n",
            "  This is separate from the ipykernel package so we can avoid doing imports until\n"
          ]
        },
        {
          "output_type": "execute_result",
          "data": {
            "text/plain": [
              "0.90    10000.00\n",
              "0.91    10400.99\n",
              "0.92    11320.00\n",
              "0.93    12536.14\n",
              "0.94    14131.08\n",
              "0.95    16000.00\n",
              "0.96    19004.08\n",
              "0.97    21408.27\n",
              "0.98    29000.00\n",
              "0.99    41027.44\n",
              "1.00    76651.00\n",
              "Name: PAY_AMT2_new, dtype: float64"
            ]
          },
          "metadata": {},
          "execution_count": 76
        }
      ]
    },
    {
      "cell_type": "code",
      "source": [
        "UCI_Credit_Card['PAY_AMT2'].quantile([0.9,0.91,0.92,0.93,0.94,0.95,0.96,0.97,0.98,0.99,1])"
      ],
      "metadata": {
        "colab": {
          "base_uri": "https://localhost:8080/"
        },
        "outputId": "6a353151-4d2b-428c-9e3a-4486fc6c97ee",
        "id": "NmAhy6F3cATG"
      },
      "execution_count": null,
      "outputs": [
        {
          "output_type": "execute_result",
          "data": {
            "text/plain": [
              "0.90      10401.10\n",
              "0.91      11320.00\n",
              "0.92      12536.16\n",
              "0.93      14131.26\n",
              "0.94      16000.00\n",
              "0.95      19004.35\n",
              "0.96      21408.36\n",
              "0.97      29000.00\n",
              "0.98      41027.88\n",
              "0.99      76651.02\n",
              "1.00    1684259.00\n",
              "Name: PAY_AMT2, dtype: float64"
            ]
          },
          "metadata": {},
          "execution_count": 77
        }
      ]
    },
    {
      "cell_type": "markdown",
      "source": [
        "##Continuos Var -10 ['PAY_AMT3']"
      ],
      "metadata": {
        "id": "pPF2NbxdclNp"
      }
    },
    {
      "cell_type": "code",
      "source": [
        "UCI_Credit_Card['PAY_AMT3_new']= UCI_Credit_Card['PAY_AMT3']\n",
        "UCI_Credit_Card['PAY_AMT3_new'][UCI_Credit_Card['PAY_AMT3']>77163]=UCI_Credit_Card['PAY_AMT3'].median()\n",
        "UCI_Credit_Card['PAY_AMT3_new'][UCI_Credit_Card['PAY_AMT3']<0]=UCI_Credit_Card['PAY_AMT3'][UCI_Credit_Card['PAY_AMT3']<0].median()\n",
        "UCI_Credit_Card['PAY_AMT3_new'].quantile([0.9,0.91,0.92,0.93,0.94,0.95,0.96,0.97,0.98,0.99,1])"
      ],
      "metadata": {
        "colab": {
          "base_uri": "https://localhost:8080/"
        },
        "outputId": "cad725e9-c1d4-4a0e-b58c-aa6a3e958dc3",
        "id": "YP3-nQZyclNq"
      },
      "execution_count": null,
      "outputs": [
        {
          "output_type": "stream",
          "name": "stderr",
          "text": [
            "/usr/local/lib/python3.7/dist-packages/ipykernel_launcher.py:2: SettingWithCopyWarning: \n",
            "A value is trying to be set on a copy of a slice from a DataFrame\n",
            "\n",
            "See the caveats in the documentation: https://pandas.pydata.org/pandas-docs/stable/user_guide/indexing.html#returning-a-view-versus-a-copy\n",
            "  \n",
            "/usr/local/lib/python3.7/dist-packages/ipykernel_launcher.py:3: SettingWithCopyWarning: \n",
            "A value is trying to be set on a copy of a slice from a DataFrame\n",
            "\n",
            "See the caveats in the documentation: https://pandas.pydata.org/pandas-docs/stable/user_guide/indexing.html#returning-a-view-versus-a-copy\n",
            "  This is separate from the ipykernel package so we can avoid doing imports until\n"
          ]
        },
        {
          "output_type": "execute_result",
          "data": {
            "text/plain": [
              "0.90     9577.10\n",
              "0.91    10000.00\n",
              "0.92    10383.00\n",
              "0.93    11746.56\n",
              "0.94    13137.42\n",
              "0.95    15000.00\n",
              "0.96    18027.56\n",
              "0.97    20441.80\n",
              "0.98    27927.24\n",
              "0.99    40060.09\n",
              "1.00    77163.00\n",
              "Name: PAY_AMT3_new, dtype: float64"
            ]
          },
          "metadata": {},
          "execution_count": 78
        }
      ]
    },
    {
      "cell_type": "code",
      "source": [
        "UCI_Credit_Card['PAY_AMT3'].quantile([0.9,0.91,0.92,0.93,0.94,0.95,0.96,0.97,0.98,0.981,0.982,0.983,0.984,0.985,0.986,0.987,0.988,0.989,0.99,0.991,0.994,0.995,0.996,0.997,0.998,1])"
      ],
      "metadata": {
        "colab": {
          "base_uri": "https://localhost:8080/"
        },
        "outputId": "e1be255f-6413-4d49-848d-82075273e572",
        "id": "MgpB5t89clNr"
      },
      "execution_count": null,
      "outputs": [
        {
          "output_type": "execute_result",
          "data": {
            "text/plain": [
              "0.900     10000.000\n",
              "0.910     10288.360\n",
              "0.920     11558.480\n",
              "0.930     13000.000\n",
              "0.940     15000.000\n",
              "0.950     17589.400\n",
              "0.960     20150.000\n",
              "0.970     27000.330\n",
              "0.980     38661.360\n",
              "0.981     40060.171\n",
              "0.982     42000.000\n",
              "0.983     44780.230\n",
              "0.984     48079.272\n",
              "0.985     50000.075\n",
              "0.986     51400.798\n",
              "0.987     54340.897\n",
              "0.988     58438.456\n",
              "0.989     63854.529\n",
              "0.990     70000.000\n",
              "0.991     77163.027\n",
              "0.994    100000.000\n",
              "0.995    109471.280\n",
              "0.996    121084.000\n",
              "0.997    136322.343\n",
              "0.998    160578.732\n",
              "1.000    896040.000\n",
              "Name: PAY_AMT3, dtype: float64"
            ]
          },
          "metadata": {},
          "execution_count": 79
        }
      ]
    },
    {
      "cell_type": "markdown",
      "source": [
        "##Continuos Var -11 ['PAY_AMT4']"
      ],
      "metadata": {
        "id": "scqa43-JeFzb"
      }
    },
    {
      "cell_type": "code",
      "source": [
        "UCI_Credit_Card['PAY_AMT4_new']= UCI_Credit_Card['PAY_AMT4']\n",
        "UCI_Credit_Card['PAY_AMT4_new'][UCI_Credit_Card['PAY_AMT4']>67054]=UCI_Credit_Card['PAY_AMT4'].median()\n",
        "UCI_Credit_Card['PAY_AMT4_new'][UCI_Credit_Card['PAY_AMT4']<0]=UCI_Credit_Card['PAY_AMT4'][UCI_Credit_Card['PAY_AMT4']<0].median()\n",
        "UCI_Credit_Card['PAY_AMT4_new'].quantile([0.9,0.91,0.92,0.93,0.94,0.95,0.96,0.97,0.98,0.99,1])"
      ],
      "metadata": {
        "colab": {
          "base_uri": "https://localhost:8080/"
        },
        "outputId": "1496f510-f457-45f4-9050-4499f8d3a17c",
        "id": "JiUGpzlueFzc"
      },
      "execution_count": null,
      "outputs": [
        {
          "output_type": "stream",
          "name": "stderr",
          "text": [
            "/usr/local/lib/python3.7/dist-packages/ipykernel_launcher.py:2: SettingWithCopyWarning: \n",
            "A value is trying to be set on a copy of a slice from a DataFrame\n",
            "\n",
            "See the caveats in the documentation: https://pandas.pydata.org/pandas-docs/stable/user_guide/indexing.html#returning-a-view-versus-a-copy\n",
            "  \n",
            "/usr/local/lib/python3.7/dist-packages/ipykernel_launcher.py:3: SettingWithCopyWarning: \n",
            "A value is trying to be set on a copy of a slice from a DataFrame\n",
            "\n",
            "See the caveats in the documentation: https://pandas.pydata.org/pandas-docs/stable/user_guide/indexing.html#returning-a-view-versus-a-copy\n",
            "  This is separate from the ipykernel package so we can avoid doing imports until\n"
          ]
        },
        {
          "output_type": "execute_result",
          "data": {
            "text/plain": [
              "0.90     8599.10\n",
              "0.91     9570.54\n",
              "0.92    10000.00\n",
              "0.93    10404.63\n",
              "0.94    11985.18\n",
              "0.95    13949.50\n",
              "0.96    16014.76\n",
              "0.97    20000.00\n",
              "0.98    26664.60\n",
              "0.99    39631.52\n",
              "1.00    67052.00\n",
              "Name: PAY_AMT4_new, dtype: float64"
            ]
          },
          "metadata": {},
          "execution_count": 80
        }
      ]
    },
    {
      "cell_type": "markdown",
      "source": [
        "##Continuos Var -12 ['PAY_AMT5']"
      ],
      "metadata": {
        "id": "CFh9EiPFfZrt"
      }
    },
    {
      "cell_type": "code",
      "source": [
        "UCI_Credit_Card['PAY_AMT5_new']= UCI_Credit_Card['PAY_AMT5']\n",
        "UCI_Credit_Card['PAY_AMT5_new'][UCI_Credit_Card['PAY_AMT5']>65607]=UCI_Credit_Card['PAY_AMT5'].median()\n",
        "UCI_Credit_Card['PAY_AMT5_new'][UCI_Credit_Card['PAY_AMT5']<0]=UCI_Credit_Card['PAY_AMT5'][UCI_Credit_Card['PAY_AMT5']<0].median()\n",
        "UCI_Credit_Card['PAY_AMT5_new'].quantile([0.9,0.91,0.92,0.93,0.94,0.95,0.96,0.97,0.98,0.99,1])"
      ],
      "metadata": {
        "colab": {
          "base_uri": "https://localhost:8080/"
        },
        "outputId": "88df7830-96d3-4568-f2ae-ea36dd4b2fe7",
        "id": "gP-zgtARfZru"
      },
      "execution_count": null,
      "outputs": [
        {
          "output_type": "stream",
          "name": "stderr",
          "text": [
            "/usr/local/lib/python3.7/dist-packages/ipykernel_launcher.py:2: SettingWithCopyWarning: \n",
            "A value is trying to be set on a copy of a slice from a DataFrame\n",
            "\n",
            "See the caveats in the documentation: https://pandas.pydata.org/pandas-docs/stable/user_guide/indexing.html#returning-a-view-versus-a-copy\n",
            "  \n",
            "/usr/local/lib/python3.7/dist-packages/ipykernel_launcher.py:3: SettingWithCopyWarning: \n",
            "A value is trying to be set on a copy of a slice from a DataFrame\n",
            "\n",
            "See the caveats in the documentation: https://pandas.pydata.org/pandas-docs/stable/user_guide/indexing.html#returning-a-view-versus-a-copy\n",
            "  This is separate from the ipykernel package so we can avoid doing imports until\n"
          ]
        },
        {
          "output_type": "execute_result",
          "data": {
            "text/plain": [
              "0.90     8500.00\n",
              "0.91     9500.00\n",
              "0.92    10000.00\n",
              "0.93    10358.14\n",
              "0.94    11964.12\n",
              "0.95    13939.05\n",
              "0.96    16000.00\n",
              "0.97    20000.00\n",
              "0.98    25314.14\n",
              "0.99    37259.33\n",
              "1.00    65607.00\n",
              "Name: PAY_AMT5_new, dtype: float64"
            ]
          },
          "metadata": {},
          "execution_count": 81
        }
      ]
    },
    {
      "cell_type": "markdown",
      "source": [
        "##Continuos Var -13 ['PAY_AMT6']"
      ],
      "metadata": {
        "id": "_IlIJGkOgZL8"
      }
    },
    {
      "cell_type": "code",
      "source": [
        "UCI_Credit_Card['PAY_AMT6_new']= UCI_Credit_Card['PAY_AMT6']\n",
        "UCI_Credit_Card['PAY_AMT6_new'][UCI_Credit_Card['PAY_AMT6']>82619]=UCI_Credit_Card['PAY_AMT6'].median()\n",
        "UCI_Credit_Card['PAY_AMT6_new'][UCI_Credit_Card['PAY_AMT6']<0]=UCI_Credit_Card['PAY_AMT6'][UCI_Credit_Card['PAY_AMT6']<0].median()\n",
        "UCI_Credit_Card['PAY_AMT6_new'].quantile([0.9,0.91,0.92,0.93,0.94,0.95,0.96,0.97,0.98,0.99,1])"
      ],
      "metadata": {
        "colab": {
          "base_uri": "https://localhost:8080/"
        },
        "outputId": "c89b5337-e84e-4a2c-c0de-d09bbcfd2844",
        "id": "u5YSzzTFgZMD"
      },
      "execution_count": null,
      "outputs": [
        {
          "output_type": "stream",
          "name": "stderr",
          "text": [
            "/usr/local/lib/python3.7/dist-packages/ipykernel_launcher.py:2: SettingWithCopyWarning: \n",
            "A value is trying to be set on a copy of a slice from a DataFrame\n",
            "\n",
            "See the caveats in the documentation: https://pandas.pydata.org/pandas-docs/stable/user_guide/indexing.html#returning-a-view-versus-a-copy\n",
            "  \n",
            "/usr/local/lib/python3.7/dist-packages/ipykernel_launcher.py:3: SettingWithCopyWarning: \n",
            "A value is trying to be set on a copy of a slice from a DataFrame\n",
            "\n",
            "See the caveats in the documentation: https://pandas.pydata.org/pandas-docs/stable/user_guide/indexing.html#returning-a-view-versus-a-copy\n",
            "  This is separate from the ipykernel package so we can avoid doing imports until\n"
          ]
        },
        {
          "output_type": "execute_result",
          "data": {
            "text/plain": [
              "0.90     8585.10\n",
              "0.91     9600.00\n",
              "0.92    10000.00\n",
              "0.93    10500.00\n",
              "0.94    12017.12\n",
              "0.95    14442.55\n",
              "0.96    17343.44\n",
              "0.97    21034.16\n",
              "0.98    29560.84\n",
              "0.99    45010.24\n",
              "1.00    82615.00\n",
              "Name: PAY_AMT6_new, dtype: float64"
            ]
          },
          "metadata": {},
          "execution_count": 82
        }
      ]
    },
    {
      "cell_type": "markdown",
      "source": [
        "#Corelation and Coefficient to know how features are related to target variable \n"
      ],
      "metadata": {
        "id": "KGz05k_RnHzp"
      }
    },
    {
      "cell_type": "code",
      "source": [
        "UCI_Credit_Card2.columns"
      ],
      "metadata": {
        "colab": {
          "base_uri": "https://localhost:8080/"
        },
        "id": "I3PjO1qinwEn",
        "outputId": "61ef18ae-fd62-4963-cdf5-7d9b0a89640b"
      },
      "execution_count": null,
      "outputs": [
        {
          "output_type": "execute_result",
          "data": {
            "text/plain": [
              "Index(['AGE', 'EDUCATION_NEW', 'MARRIAGE_NEW', 'PAY_0_new', 'PAY_2_new',\n",
              "       'PAY_3_new', 'PAY_4_new', 'PAY_5_new', 'PAY_6_new', 'LIMIT_BAL_NEW',\n",
              "       'BILL_AMT1_new', 'BILL_AMT2_new', 'BILL_AMT3_new', 'BILL_AMT4_new',\n",
              "       'BILL_AMT5_new', 'BILL_AMT6_new', 'PAY_AMT1_new', 'PAY_AMT2_new',\n",
              "       'PAY_AMT3_new', 'PAY_AMT4_new', 'PAY_AMT5_new', 'PAY_AMT6_new',\n",
              "       'default.payment.next.month'],\n",
              "      dtype='object')"
            ]
          },
          "metadata": {},
          "execution_count": 104
        }
      ]
    },
    {
      "cell_type": "code",
      "source": [
        "corr_matrix = UCI_Credit_Card2.corr()\n",
        "plt.subplots(figsize=(12,9))\n",
        "sns.heatmap(corr_matrix, vmax=0.9, square=True)"
      ],
      "metadata": {
        "colab": {
          "base_uri": "https://localhost:8080/"
        },
        "id": "AWESUuMjNB9x",
        "outputId": "96892d9c-8b66-486b-aafb-e3d86414b83d"
      },
      "execution_count": null,
      "outputs": [
        {
          "output_type": "execute_result",
          "data": {
            "text/plain": [
              "<matplotlib.axes._subplots.AxesSubplot at 0x7f0a7f858d90>"
            ]
          },
          "metadata": {},
          "execution_count": 105
        },
        {
          "output_type": "display_data",
          "data": {
            "text/plain": [
              "<Figure size 864x648 with 2 Axes>"
            ],
            "image/png": "[encoded data removed]"
          },
          "metadata": {
            "needs_background": "light"
          }
        }
      ]
    },
    {
      "cell_type": "code",
      "source": [
        "#saleprice correlation matrix\n",
        "10  #number of variables for heatmap\n",
        "plt.subplots(figsize=(8,5))\n",
        "k = 6\n",
        "cols = corr_matrix.nlargest(6, 'default.payment.next.month')['default.payment.next.month'].index\n",
        "cm = np.corrcoef(UCI_Credit_Card2[['PAY_0_new', 'PAY_2_new',\n",
        "       'PAY_3_new', 'PAY_4_new', 'PAY_5_new', 'PAY_6_new']].values.T)\n",
        "sns.set(font_scale=1.25)\n",
        "hm = sns.heatmap(cm, cbar=True, annot=True, square=True, fmt='.2f', annot_kws={'size': 10}, yticklabels=cols.values, xticklabels=cols.values)\n",
        "plt.show()"
      ],
      "metadata": {
        "colab": {
          "base_uri": "https://localhost:8080/"
        },
        "id": "ibJR0g75nvAY",
        "outputId": "8d6dcf9c-fbe9-474f-a3a8-3095fe689de6"
      },
      "execution_count": null,
      "outputs": [
        {
          "output_type": "display_data",
          "data": {
            "text/plain": [
              "<Figure size 576x360 with 2 Axes>"
            ],
            "image/png": "[encoded data removed]"
          },
          "metadata": {
            "needs_background": "light"
          }
        }
      ]
    },
    {
      "cell_type": "code",
      "source": [
        "#saleprice correlation matrix\n",
        "#number of variables for heatmap\n",
        "plt.subplots(figsize=(8,6))\n",
        "k = 6\n",
        "cols = corr_matrix.nlargest(6, 'default.payment.next.month')['default.payment.next.month'].index\n",
        "cm = np.corrcoef(UCI_Credit_Card2[['BILL_AMT1_new', 'BILL_AMT2_new', 'BILL_AMT3_new',\n",
        "       'BILL_AMT4_new', 'BILL_AMT5_new', 'BILL_AMT6_new']].values.T)\n",
        "sns.set(font_scale=1.25)\n",
        "hm = sns.heatmap(cm, cbar=True, annot=True, square=True, fmt='.2f', annot_kws={'size': 10}, yticklabels=['BILL_AMT1_new', 'BILL_AMT2_new', 'BILL_AMT3_new',\n",
        "       'BILL_AMT4_new', 'BILL_AMT5_new', 'BILL_AMT6_new'], xticklabels=['BILL_AMT1_new', 'BILL_AMT2_new', 'BILL_AMT3_new',\n",
        "       'BILL_AMT4_new', 'BILL_AMT5_new', 'BILL_AMT6_new'])\n",
        "plt.show()"
      ],
      "metadata": {
        "id": "t6x2DJUfnGyi",
        "colab": {
          "base_uri": "https://localhost:8080/"
        },
        "outputId": "d9105659-ac4c-4526-daf7-18048b455f7f"
      },
      "execution_count": null,
      "outputs": [
        {
          "output_type": "display_data",
          "data": {
            "text/plain": [
              "<Figure size 576x432 with 2 Axes>"
            ],
            "image/png": "[encoded data removed]"
          },
          "metadata": {}
        }
      ]
    },
    {
      "cell_type": "markdown",
      "source": [
        "# Model Building\n",
        "\n",
        "Select the right model, Include Feature Engineering, Perform Model Validation, Multiple models and performance comparison\n",
        "\n"
      ],
      "metadata": {
        "id": "H4E6A7SvQ8m4"
      }
    },
    {
      "cell_type": "code",
      "source": [
        "UCI_Credit_Card.columns\n",
        "UCI_Credit_Card2=UCI_Credit_Card[['AGE','EDUCATION_NEW', 'MARRIAGE_NEW',\n",
        "       'PAY_0_new','PAY_2_new', 'PAY_3_new', 'PAY_4_new', 'PAY_5_new', 'PAY_6_new',\n",
        "       'LIMIT_BAL_NEW', 'BILL_AMT1_new', 'BILL_AMT2_new', 'BILL_AMT3_new',\n",
        "       'BILL_AMT4_new', 'BILL_AMT5_new', 'BILL_AMT6_new', 'PAY_AMT1_new',\n",
        "       'PAY_AMT2_new', 'PAY_AMT3_new', 'PAY_AMT4_new', 'PAY_AMT5_new',\n",
        "       'PAY_AMT6_new','default.payment.next.month']].copy()"
      ],
      "metadata": {
        "id": "QHW0QWUtAqCc"
      },
      "execution_count": null,
      "outputs": []
    },
    {
      "cell_type": "code",
      "source": [
        "UCI_Credit_Card2.info()"
      ],
      "metadata": {
        "colab": {
          "base_uri": "https://localhost:8080/"
        },
        "id": "-o4e-I8fCulg",
        "outputId": "488c3483-6fd0-4e97-839f-b9d453b10b25"
      },
      "execution_count": null,
      "outputs": [
        {
          "output_type": "stream",
          "name": "stdout",
          "text": [
            "<class 'pandas.core.frame.DataFrame'>\n",
            "RangeIndex: 30000 entries, 0 to 29999\n",
            "Data columns (total 23 columns):\n",
            " #   Column                      Non-Null Count  Dtype  \n",
            "---  ------                      --------------  -----  \n",
            " 0   AGE                         30000 non-null  int64  \n",
            " 1   EDUCATION_NEW               30000 non-null  int64  \n",
            " 2   MARRIAGE_NEW                30000 non-null  int64  \n",
            " 3   PAY_0_new                   30000 non-null  int64  \n",
            " 4   PAY_2_new                   30000 non-null  int64  \n",
            " 5   PAY_3_new                   30000 non-null  int64  \n",
            " 6   PAY_4_new                   30000 non-null  int64  \n",
            " 7   PAY_5_new                   30000 non-null  int64  \n",
            " 8   PAY_6_new                   30000 non-null  int64  \n",
            " 9   LIMIT_BAL_NEW               30000 non-null  float64\n",
            " 10  BILL_AMT1_new               30000 non-null  float64\n",
            " 11  BILL_AMT2_new               30000 non-null  float64\n",
            " 12  BILL_AMT3_new               30000 non-null  float64\n",
            " 13  BILL_AMT4_new               30000 non-null  float64\n",
            " 14  BILL_AMT5_new               30000 non-null  float64\n",
            " 15  BILL_AMT6_new               30000 non-null  float64\n",
            " 16  PAY_AMT1_new                30000 non-null  float64\n",
            " 17  PAY_AMT2_new                30000 non-null  float64\n",
            " 18  PAY_AMT3_new                30000 non-null  float64\n",
            " 19  PAY_AMT4_new                30000 non-null  float64\n",
            " 20  PAY_AMT5_new                30000 non-null  float64\n",
            " 21  PAY_AMT6_new                30000 non-null  float64\n",
            " 22  default.payment.next.month  30000 non-null  int64  \n",
            "dtypes: float64(13), int64(10)\n",
            "memory usage: 5.3 MB\n"
          ]
        }
      ]
    },
    {
      "cell_type": "code",
      "source": [
        "from sklearn.linear_model import LogisticRegression\n",
        "logistic = LogisticRegression()\n",
        "logistic.fit(UCI_Credit_Card2[['AGE']+['EDUCATION_NEW']+['MARRIAGE_NEW']+['PAY_2_new']+['PAY_3_new']+['PAY_4_new']+['PAY_5_new']+['PAY_6_new']+['LIMIT_BAL_NEW']+['BILL_AMT1_new']+['BILL_AMT2_new']+['BILL_AMT3_new']+['BILL_AMT4_new']+['BILL_AMT5_new']+['BILL_AMT6_new']+['PAY_AMT1_new']+['PAY_AMT2_new']+['PAY_AMT3_new']+['PAY_AMT4_new']+['PAY_AMT5_new']+['PAY_AMT6_new']+['PAY_0_new']],UCI_Credit_Card2[\"default.payment.next.month\"])"
      ],
      "metadata": {
        "id": "h3fTi2e5RFDW",
        "colab": {
          "base_uri": "https://localhost:8080/"
        },
        "outputId": "63a8a693-ad2d-4df5-e0e1-302ca73ad43f"
      },
      "execution_count": null,
      "outputs": [
        {
          "output_type": "stream",
          "name": "stderr",
          "text": [
            "/usr/local/lib/python3.7/dist-packages/sklearn/linear_model/_logistic.py:818: ConvergenceWarning: lbfgs failed to converge (status=1):\n",
            "STOP: TOTAL NO. of ITERATIONS REACHED LIMIT.\n",
            "\n",
            "Increase the number of iterations (max_iter) or scale the data as shown in:\n",
            "    https://scikit-learn.org/stable/modules/preprocessing.html\n",
            "Please also refer to the documentation for alternative solver options:\n",
            "    https://scikit-learn.org/stable/modules/linear_model.html#logistic-regression\n",
            "  extra_warning_msg=_LOGISTIC_SOLVER_CONVERGENCE_MSG,\n"
          ]
        },
        {
          "output_type": "execute_result",
          "data": {
            "text/plain": [
              "LogisticRegression()"
            ]
          },
          "metadata": {},
          "execution_count": 86
        }
      ]
    },
    {
      "cell_type": "code",
      "source": [
        "print(\"Intercept\", logistic.intercept_)\n",
        "print(\"Coefficient\", logistic.coef_)"
      ],
      "metadata": {
        "id": "W2RtZSaPRIT-",
        "colab": {
          "base_uri": "https://localhost:8080/"
        },
        "outputId": "48ce5426-c8e0-400f-e15f-dafef7ee0638"
      },
      "execution_count": null,
      "outputs": [
        {
          "output_type": "stream",
          "name": "stdout",
          "text": [
            "Intercept [-3.29674366e-07]\n",
            "Coefficient [[-9.95099691e-06 -7.01229757e-07 -6.23836571e-07  5.92360059e-07\n",
            "   5.21598637e-07  4.88568457e-07  4.55842147e-07  4.13822908e-07\n",
            "  -4.49920018e-06 -4.29689486e-06  9.94853679e-07  3.88945445e-07\n",
            "   2.67698051e-06  5.26643846e-07  3.59666922e-06 -3.89649934e-05\n",
            "  -5.04786445e-05 -2.65887140e-05 -1.81837381e-05 -2.13908180e-05\n",
            "  -1.33934044e-05  8.08367168e-07]]\n"
          ]
        }
      ]
    },
    {
      "cell_type": "markdown",
      "source": [
        "# Model Validation\n",
        "Confusion matrix, Sensitivity, Specificity, F1 Score, Recall, Precision etc."
      ],
      "metadata": {
        "id": "p9Wx-Am_QJy9"
      }
    },
    {
      "cell_type": "markdown",
      "source": [
        "##Confusion Matrix & Accuracy"
      ],
      "metadata": {
        "id": "0sFkjRcjQPtY"
      }
    },
    {
      "cell_type": "code",
      "source": [
        "import numpy as np\n",
        "import matplotlib.pyplot as plt\n",
        "from sklearn.metrics import confusion_matrix"
      ],
      "metadata": {
        "id": "j12WZieAIlRd"
      },
      "execution_count": null,
      "outputs": []
    },
    {
      "cell_type": "code",
      "source": [
        "predict1=logistic.predict(UCI_Credit_Card2[['AGE']+['EDUCATION_NEW']+['MARRIAGE_NEW']+['PAY_2_new']+['PAY_3_new']+\n",
        "                                            ['PAY_4_new']+['PAY_5_new']+['PAY_6_new']+['LIMIT_BAL_NEW']+['BILL_AMT1_new']+['BILL_AMT2_new']+['BILL_AMT3_new']+['BILL_AMT4_new']+['BILL_AMT5_new']+['BILL_AMT6_new']+['PAY_AMT1_new']+['PAY_AMT2_new']+['PAY_AMT3_new']+['PAY_AMT4_new']+['PAY_AMT5_new']+['PAY_AMT6_new']+['PAY_0_new']])\n",
        "predict1\n",
        "\n",
        "cm1 = confusion_matrix(UCI_Credit_Card2[[\"default.payment.next.month\"]],predict1)\n",
        "print(cm1)"
      ],
      "metadata": {
        "colab": {
          "base_uri": "https://localhost:8080/"
        },
        "id": "TBmXsii2KbnV",
        "outputId": "112cbe75-f549-4e22-aa39-30a0636fccb6"
      },
      "execution_count": null,
      "outputs": [
        {
          "output_type": "stream",
          "name": "stdout",
          "text": [
            "[[23359     5]\n",
            " [ 6634     2]]\n"
          ]
        }
      ]
    },
    {
      "cell_type": "code",
      "source": [
        "print(\"col sums\", sum(cm1))\n",
        "total1=sum(sum(cm1))\n",
        "print(\"Total\", total1)"
      ],
      "metadata": {
        "id": "2AmnihtvRLyW",
        "colab": {
          "base_uri": "https://localhost:8080/"
        },
        "outputId": "aa35ade9-5aa5-4ede-da95-d4a1a51eac84"
      },
      "execution_count": null,
      "outputs": [
        {
          "output_type": "stream",
          "name": "stdout",
          "text": [
            "col sums [29993     7]\n",
            "Total 30000\n"
          ]
        }
      ]
    },
    {
      "cell_type": "code",
      "source": [
        "accuracy1=(cm1[0,0]+cm1[1,1])/total1\n",
        "accuracy1"
      ],
      "metadata": {
        "id": "Cs3DcHp8RL-O",
        "colab": {
          "base_uri": "https://localhost:8080/"
        },
        "outputId": "cd0ba736-a21d-47a0-9e7e-1addc49a09f5"
      },
      "execution_count": null,
      "outputs": [
        {
          "output_type": "execute_result",
          "data": {
            "text/plain": [
              "0.7787"
            ]
          },
          "metadata": {},
          "execution_count": 91
        }
      ]
    },
    {
      "cell_type": "markdown",
      "source": [
        "## Multicollinearity"
      ],
      "metadata": {
        "id": "ynicn_R0RJCp"
      }
    },
    {
      "cell_type": "code",
      "source": [
        "import statsmodels.formula.api as sm\n",
        "\n",
        "def vif_cal(input_data, dependent_col):\n",
        "    x_vars=input_data.drop([dependent_col], axis=1)\n",
        "    xvar_names=x_vars.columns\n",
        "    for i in range(0,xvar_names.shape[0]):\n",
        "        y=x_vars[xvar_names[i]] \n",
        "        x=x_vars[xvar_names.drop(xvar_names[i])]\n",
        "        rsq=sm.ols(formula=\"y~x\", data=x_vars).fit().rsquared  \n",
        "        vif=round(1/(1-rsq),2)\n",
        "        print (xvar_names[i], \" VIF = \" , vif)"
      ],
      "metadata": {
        "id": "zMuBhfpTR9Yr"
      },
      "execution_count": null,
      "outputs": []
    },
    {
      "cell_type": "code",
      "source": [
        "vif_cal(input_data=UCI_Credit_Card2, dependent_col=\"default.payment.next.month\")"
      ],
      "metadata": {
        "colab": {
          "base_uri": "https://localhost:8080/"
        },
        "id": "xRFbpoHVR9O9",
        "outputId": "8a2e227d-8653-41c5-8c77-9554e547a34f"
      },
      "execution_count": null,
      "outputs": [
        {
          "output_type": "stream",
          "name": "stdout",
          "text": [
            "AGE  VIF =  1.25\n",
            "EDUCATION_NEW  VIF =  1.13\n",
            "MARRIAGE_NEW  VIF =  1.22\n",
            "PAY_0_new  VIF =  2.01\n",
            "PAY_2_new  VIF =  2.26\n",
            "PAY_3_new  VIF =  2.41\n",
            "PAY_4_new  VIF =  3.02\n",
            "PAY_5_new  VIF =  3.3\n",
            "PAY_6_new  VIF =  2.32\n",
            "LIMIT_BAL_NEW  VIF =  1.34\n",
            "BILL_AMT1_new  VIF =  7.22\n",
            "BILL_AMT2_new  VIF =  11.64\n",
            "BILL_AMT3_new  VIF =  9.38\n",
            "BILL_AMT4_new  VIF =  8.34\n",
            "BILL_AMT5_new  VIF =  9.82\n",
            "BILL_AMT6_new  VIF =  6.85\n",
            "PAY_AMT1_new  VIF =  1.38\n",
            "PAY_AMT2_new  VIF =  1.36\n",
            "PAY_AMT3_new  VIF =  1.31\n",
            "PAY_AMT4_new  VIF =  1.32\n",
            "PAY_AMT5_new  VIF =  1.33\n",
            "PAY_AMT6_new  VIF =  1.21\n"
          ]
        }
      ]
    },
    {
      "cell_type": "code",
      "source": [
        "#Drop the variable with highest VIF\n",
        "vif_cal(input_data=UCI_Credit_Card2.drop([\"BILL_AMT2_new\"], axis=1), dependent_col=\"default.payment.next.month\")"
      ],
      "metadata": {
        "colab": {
          "base_uri": "https://localhost:8080/"
        },
        "id": "7SVPKNtKR9CY",
        "outputId": "37ea7043-968e-4d37-947c-d14498e97dce"
      },
      "execution_count": null,
      "outputs": [
        {
          "output_type": "stream",
          "name": "stdout",
          "text": [
            "AGE  VIF =  1.25\n",
            "EDUCATION_NEW  VIF =  1.13\n",
            "MARRIAGE_NEW  VIF =  1.22\n",
            "PAY_0_new  VIF =  2.01\n",
            "PAY_2_new  VIF =  2.26\n",
            "PAY_3_new  VIF =  2.41\n",
            "PAY_4_new  VIF =  3.02\n",
            "PAY_5_new  VIF =  3.3\n",
            "PAY_6_new  VIF =  2.32\n",
            "LIMIT_BAL_NEW  VIF =  1.34\n",
            "BILL_AMT1_new  VIF =  4.16\n",
            "BILL_AMT3_new  VIF =  7.23\n",
            "BILL_AMT4_new  VIF =  8.33\n",
            "BILL_AMT5_new  VIF =  9.82\n",
            "BILL_AMT6_new  VIF =  6.84\n",
            "PAY_AMT1_new  VIF =  1.33\n",
            "PAY_AMT2_new  VIF =  1.35\n",
            "PAY_AMT3_new  VIF =  1.31\n",
            "PAY_AMT4_new  VIF =  1.32\n",
            "PAY_AMT5_new  VIF =  1.33\n",
            "PAY_AMT6_new  VIF =  1.21\n"
          ]
        }
      ]
    },
    {
      "cell_type": "code",
      "source": [
        "#Drop the variable with highest VIF\n",
        "vif_cal(input_data=UCI_Credit_Card2.drop([\"BILL_AMT2_new\",\"BILL_AMT5_new\"], axis=1), dependent_col=\"default.payment.next.month\")"
      ],
      "metadata": {
        "colab": {
          "base_uri": "https://localhost:8080/"
        },
        "id": "hhKmt1g0UKqs",
        "outputId": "0233e32f-51b1-401c-88fb-083919fc7d03"
      },
      "execution_count": null,
      "outputs": [
        {
          "output_type": "stream",
          "name": "stdout",
          "text": [
            "AGE  VIF =  1.25\n",
            "EDUCATION_NEW  VIF =  1.13\n",
            "MARRIAGE_NEW  VIF =  1.22\n",
            "PAY_0_new  VIF =  2.01\n",
            "PAY_2_new  VIF =  2.26\n",
            "PAY_3_new  VIF =  2.41\n",
            "PAY_4_new  VIF =  3.02\n",
            "PAY_5_new  VIF =  3.3\n",
            "PAY_6_new  VIF =  2.32\n",
            "LIMIT_BAL_NEW  VIF =  1.34\n",
            "BILL_AMT1_new  VIF =  4.15\n",
            "BILL_AMT3_new  VIF =  7.21\n",
            "BILL_AMT4_new  VIF =  6.95\n",
            "BILL_AMT6_new  VIF =  4.05\n",
            "PAY_AMT1_new  VIF =  1.33\n",
            "PAY_AMT2_new  VIF =  1.35\n",
            "PAY_AMT3_new  VIF =  1.31\n",
            "PAY_AMT4_new  VIF =  1.27\n",
            "PAY_AMT5_new  VIF =  1.31\n",
            "PAY_AMT6_new  VIF =  1.21\n"
          ]
        }
      ]
    },
    {
      "cell_type": "code",
      "source": [
        "#Drop the variable with highest VIF\n",
        "vif_cal(input_data=UCI_Credit_Card2.drop([\"BILL_AMT2_new\",\"BILL_AMT5_new\",\"BILL_AMT3_new\"], axis=1), dependent_col=\"default.payment.next.month\")"
      ],
      "metadata": {
        "colab": {
          "base_uri": "https://localhost:8080/"
        },
        "id": "LRZWLVlEU3cG",
        "outputId": "a5337f23-0d05-42ee-e2fa-e64fca27fad6"
      },
      "execution_count": null,
      "outputs": [
        {
          "output_type": "stream",
          "name": "stdout",
          "text": [
            "AGE  VIF =  1.25\n",
            "EDUCATION_NEW  VIF =  1.13\n",
            "MARRIAGE_NEW  VIF =  1.22\n",
            "PAY_0_new  VIF =  2.01\n",
            "PAY_2_new  VIF =  2.26\n",
            "PAY_3_new  VIF =  2.41\n",
            "PAY_4_new  VIF =  3.02\n",
            "PAY_5_new  VIF =  3.3\n",
            "PAY_6_new  VIF =  2.32\n",
            "LIMIT_BAL_NEW  VIF =  1.34\n",
            "BILL_AMT1_new  VIF =  2.93\n",
            "BILL_AMT4_new  VIF =  5.12\n",
            "BILL_AMT6_new  VIF =  4.03\n",
            "PAY_AMT1_new  VIF =  1.32\n",
            "PAY_AMT2_new  VIF =  1.32\n",
            "PAY_AMT3_new  VIF =  1.29\n",
            "PAY_AMT4_new  VIF =  1.27\n",
            "PAY_AMT5_new  VIF =  1.31\n",
            "PAY_AMT6_new  VIF =  1.21\n"
          ]
        }
      ]
    },
    {
      "cell_type": "code",
      "source": [
        "#Drop the variable with highest VIF\n",
        "vif_cal(input_data=UCI_Credit_Card2.drop([\"BILL_AMT2_new\",\"BILL_AMT5_new\",\"BILL_AMT3_new\",\"BILL_AMT4_new\"], axis=1), dependent_col=\"default.payment.next.month\")"
      ],
      "metadata": {
        "colab": {
          "base_uri": "https://localhost:8080/"
        },
        "id": "7yw1OTKyU_6H",
        "outputId": "0616bfe5-a0c3-4523-d1d5-d5e47c567d29"
      },
      "execution_count": null,
      "outputs": [
        {
          "output_type": "stream",
          "name": "stdout",
          "text": [
            "AGE  VIF =  1.25\n",
            "EDUCATION_NEW  VIF =  1.13\n",
            "MARRIAGE_NEW  VIF =  1.22\n",
            "PAY_0_new  VIF =  2.01\n",
            "PAY_2_new  VIF =  2.26\n",
            "PAY_3_new  VIF =  2.41\n",
            "PAY_4_new  VIF =  3.02\n",
            "PAY_5_new  VIF =  3.3\n",
            "PAY_6_new  VIF =  2.32\n",
            "LIMIT_BAL_NEW  VIF =  1.34\n",
            "BILL_AMT1_new  VIF =  2.25\n",
            "BILL_AMT6_new  VIF =  2.35\n",
            "PAY_AMT1_new  VIF =  1.32\n",
            "PAY_AMT2_new  VIF =  1.31\n",
            "PAY_AMT3_new  VIF =  1.27\n",
            "PAY_AMT4_new  VIF =  1.27\n",
            "PAY_AMT5_new  VIF =  1.3\n",
            "PAY_AMT6_new  VIF =  1.21\n"
          ]
        }
      ]
    },
    {
      "cell_type": "markdown",
      "source": [
        "## Individual Impact of Variables"
      ],
      "metadata": {
        "id": "BNglYTWEVbFf"
      }
    },
    {
      "cell_type": "code",
      "source": [
        "import statsmodels.api as sm\n",
        "m1=sm.Logit(UCI_Credit_Card2[\"default.payment.next.month\"],UCI_Credit_Card2[['AGE']+['EDUCATION_NEW']+['MARRIAGE_NEW']+['PAY_0_new']+['PAY_2_new']+['PAY_3_new']+['PAY_4_new']+['PAY_5_new']+['PAY_6_new']+['LIMIT_BAL_NEW']+['BILL_AMT1_new']+['BILL_AMT6_new']+['PAY_AMT1_new']+['PAY_AMT2_new']+['PAY_AMT3_new']+['PAY_AMT4_new']+['PAY_AMT5_new']+['PAY_AMT6_new']])\n",
        "m1.fit()\n",
        "print(m1.fit().summary())"
      ],
      "metadata": {
        "id": "IeJEOmduVfwm"
      },
      "execution_count": null,
      "outputs": []
    },
    {
      "cell_type": "code",
      "source": [
        "import statsmodels.api as sm\n",
        "m1=sm.Logit(UCI_Credit_Card2[\"default.payment.next.month\"],UCI_Credit_Card2[['AGE']+['EDUCATION_NEW']+['MARRIAGE_NEW']+['PAY_0_new']+['PAY_2_new']+['PAY_3_new']+['PAY_4_new']+['PAY_5_new']+['PAY_6_new']+['LIMIT_BAL_NEW']+['BILL_AMT6_new']+['PAY_AMT1_new']+['PAY_AMT2_new']+['PAY_AMT3_new']+['PAY_AMT4_new']+['PAY_AMT5_new']+['PAY_AMT6_new']])\n",
        "m1.fit()\n",
        "print(m1.fit().summary())"
      ],
      "metadata": {
        "id": "p6RbesLhVfdg"
      },
      "execution_count": null,
      "outputs": []
    },
    {
      "cell_type": "code",
      "source": [
        "import statsmodels.api as sm\n",
        "m1=sm.Logit(UCI_Credit_Card2[\"default.payment.next.month\"],UCI_Credit_Card2[['AGE']+['EDUCATION_NEW']+['MARRIAGE_NEW']+['PAY_0_new']+['PAY_3_new']+['PAY_4_new']+['PAY_5_new']+['PAY_6_new']+['LIMIT_BAL_NEW']+['BILL_AMT6_new']+['PAY_AMT1_new']+['PAY_AMT2_new']+['PAY_AMT3_new']+['PAY_AMT4_new']+['PAY_AMT5_new']+['PAY_AMT6_new']])\n",
        "m1.fit()\n",
        "print(m1.fit().summary())"
      ],
      "metadata": {
        "id": "CL2C6ZMaW8PZ"
      },
      "execution_count": null,
      "outputs": []
    },
    {
      "cell_type": "code",
      "source": [
        "import statsmodels.api as sm\n",
        "m1=sm.Logit(UCI_Credit_Card2[\"default.payment.next.month\"],UCI_Credit_Card2[['AGE']+['EDUCATION_NEW']+['MARRIAGE_NEW']+['PAY_0_new']+['PAY_3_new']+['PAY_5_new']+['PAY_6_new']+['LIMIT_BAL_NEW']+['BILL_AMT6_new']+['PAY_AMT1_new']+['PAY_AMT2_new']+['PAY_AMT3_new']+['PAY_AMT4_new']+['PAY_AMT5_new']+['PAY_AMT6_new']])\n",
        "m1.fit()\n",
        "print(m1.fit().summary())"
      ],
      "metadata": {
        "id": "Nlogh_N7XCJe"
      },
      "execution_count": null,
      "outputs": []
    },
    {
      "cell_type": "code",
      "source": [
        "import statsmodels.api as sm\n",
        "m1=sm.Logit(UCI_Credit_Card2[\"default.payment.next.month\"],UCI_Credit_Card2[['AGE']+['EDUCATION_NEW']+['MARRIAGE_NEW']+['PAY_0_new']+['PAY_3_new']+['PAY_5_new']+['PAY_6_new']+['LIMIT_BAL_NEW']+['PAY_AMT1_new']+['PAY_AMT2_new']+['PAY_AMT3_new']+['PAY_AMT4_new']+['PAY_AMT5_new']+['PAY_AMT6_new']])\n",
        "m1.fit()\n",
        "print(m1.fit().summary())"
      ],
      "metadata": {
        "id": "Jo6L3wCFXLkt"
      },
      "execution_count": null,
      "outputs": []
    },
    {
      "cell_type": "code",
      "source": [
        "import statsmodels.api as sm\n",
        "m1=sm.Logit(UCI_Credit_Card2[\"default.payment.next.month\"],UCI_Credit_Card2[['AGE']+['EDUCATION_NEW']+['MARRIAGE_NEW']+['PAY_0_new']+['PAY_3_new']+['PAY_5_new']+['PAY_6_new']+['LIMIT_BAL_NEW']+['PAY_AMT1_new']+['PAY_AMT2_new']+['PAY_AMT3_new']+['PAY_AMT5_new']+['PAY_AMT6_new']])\n",
        "m1.fit()\n",
        "print(m1.fit().summary())"
      ],
      "metadata": {
        "colab": {
          "base_uri": "https://localhost:8080/"
        },
        "id": "cKApmCj4XUpd",
        "outputId": "d783e8b9-a000-4491-bbb3-36c10ae4adeb"
      },
      "execution_count": null,
      "outputs": [
        {
          "output_type": "stream",
          "name": "stdout",
          "text": [
            "Optimization terminated successfully.\n",
            "         Current function value: 0.447247\n",
            "         Iterations 6\n",
            "Optimization terminated successfully.\n",
            "         Current function value: 0.447247\n",
            "         Iterations 6\n",
            "                               Logit Regression Results                               \n",
            "======================================================================================\n",
            "Dep. Variable:     default.payment.next.month   No. Observations:                30000\n",
            "Model:                                  Logit   Df Residuals:                    29987\n",
            "Method:                                   MLE   Df Model:                           12\n",
            "Date:                        Tue, 27 Sep 2022   Pseudo R-squ.:                  0.1536\n",
            "Time:                                11:24:38   Log-Likelihood:                -13417.\n",
            "converged:                               True   LL-Null:                       -15853.\n",
            "Covariance Type:                    nonrobust   LLR p-value:                     0.000\n",
            "=================================================================================\n",
            "                    coef    std err          z      P>|z|      [0.025      0.975]\n",
            "---------------------------------------------------------------------------------\n",
            "AGE              -0.0090      0.001     -6.729      0.000      -0.012      -0.006\n",
            "EDUCATION_NEW    -0.1708      0.021     -8.182      0.000      -0.212      -0.130\n",
            "MARRIAGE_NEW     -0.4409      0.022    -20.342      0.000      -0.483      -0.398\n",
            "PAY_0_new         0.8930      0.022     40.610      0.000       0.850       0.936\n",
            "PAY_3_new         0.1626      0.023      7.226      0.000       0.118       0.207\n",
            "PAY_5_new         0.1511      0.030      5.031      0.000       0.092       0.210\n",
            "PAY_6_new         0.1442      0.029      5.013      0.000       0.088       0.201\n",
            "LIMIT_BAL_NEW -1.752e-06   1.49e-07    -11.800      0.000   -2.04e-06   -1.46e-06\n",
            "PAY_AMT1_new  -1.264e-05   3.08e-06     -4.097      0.000   -1.87e-05   -6.59e-06\n",
            "PAY_AMT2_new  -1.882e-05   3.25e-06     -5.786      0.000   -2.52e-05   -1.24e-05\n",
            "PAY_AMT3_new  -1.224e-05   3.07e-06     -3.987      0.000   -1.83e-05   -6.22e-06\n",
            "PAY_AMT5_new   -1.04e-05   3.26e-06     -3.193      0.001   -1.68e-05   -4.02e-06\n",
            "PAY_AMT6_new  -8.278e-06   2.75e-06     -3.011      0.003   -1.37e-05   -2.89e-06\n",
            "=================================================================================\n"
          ]
        }
      ]
    },
    {
      "cell_type": "code",
      "source": [],
      "metadata": {
        "id": "VapKAIilqx-g"
      },
      "execution_count": null,
      "outputs": []
    },
    {
      "cell_type": "markdown",
      "source": [
        "##Confusion Matrix & Accuracy"
      ],
      "metadata": {
        "id": "Ax_TcUtkre5Q"
      }
    },
    {
      "cell_type": "code",
      "source": [
        "from sklearn.linear_model import LogisticRegression\n",
        "logistic = LogisticRegression()\n",
        "logistic.fit(UCI_Credit_Card2[['AGE']+['EDUCATION_NEW']+['MARRIAGE_NEW']+['PAY_0_new']+['PAY_3_new']+['PAY_5_new']+\n",
        "                                          ['PAY_6_new']+['LIMIT_BAL_NEW']+['PAY_AMT1_new']+['PAY_AMT2_new']+['PAY_AMT3_new']+\n",
        "                                          ['PAY_AMT5_new']+['PAY_AMT6_new']],UCI_Credit_Card2[\"default.payment.next.month\"])"
      ],
      "metadata": {
        "colab": {
          "base_uri": "https://localhost:8080/"
        },
        "id": "rrtdlcZlsl-L",
        "outputId": "bb13a620-53a2-4573-9de6-4f67642f3289"
      },
      "execution_count": null,
      "outputs": [
        {
          "output_type": "execute_result",
          "data": {
            "text/plain": [
              "LogisticRegression()"
            ]
          },
          "metadata": {},
          "execution_count": 120
        }
      ]
    },
    {
      "cell_type": "code",
      "source": [
        "import numpy as np\n",
        "import matplotlib.pyplot as plt\n",
        "from sklearn.metrics import confusion_matrix"
      ],
      "metadata": {
        "id": "DTqTWbPure5j"
      },
      "execution_count": null,
      "outputs": []
    },
    {
      "cell_type": "code",
      "source": [
        "predict2=logistic.predict(UCI_Credit_Card2[['AGE']+['EDUCATION_NEW']+['MARRIAGE_NEW']+['PAY_0_new']+['PAY_3_new']+['PAY_5_new']+\n",
        "                                          ['PAY_6_new']+['LIMIT_BAL_NEW']+['PAY_AMT1_new']+['PAY_AMT2_new']+['PAY_AMT3_new']+\n",
        "                                          ['PAY_AMT5_new']+['PAY_AMT6_new']])\n",
        "predict2\n",
        "\n",
        "cm2 = confusion_matrix(UCI_Credit_Card2[[\"default.payment.next.month\"]],predict2)\n",
        "print(cm2)"
      ],
      "metadata": {
        "colab": {
          "base_uri": "https://localhost:8080/"
        },
        "outputId": "c67679f1-13f6-4e14-ccf4-a4f7e92f7b33",
        "id": "6nsCkDHJre5r"
      },
      "execution_count": null,
      "outputs": [
        {
          "output_type": "stream",
          "name": "stdout",
          "text": [
            "[[23364     0]\n",
            " [ 6636     0]]\n"
          ]
        }
      ]
    },
    {
      "cell_type": "code",
      "source": [
        "print(\"col sums\", sum(cm2))\n",
        "total2=sum(sum(cm2))\n",
        "print(\"Total\", total1)"
      ],
      "metadata": {
        "colab": {
          "base_uri": "https://localhost:8080/"
        },
        "outputId": "bf399098-7167-4655-9fc6-52a5209c4413",
        "id": "HSgjixuMre5v"
      },
      "execution_count": null,
      "outputs": [
        {
          "output_type": "stream",
          "name": "stdout",
          "text": [
            "col sums [30000     0]\n",
            "Total 30000\n"
          ]
        }
      ]
    },
    {
      "cell_type": "code",
      "source": [
        "accuracy2=(cm2[0,0]+cm2[1,1])/total2\n",
        "accuracy2"
      ],
      "metadata": {
        "colab": {
          "base_uri": "https://localhost:8080/"
        },
        "outputId": "59450115-d145-4934-e3cf-7ad4ff8c594e",
        "id": "DpWGoziWre5v"
      },
      "execution_count": null,
      "outputs": [
        {
          "output_type": "execute_result",
          "data": {
            "text/plain": [
              "0.7788"
            ]
          },
          "metadata": {},
          "execution_count": 128
        }
      ]
    },
    {
      "cell_type": "markdown",
      "source": [
        "#Train and Test Data \n"
      ],
      "metadata": {
        "id": "pCx6bOXItUcO"
      }
    },
    {
      "cell_type": "code",
      "source": [
        "UCI_Credit_Card2"
      ],
      "metadata": {
        "colab": {
          "base_uri": "https://localhost:8080/",
          "height": 488
        },
        "id": "_pX0y7x-tarO",
        "outputId": "7af40721-8e22-4d75-da6b-3931feef17fe"
      },
      "execution_count": null,
      "outputs": [
        {
          "output_type": "execute_result",
          "data": {
            "text/plain": [
              "       AGE  EDUCATION_NEW  MARRIAGE_NEW  PAY_0_new  PAY_2_new  PAY_3_new  \\\n",
              "0       24              2             1          2          2          0   \n",
              "1       26              2             2          0          2          0   \n",
              "2       34              2             2          0          0          0   \n",
              "3       37              2             1          0          0          0   \n",
              "4       57              2             1          0          0          0   \n",
              "...    ...            ...           ...        ...        ...        ...   \n",
              "29995   39              3             1          0          0          0   \n",
              "29996   43              3             2          0          0          0   \n",
              "29997   37              2             2          4          3          2   \n",
              "29998   41              3             1          1          0          0   \n",
              "29999   46              2             1          0          0          0   \n",
              "\n",
              "       PAY_4_new  PAY_5_new  PAY_6_new  LIMIT_BAL_NEW  BILL_AMT1_new  \\\n",
              "0              0          0          0        20000.0         3913.0   \n",
              "1              0          0          2       120000.0         2682.0   \n",
              "2              0          0          0        90000.0        29239.0   \n",
              "3              0          0          0        50000.0        46990.0   \n",
              "4              0          0          0        50000.0         8617.0   \n",
              "...          ...        ...        ...            ...            ...   \n",
              "29995          0          0          0       220000.0       188948.0   \n",
              "29996          0          0          0       150000.0         1683.0   \n",
              "29997          0          0          0        30000.0         3565.0   \n",
              "29998          0          0          0        80000.0          -90.5   \n",
              "29999          0          0          0        50000.0        47929.0   \n",
              "\n",
              "       BILL_AMT2_new  BILL_AMT3_new  BILL_AMT4_new  BILL_AMT5_new  \\\n",
              "0             3102.0          689.0            0.0            0.0   \n",
              "1             1725.0         2682.0         3272.0         3455.0   \n",
              "2            14027.0        13559.0        14331.0        14948.0   \n",
              "3            48233.0        49291.0        28314.0        28959.0   \n",
              "4             5670.0        35835.0        20940.0        19146.0   \n",
              "...              ...            ...            ...            ...   \n",
              "29995       192815.0       208365.0        88004.0        31237.0   \n",
              "29996         1828.0         3502.0         8979.0         5190.0   \n",
              "29997         3356.0         2758.0        20878.0        20582.0   \n",
              "29998        78379.0        76304.0        52774.0        11855.0   \n",
              "29999        48905.0        49764.0        36535.0        32428.0   \n",
              "\n",
              "       BILL_AMT6_new  PAY_AMT1_new  PAY_AMT2_new  PAY_AMT3_new  PAY_AMT4_new  \\\n",
              "0                0.0           0.0         689.0           0.0           0.0   \n",
              "1             3261.0           0.0        1000.0        1000.0        1000.0   \n",
              "2            15549.0        1518.0        1500.0        1000.0        1000.0   \n",
              "3            29547.0        2000.0        2019.0        1200.0        1100.0   \n",
              "4            19131.0        2000.0       36681.0       10000.0        9000.0   \n",
              "...              ...           ...           ...           ...           ...   \n",
              "29995        15980.0        8500.0       20000.0        5003.0        3047.0   \n",
              "29996            0.0        1837.0        3526.0        8998.0         129.0   \n",
              "29997        19357.0           0.0           0.0       22000.0        4200.0   \n",
              "29998        48944.0        2100.0        3409.0        1178.0        1926.0   \n",
              "29999        15313.0        2078.0        1800.0        1430.0        1000.0   \n",
              "\n",
              "       PAY_AMT5_new  PAY_AMT6_new  default.payment.next.month  \n",
              "0               0.0           0.0                           1  \n",
              "1               0.0        2000.0                           1  \n",
              "2            1000.0        5000.0                           0  \n",
              "3            1069.0        1000.0                           0  \n",
              "4             689.0         679.0                           0  \n",
              "...             ...           ...                         ...  \n",
              "29995        5000.0        1000.0                           0  \n",
              "29996           0.0           0.0                           0  \n",
              "29997        2000.0        3100.0                           1  \n",
              "29998       52964.0        1804.0                           1  \n",
              "29999        1000.0        1000.0                           1  \n",
              "\n",
              "[30000 rows x 23 columns]"
            ],
            "text/html": [
              "\n",
              "  <div id=\"df-cad6b669-38ef-4f64-8f50-8f62518a9cec\">\n",
              "    <div class=\"colab-df-container\">\n",
              "      <div>\n",
              "<style scoped>\n",
              "    .dataframe tbody tr th:only-of-type {\n",
              "        vertical-align: middle;\n",
              "    }\n",
              "\n",
              "    .dataframe tbody tr th {\n",
              "        vertical-align: top;\n",
              "    }\n",
              "\n",
              "    .dataframe thead th {\n",
              "        text-align: right;\n",
              "    }\n",
              "</style>\n",
              "<table border=\"1\" class=\"dataframe\">\n",
              "  <thead>\n",
              "    <tr style=\"text-align: right;\">\n",
              "      <th></th>\n",
              "      <th>AGE</th>\n",
              "      <th>EDUCATION_NEW</th>\n",
              "      <th>MARRIAGE_NEW</th>\n",
              "      <th>PAY_0_new</th>\n",
              "      <th>PAY_2_new</th>\n",
              "      <th>PAY_3_new</th>\n",
              "      <th>PAY_4_new</th>\n",
              "      <th>PAY_5_new</th>\n",
              "      <th>PAY_6_new</th>\n",
              "      <th>LIMIT_BAL_NEW</th>\n",
              "      <th>BILL_AMT1_new</th>\n",
              "      <th>BILL_AMT2_new</th>\n",
              "      <th>BILL_AMT3_new</th>\n",
              "      <th>BILL_AMT4_new</th>\n",
              "      <th>BILL_AMT5_new</th>\n",
              "      <th>BILL_AMT6_new</th>\n",
              "      <th>PAY_AMT1_new</th>\n",
              "      <th>PAY_AMT2_new</th>\n",
              "      <th>PAY_AMT3_new</th>\n",
              "      <th>PAY_AMT4_new</th>\n",
              "      <th>PAY_AMT5_new</th>\n",
              "      <th>PAY_AMT6_new</th>\n",
              "      <th>default.payment.next.month</th>\n",
              "    </tr>\n",
              "  </thead>\n",
              "  <tbody>\n",
              "    <tr>\n",
              "      <th>0</th>\n",
              "      <td>24</td>\n",
              "      <td>2</td>\n",
              "      <td>1</td>\n",
              "      <td>2</td>\n",
              "      <td>2</td>\n",
              "      <td>0</td>\n",
              "      <td>0</td>\n",
              "      <td>0</td>\n",
              "      <td>0</td>\n",
              "      <td>20000.0</td>\n",
              "      <td>3913.0</td>\n",
              "      <td>3102.0</td>\n",
              "      <td>689.0</td>\n",
              "      <td>0.0</td>\n",
              "      <td>0.0</td>\n",
              "      <td>0.0</td>\n",
              "      <td>0.0</td>\n",
              "      <td>689.0</td>\n",
              "      <td>0.0</td>\n",
              "      <td>0.0</td>\n",
              "      <td>0.0</td>\n",
              "      <td>0.0</td>\n",
              "      <td>1</td>\n",
              "    </tr>\n",
              "    <tr>\n",
              "      <th>1</th>\n",
              "      <td>26</td>\n",
              "      <td>2</td>\n",
              "      <td>2</td>\n",
              "      <td>0</td>\n",
              "      <td>2</td>\n",
              "      <td>0</td>\n",
              "      <td>0</td>\n",
              "      <td>0</td>\n",
              "      <td>2</td>\n",
              "      <td>120000.0</td>\n",
              "      <td>2682.0</td>\n",
              "      <td>1725.0</td>\n",
              "      <td>2682.0</td>\n",
              "      <td>3272.0</td>\n",
              "      <td>3455.0</td>\n",
              "      <td>3261.0</td>\n",
              "      <td>0.0</td>\n",
              "      <td>1000.0</td>\n",
              "      <td>1000.0</td>\n",
              "      <td>1000.0</td>\n",
              "      <td>0.0</td>\n",
              "      <td>2000.0</td>\n",
              "      <td>1</td>\n",
              "    </tr>\n",
              "    <tr>\n",
              "      <th>2</th>\n",
              "      <td>34</td>\n",
              "      <td>2</td>\n",
              "      <td>2</td>\n",
              "      <td>0</td>\n",
              "      <td>0</td>\n",
              "      <td>0</td>\n",
              "      <td>0</td>\n",
              "      <td>0</td>\n",
              "      <td>0</td>\n",
              "      <td>90000.0</td>\n",
              "      <td>29239.0</td>\n",
              "      <td>14027.0</td>\n",
              "      <td>13559.0</td>\n",
              "      <td>14331.0</td>\n",
              "      <td>14948.0</td>\n",
              "      <td>15549.0</td>\n",
              "      <td>1518.0</td>\n",
              "      <td>1500.0</td>\n",
              "      <td>1000.0</td>\n",
              "      <td>1000.0</td>\n",
              "      <td>1000.0</td>\n",
              "      <td>5000.0</td>\n",
              "      <td>0</td>\n",
              "    </tr>\n",
              "    <tr>\n",
              "      <th>3</th>\n",
              "      <td>37</td>\n",
              "      <td>2</td>\n",
              "      <td>1</td>\n",
              "      <td>0</td>\n",
              "      <td>0</td>\n",
              "      <td>0</td>\n",
              "      <td>0</td>\n",
              "      <td>0</td>\n",
              "      <td>0</td>\n",
              "      <td>50000.0</td>\n",
              "      <td>46990.0</td>\n",
              "      <td>48233.0</td>\n",
              "      <td>49291.0</td>\n",
              "      <td>28314.0</td>\n",
              "      <td>28959.0</td>\n",
              "      <td>29547.0</td>\n",
              "      <td>2000.0</td>\n",
              "      <td>2019.0</td>\n",
              "      <td>1200.0</td>\n",
              "      <td>1100.0</td>\n",
              "      <td>1069.0</td>\n",
              "      <td>1000.0</td>\n",
              "      <td>0</td>\n",
              "    </tr>\n",
              "    <tr>\n",
              "      <th>4</th>\n",
              "      <td>57</td>\n",
              "      <td>2</td>\n",
              "      <td>1</td>\n",
              "      <td>0</td>\n",
              "      <td>0</td>\n",
              "      <td>0</td>\n",
              "      <td>0</td>\n",
              "      <td>0</td>\n",
              "      <td>0</td>\n",
              "      <td>50000.0</td>\n",
              "      <td>8617.0</td>\n",
              "      <td>5670.0</td>\n",
              "      <td>35835.0</td>\n",
              "      <td>20940.0</td>\n",
              "      <td>19146.0</td>\n",
              "      <td>19131.0</td>\n",
              "      <td>2000.0</td>\n",
              "      <td>36681.0</td>\n",
              "      <td>10000.0</td>\n",
              "      <td>9000.0</td>\n",
              "      <td>689.0</td>\n",
              "      <td>679.0</td>\n",
              "      <td>0</td>\n",
              "    </tr>\n",
              "    <tr>\n",
              "      <th>...</th>\n",
              "      <td>...</td>\n",
              "      <td>...</td>\n",
              "      <td>...</td>\n",
              "      <td>...</td>\n",
              "      <td>...</td>\n",
              "      <td>...</td>\n",
              "      <td>...</td>\n",
              "      <td>...</td>\n",
              "      <td>...</td>\n",
              "      <td>...</td>\n",
              "      <td>...</td>\n",
              "      <td>...</td>\n",
              "      <td>...</td>\n",
              "      <td>...</td>\n",
              "      <td>...</td>\n",
              "      <td>...</td>\n",
              "      <td>...</td>\n",
              "      <td>...</td>\n",
              "      <td>...</td>\n",
              "      <td>...</td>\n",
              "      <td>...</td>\n",
              "      <td>...</td>\n",
              "      <td>...</td>\n",
              "    </tr>\n",
              "    <tr>\n",
              "      <th>29995</th>\n",
              "      <td>39</td>\n",
              "      <td>3</td>\n",
              "      <td>1</td>\n",
              "      <td>0</td>\n",
              "      <td>0</td>\n",
              "      <td>0</td>\n",
              "      <td>0</td>\n",
              "      <td>0</td>\n",
              "      <td>0</td>\n",
              "      <td>220000.0</td>\n",
              "      <td>188948.0</td>\n",
              "      <td>192815.0</td>\n",
              "      <td>208365.0</td>\n",
              "      <td>88004.0</td>\n",
              "      <td>31237.0</td>\n",
              "      <td>15980.0</td>\n",
              "      <td>8500.0</td>\n",
              "      <td>20000.0</td>\n",
              "      <td>5003.0</td>\n",
              "      <td>3047.0</td>\n",
              "      <td>5000.0</td>\n",
              "      <td>1000.0</td>\n",
              "      <td>0</td>\n",
              "    </tr>\n",
              "    <tr>\n",
              "      <th>29996</th>\n",
              "      <td>43</td>\n",
              "      <td>3</td>\n",
              "      <td>2</td>\n",
              "      <td>0</td>\n",
              "      <td>0</td>\n",
              "      <td>0</td>\n",
              "      <td>0</td>\n",
              "      <td>0</td>\n",
              "      <td>0</td>\n",
              "      <td>150000.0</td>\n",
              "      <td>1683.0</td>\n",
              "      <td>1828.0</td>\n",
              "      <td>3502.0</td>\n",
              "      <td>8979.0</td>\n",
              "      <td>5190.0</td>\n",
              "      <td>0.0</td>\n",
              "      <td>1837.0</td>\n",
              "      <td>3526.0</td>\n",
              "      <td>8998.0</td>\n",
              "      <td>129.0</td>\n",
              "      <td>0.0</td>\n",
              "      <td>0.0</td>\n",
              "      <td>0</td>\n",
              "    </tr>\n",
              "    <tr>\n",
              "      <th>29997</th>\n",
              "      <td>37</td>\n",
              "      <td>2</td>\n",
              "      <td>2</td>\n",
              "      <td>4</td>\n",
              "      <td>3</td>\n",
              "      <td>2</td>\n",
              "      <td>0</td>\n",
              "      <td>0</td>\n",
              "      <td>0</td>\n",
              "      <td>30000.0</td>\n",
              "      <td>3565.0</td>\n",
              "      <td>3356.0</td>\n",
              "      <td>2758.0</td>\n",
              "      <td>20878.0</td>\n",
              "      <td>20582.0</td>\n",
              "      <td>19357.0</td>\n",
              "      <td>0.0</td>\n",
              "      <td>0.0</td>\n",
              "      <td>22000.0</td>\n",
              "      <td>4200.0</td>\n",
              "      <td>2000.0</td>\n",
              "      <td>3100.0</td>\n",
              "      <td>1</td>\n",
              "    </tr>\n",
              "    <tr>\n",
              "      <th>29998</th>\n",
              "      <td>41</td>\n",
              "      <td>3</td>\n",
              "      <td>1</td>\n",
              "      <td>1</td>\n",
              "      <td>0</td>\n",
              "      <td>0</td>\n",
              "      <td>0</td>\n",
              "      <td>0</td>\n",
              "      <td>0</td>\n",
              "      <td>80000.0</td>\n",
              "      <td>-90.5</td>\n",
              "      <td>78379.0</td>\n",
              "      <td>76304.0</td>\n",
              "      <td>52774.0</td>\n",
              "      <td>11855.0</td>\n",
              "      <td>48944.0</td>\n",
              "      <td>2100.0</td>\n",
              "      <td>3409.0</td>\n",
              "      <td>1178.0</td>\n",
              "      <td>1926.0</td>\n",
              "      <td>52964.0</td>\n",
              "      <td>1804.0</td>\n",
              "      <td>1</td>\n",
              "    </tr>\n",
              "    <tr>\n",
              "      <th>29999</th>\n",
              "      <td>46</td>\n",
              "      <td>2</td>\n",
              "      <td>1</td>\n",
              "      <td>0</td>\n",
              "      <td>0</td>\n",
              "      <td>0</td>\n",
              "      <td>0</td>\n",
              "      <td>0</td>\n",
              "      <td>0</td>\n",
              "      <td>50000.0</td>\n",
              "      <td>47929.0</td>\n",
              "      <td>48905.0</td>\n",
              "      <td>49764.0</td>\n",
              "      <td>36535.0</td>\n",
              "      <td>32428.0</td>\n",
              "      <td>15313.0</td>\n",
              "      <td>2078.0</td>\n",
              "      <td>1800.0</td>\n",
              "      <td>1430.0</td>\n",
              "      <td>1000.0</td>\n",
              "      <td>1000.0</td>\n",
              "      <td>1000.0</td>\n",
              "      <td>1</td>\n",
              "    </tr>\n",
              "  </tbody>\n",
              "</table>\n",
              "<p>30000 rows × 23 columns</p>\n",
              "</div>\n",
              "      <button class=\"colab-df-convert\" onclick=\"convertToInteractive('df-cad6b669-38ef-4f64-8f50-8f62518a9cec')\"\n",
              "              title=\"Convert this dataframe to an interactive table.\"\n",
              "              style=\"display:none;\">\n",
              "        \n",
              "  <svg xmlns=\"http://www.w3.org/2000/svg\" height=\"24px\"viewBox=\"0 0 24 24\"\n",
              "       width=\"24px\">\n",
              "    <path d=\"M0 0h24v24H0V0z\" fill=\"none\"/>\n",
              "    <path d=\"M18.56 5.44l.94 2.06.94-2.06 2.06-.94-2.06-.94-.94-2.06-.94 2.06-2.06.94zm-11 1L8.5 8.5l.94-2.06 2.06-.94-2.06-.94L8.5 2.5l-.94 2.06-2.06.94zm10 10l.94 2.06.94-2.06 2.06-.94-2.06-.94-.94-2.06-.94 2.06-2.06.94z\"/><path d=\"M17.41 7.96l-1.37-1.37c-.4-.4-.92-.59-1.43-.59-.52 0-1.04.2-1.43.59L10.3 9.45l-7.72 7.72c-.78.78-.78 2.05 0 2.83L4 21.41c.39.39.9.59 1.41.59.51 0 1.02-.2 1.41-.59l7.78-7.78 2.81-2.81c.8-.78.8-2.07 0-2.86zM5.41 20L4 18.59l7.72-7.72 1.47 1.35L5.41 20z\"/>\n",
              "  </svg>\n",
              "      </button>\n",
              "      \n",
              "  <style>\n",
              "    .colab-df-container {\n",
              "      display:flex;\n",
              "      flex-wrap:wrap;\n",
              "      gap: 12px;\n",
              "    }\n",
              "\n",
              "    .colab-df-convert {\n",
              "      background-color: #E8F0FE;\n",
              "      border: none;\n",
              "      border-radius: 50%;\n",
              "      cursor: pointer;\n",
              "      display: none;\n",
              "      fill: #1967D2;\n",
              "      height: 32px;\n",
              "      padding: 0 0 0 0;\n",
              "      width: 32px;\n",
              "    }\n",
              "\n",
              "    .colab-df-convert:hover {\n",
              "      background-color: #E2EBFA;\n",
              "      box-shadow: 0px 1px 2px rgba(60, 64, 67, 0.3), 0px 1px 3px 1px rgba(60, 64, 67, 0.15);\n",
              "      fill: #174EA6;\n",
              "    }\n",
              "\n",
              "    [theme=dark] .colab-df-convert {\n",
              "      background-color: #3B4455;\n",
              "      fill: #D2E3FC;\n",
              "    }\n",
              "\n",
              "    [theme=dark] .colab-df-convert:hover {\n",
              "      background-color: #434B5C;\n",
              "      box-shadow: 0px 1px 3px 1px rgba(0, 0, 0, 0.15);\n",
              "      filter: drop-shadow(0px 1px 2px rgba(0, 0, 0, 0.3));\n",
              "      fill: #FFFFFF;\n",
              "    }\n",
              "  </style>\n",
              "\n",
              "      <script>\n",
              "        const buttonEl =\n",
              "          document.querySelector('#df-cad6b669-38ef-4f64-8f50-8f62518a9cec button.colab-df-convert');\n",
              "        buttonEl.style.display =\n",
              "          google.colab.kernel.accessAllowed ? 'block' : 'none';\n",
              "\n",
              "        async function convertToInteractive(key) {\n",
              "          const element = document.querySelector('#df-cad6b669-38ef-4f64-8f50-8f62518a9cec');\n",
              "          const dataTable =\n",
              "            await google.colab.kernel.invokeFunction('convertToInteractive',\n",
              "                                                     [key], {});\n",
              "          if (!dataTable) return;\n",
              "\n",
              "          const docLinkHtml = 'Like what you see? Visit the ' +\n",
              "            '<a target=\"_blank\" href=https://colab.research.google.com/notebooks/data_table.ipynb>data table notebook</a>'\n",
              "            + ' to learn more about interactive tables.';\n",
              "          element.innerHTML = '';\n",
              "          dataTable['output_type'] = 'display_data';\n",
              "          await google.colab.output.renderOutput(dataTable, element);\n",
              "          const docLink = document.createElement('div');\n",
              "          docLink.innerHTML = docLinkHtml;\n",
              "          element.appendChild(docLink);\n",
              "        }\n",
              "      </script>\n",
              "    </div>\n",
              "  </div>\n",
              "  "
            ]
          },
          "metadata": {},
          "execution_count": 129
        }
      ]
    },
    {
      "cell_type": "code",
      "source": [
        "# split into train test sets\n",
        "train, test = train_test_split(UCI_Credit_Card2)"
      ],
      "metadata": {
        "id": "E8k5icD6vhCI"
      },
      "execution_count": null,
      "outputs": []
    },
    {
      "cell_type": "code",
      "source": [
        "y = UCI_Credit_Card2[[\"default.payment.next.month\"]]\n",
        "x = UCI_Credit_Card2.drop([\"default.payment.next.month\"], axis=1)"
      ],
      "metadata": {
        "id": "08_88oemvgmY"
      },
      "execution_count": null,
      "outputs": []
    },
    {
      "cell_type": "code",
      "source": [
        "from sklearn.model_selection import train_test_split"
      ],
      "metadata": {
        "id": "jAnF_5ePtaoY"
      },
      "execution_count": null,
      "outputs": []
    },
    {
      "cell_type": "code",
      "source": [
        "x_train, x_test, y_train, y_test = train_test_split(x,y, test_size = 0.2)\n",
        "x_train.columns"
      ],
      "metadata": {
        "colab": {
          "base_uri": "https://localhost:8080/"
        },
        "id": "VG3_y4H1taio",
        "outputId": "9ca74692-02aa-47d0-ab41-f31d7b51a6c1"
      },
      "execution_count": null,
      "outputs": [
        {
          "output_type": "execute_result",
          "data": {
            "text/plain": [
              "Index(['AGE', 'EDUCATION_NEW', 'MARRIAGE_NEW', 'PAY_0_new', 'PAY_2_new',\n",
              "       'PAY_3_new', 'PAY_4_new', 'PAY_5_new', 'PAY_6_new', 'LIMIT_BAL_NEW',\n",
              "       'BILL_AMT1_new', 'BILL_AMT2_new', 'BILL_AMT3_new', 'BILL_AMT4_new',\n",
              "       'BILL_AMT5_new', 'BILL_AMT6_new', 'PAY_AMT1_new', 'PAY_AMT2_new',\n",
              "       'PAY_AMT3_new', 'PAY_AMT4_new', 'PAY_AMT5_new', 'PAY_AMT6_new'],\n",
              "      dtype='object')"
            ]
          },
          "metadata": {},
          "execution_count": 142
        }
      ]
    },
    {
      "cell_type": "markdown",
      "source": [
        "#Decision Tree"
      ],
      "metadata": {
        "id": "aiRNOSl-yNzA"
      }
    },
    {
      "cell_type": "code",
      "source": [
        "from sklearn import tree\n",
        "\n",
        "features= ['AGE', 'EDUCATION_NEW', 'MARRIAGE_NEW', 'PAY_0_new', 'PAY_2_new',\n",
        "       'PAY_3_new', 'PAY_4_new', 'PAY_5_new', 'PAY_6_new', 'LIMIT_BAL_NEW',\n",
        "       'BILL_AMT1_new', 'BILL_AMT2_new', 'BILL_AMT3_new', 'BILL_AMT4_new',\n",
        "       'BILL_AMT5_new', 'BILL_AMT6_new', 'PAY_AMT1_new', 'PAY_AMT2_new',\n",
        "       'PAY_AMT3_new', 'PAY_AMT4_new', 'PAY_AMT5_new', 'PAY_AMT6_new']\n",
        "print(\"Features\",features)\n"
      ],
      "metadata": {
        "colab": {
          "base_uri": "https://localhost:8080/"
        },
        "id": "9IHkJVxjyRBy",
        "outputId": "b85fb8d1-5174-4a77-cad1-6164a5d3df1d"
      },
      "execution_count": null,
      "outputs": [
        {
          "output_type": "stream",
          "name": "stdout",
          "text": [
            "Features ['AGE', 'EDUCATION_NEW', 'MARRIAGE_NEW', 'PAY_0_new', 'PAY_2_new', 'PAY_3_new', 'PAY_4_new', 'PAY_5_new', 'PAY_6_new', 'LIMIT_BAL_NEW', 'BILL_AMT1_new', 'BILL_AMT2_new', 'BILL_AMT3_new', 'BILL_AMT4_new', 'BILL_AMT5_new', 'BILL_AMT6_new', 'PAY_AMT1_new', 'PAY_AMT2_new', 'PAY_AMT3_new', 'PAY_AMT4_new', 'PAY_AMT5_new', 'PAY_AMT6_new']\n"
          ]
        }
      ]
    },
    {
      "cell_type": "code",
      "source": [
        "#Building Tree Model\n",
        "DTree = tree.DecisionTreeClassifier(max_depth=3)\n",
        "DTree.fit(x_train,y_train)\n",
        "\n",
        "##Plotting the trees \n",
        "import matplotlib.pyplot as plt\n",
        "from sklearn.tree import plot_tree, export_text\n",
        "plt.figure(figsize=(20,10))\n",
        "plot_tree(DTree, filled=True, \n",
        "                     rounded=True,\n",
        "                     impurity=False,\n",
        "                     feature_names = features)\n",
        "print( export_text(DTree, feature_names = features))"
      ],
      "metadata": {
        "id": "NbN-C0SHyRAC"
      },
      "execution_count": null,
      "outputs": []
    },
    {
      "cell_type": "markdown",
      "source": [
        "#Tree Validation"
      ],
      "metadata": {
        "id": "Ylnk2Bvb76S7"
      }
    },
    {
      "cell_type": "code",
      "source": [
        "##########Tree Validation\n",
        "#Tree Validation\n",
        "predict1 = DTree.predict(x_train)\n",
        "\n",
        "from sklearn.metrics import confusion_matrix ###for using confusion matrix###\n",
        "cm1 = confusion_matrix(y_train, predict1)\n",
        "print (cm1)\n",
        "\n",
        "total = sum(sum(cm1))\n",
        "#####from confusion matrix calculate accuracy\n",
        "accuracy = (cm1[0,0]+cm[1,1])/total\n",
        "print(accuracy)"
      ],
      "metadata": {
        "colab": {
          "base_uri": "https://localhost:8080/"
        },
        "id": "5x2oxlELyQ74",
        "outputId": "4cdd3537-eab4-4355-c731-32fab5348628"
      },
      "execution_count": null,
      "outputs": [
        {
          "output_type": "stream",
          "name": "stdout",
          "text": [
            "[[17738   952]\n",
            " [ 3322  1988]]\n",
            "0.739125\n"
          ]
        }
      ]
    },
    {
      "cell_type": "markdown",
      "source": [
        "#Problem of Overfitting"
      ],
      "metadata": {
        "id": "dyn9zZVW8RAp"
      }
    },
    {
      "cell_type": "code",
      "source": [
        "#training Tree Model\n",
        "clf = tree.DecisionTreeClassifier()\n",
        "clf.fit(x_train,y_train)\n",
        "\n",
        "predict1 = clf.predict(x_train)\n",
        "predict2 = clf.predict(x_test)\n",
        "\n",
        "#On Train Data\n",
        "cm1 = confusion_matrix(y_train,predict1)\n",
        "total1 = sum(sum(cm1))\n",
        "accuracy1 = (cm1[0,0]+cm1[1,1])/total1\n",
        "print(\"Train Accuracy\", accuracy1)\n",
        "\n",
        "#On Test Data\n",
        "cm2 = confusion_matrix(y_test,predict2)\n",
        "total2 = sum(sum(cm2))\n",
        "accuracy2 = (cm2[0,0]+cm2[1,1])/total2\n",
        "print(\"Test Accuracy\", accuracy2)"
      ],
      "metadata": {
        "colab": {
          "base_uri": "https://localhost:8080/"
        },
        "id": "1E7o3ImAyQ3w",
        "outputId": "3ed620a1-a620-4d1a-dd4d-aa75e7f94b81"
      },
      "execution_count": null,
      "outputs": [
        {
          "output_type": "stream",
          "name": "stdout",
          "text": [
            "Train Accuracy 0.9990833333333333\n",
            "Test Accuracy 0.728\n"
          ]
        }
      ]
    },
    {
      "cell_type": "markdown",
      "source": [
        "Train data has accuracy of 99% and Test data has significantaly low accuracy hence there is a clear case of over fitting."
      ],
      "metadata": {
        "id": "A2ouwqnY873S"
      }
    },
    {
      "cell_type": "markdown",
      "source": [
        "#Purining "
      ],
      "metadata": {
        "id": "ZUXGrBu09Pfr"
      }
    },
    {
      "cell_type": "markdown",
      "source": [
        "##Max_Leaf_nodes_fintuning"
      ],
      "metadata": {
        "id": "9MnGAamX9VlS"
      }
    },
    {
      "cell_type": "code",
      "source": [
        "#training Tree Model\n",
        "clf = tree.DecisionTreeClassifier(max_leaf_nodes =16)\n",
        "clf.fit(x_train,y_train)\n",
        "\n",
        "predict1 = clf.predict(x_train)\n",
        "predict2 = clf.predict(x_test)\n",
        "\n",
        "#On Train Data\n",
        "cm1 = confusion_matrix(y_train,predict1)\n",
        "total1 = sum(sum(cm1))\n",
        "accuracy1 = (cm1[0,0]+cm1[1,1])/total1\n",
        "print(\"Train Accuracy\", accuracy1)\n",
        "\n",
        "#On Test Data\n",
        "cm2 = confusion_matrix(y_test,predict2)\n",
        "total2 = sum(sum(cm2))\n",
        "accuracy2 = (cm2[0,0]+cm2[1,1])/total2\n",
        "print(\"Test Accuracy\", accuracy2)"
      ],
      "metadata": {
        "colab": {
          "base_uri": "https://localhost:8080/"
        },
        "id": "brRKyJXn9b0K",
        "outputId": "c5eff594-4970-43c3-dfbc-fa01ca67066c"
      },
      "execution_count": null,
      "outputs": [
        {
          "output_type": "stream",
          "name": "stdout",
          "text": [
            "Train Accuracy 0.8220833333333334\n",
            "Test Accuracy 0.8203333333333334\n"
          ]
        }
      ]
    },
    {
      "cell_type": "code",
      "source": [],
      "metadata": {
        "id": "WhoYc-gVyQzX"
      },
      "execution_count": null,
      "outputs": []
    },
    {
      "cell_type": "markdown",
      "source": [
        "# Model Deployment\n",
        "Optional step"
      ],
      "metadata": {
        "id": "I3t1p0r1RPnH"
      }
    },
    {
      "cell_type": "code",
      "source": [],
      "metadata": {
        "id": "dV-2tRtGfe6T"
      },
      "execution_count": null,
      "outputs": []
    }
  ]
}